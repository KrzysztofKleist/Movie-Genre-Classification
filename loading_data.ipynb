{
 "cells": [
  {
   "cell_type": "code",
   "execution_count": 1,
   "metadata": {},
   "outputs": [],
   "source": [
    "import torch\n",
    "import torch.nn as nn\n",
    "from torch.backends import cudnn\n",
    "\n",
    "from torchvision import transforms, models\n",
    "from movieframe_dataset import MovieFrameDataset\n",
    "from torch.utils.data import DataLoader, Subset\n",
    "from torchvision.utils import make_grid\n",
    "import matplotlib.pyplot as plt\n",
    "import numpy as np\n",
    "import pandas as pd"
   ]
  },
  {
   "cell_type": "code",
   "execution_count": 2,
   "metadata": {},
   "outputs": [
    {
     "name": "stdout",
     "output_type": "stream",
     "text": [
      "['Action', 'Adventure', 'Comedy', 'Crime', 'Drama', 'Horror', 'Romance', 'Thriller']\n"
     ]
    }
   ],
   "source": [
    "# Creating a list of all genres\n",
    "import os\n",
    "\n",
    "genre_list = []\n",
    "\n",
    "parent_folder = r'D:\\frames'\n",
    "\n",
    "parent_count = 0\n",
    "\n",
    "# Loop over subfolders in the parent folder\n",
    "for subfolder in os.listdir(parent_folder):\n",
    "\n",
    "    for genre in subfolder.split('_'):\n",
    "        if genre not in genre_list:\n",
    "            genre_list.append(genre)\n",
    "            \n",
    "genre_list.sort()\n",
    "\n",
    "print(genre_list)\n"
   ]
  },
  {
   "cell_type": "code",
   "execution_count": 3,
   "metadata": {},
   "outputs": [],
   "source": [
    "# Creating the DataFrame containing names and genres\n",
    "header = ['path', 'genre'] + genre_list\n",
    "data_df = pd.DataFrame(columns=header)\n"
   ]
  },
  {
   "cell_type": "code",
   "execution_count": 4,
   "metadata": {},
   "outputs": [
    {
     "data": {
      "text/html": [
       "<div>\n",
       "<style scoped>\n",
       "    .dataframe tbody tr th:only-of-type {\n",
       "        vertical-align: middle;\n",
       "    }\n",
       "\n",
       "    .dataframe tbody tr th {\n",
       "        vertical-align: top;\n",
       "    }\n",
       "\n",
       "    .dataframe thead th {\n",
       "        text-align: right;\n",
       "    }\n",
       "</style>\n",
       "<table border=\"1\" class=\"dataframe\">\n",
       "  <thead>\n",
       "    <tr style=\"text-align: right;\">\n",
       "      <th></th>\n",
       "      <th>path</th>\n",
       "      <th>genre</th>\n",
       "      <th>Action</th>\n",
       "      <th>Adventure</th>\n",
       "      <th>Comedy</th>\n",
       "      <th>Crime</th>\n",
       "      <th>Drama</th>\n",
       "      <th>Horror</th>\n",
       "      <th>Romance</th>\n",
       "      <th>Thriller</th>\n",
       "    </tr>\n",
       "  </thead>\n",
       "  <tbody>\n",
       "  </tbody>\n",
       "</table>\n",
       "</div>"
      ],
      "text/plain": [
       "Empty DataFrame\n",
       "Columns: [path, genre, Action, Adventure, Comedy, Crime, Drama, Horror, Romance, Thriller]\n",
       "Index: []"
      ]
     },
     "execution_count": 4,
     "metadata": {},
     "output_type": "execute_result"
    }
   ],
   "source": [
    "data_df"
   ]
  },
  {
   "cell_type": "code",
   "execution_count": 5,
   "metadata": {},
   "outputs": [],
   "source": [
    "# Loop over subfolders in the parent folder\n",
    "for subfolder in os.listdir(parent_folder):\n",
    "    \n",
    "    subfolder_path = os.path.join(parent_folder, subfolder)\n",
    "    \n",
    "    if os.path.isdir(subfolder_path):\n",
    "        \n",
    "        # Loop over sub-subfolders in the subfolder\n",
    "        for subsubfolder in os.listdir(subfolder_path):\n",
    "            subsubfolder_path = os.path.join(subfolder_path, subsubfolder)\n",
    "                \n",
    "            for frame in os.listdir(subsubfolder_path):\n",
    "                \n",
    "                frame_path = os.path.join(subsubfolder_path, frame)\n",
    "                \n",
    "                if os.path.exists(frame_path):\n",
    "                    current_genres = subfolder.split('_')\n",
    "                    binary_genre_list = []\n",
    "                \n",
    "                    for genre in genre_list:\n",
    "                        if genre in current_genres:\n",
    "                            binary_genre_list.append(1)\n",
    "                        else:\n",
    "                            binary_genre_list.append(0)\n",
    "                    \n",
    "                    relative_frame_path = frame_path[3:]\n",
    "                    \n",
    "                    row_list = [relative_frame_path, current_genres] + binary_genre_list\n",
    "                    \n",
    "                    row = pd.DataFrame([row_list], columns=header)\n",
    "                    \n",
    "                    data_df = data_df.append(row.iloc[0], ignore_index=True)\n"
   ]
  },
  {
   "cell_type": "code",
   "execution_count": 6,
   "metadata": {},
   "outputs": [],
   "source": [
    "data_df.to_csv(r'files\\data.tsv', sep=\"\\t\")\n"
   ]
  },
  {
   "cell_type": "code",
   "execution_count": 7,
   "metadata": {},
   "outputs": [
    {
     "data": {
      "text/plain": [
       "45845"
      ]
     },
     "execution_count": 7,
     "metadata": {},
     "output_type": "execute_result"
    }
   ],
   "source": [
    "len(data_df)"
   ]
  }
 ],
 "metadata": {
  "kernelspec": {
   "display_name": "myenv",
   "language": "python",
   "name": "python3"
  },
  "language_info": {
   "codemirror_mode": {
    "name": "ipython",
    "version": 3
   },
   "file_extension": ".py",
   "mimetype": "text/x-python",
   "name": "python",
   "nbconvert_exporter": "python",
   "pygments_lexer": "ipython3",
   "version": "3.7.3"
  },
  "orig_nbformat": 4
 },
 "nbformat": 4,
 "nbformat_minor": 2
}
