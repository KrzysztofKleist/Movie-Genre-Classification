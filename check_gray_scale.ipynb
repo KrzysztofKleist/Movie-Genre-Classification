{
 "cells": [
  {
   "attachments": {},
   "cell_type": "markdown",
   "metadata": {},
   "source": [
    "# Removing grayscale videos from the list"
   ]
  },
  {
   "cell_type": "code",
   "execution_count": null,
   "metadata": {},
   "outputs": [],
   "source": [
    "import warnings\n",
    "warnings.simplefilter(action='ignore', category=FutureWarning)\n",
    "\n",
    "import pandas as pd"
   ]
  },
  {
   "cell_type": "code",
   "execution_count": null,
   "metadata": {},
   "outputs": [],
   "source": [
    "# all_df = pd.read_csv('movieclips_all.tsv', sep='\\t')\n",
    "# print(all_df.to_string())"
   ]
  },
  {
   "cell_type": "code",
   "execution_count": null,
   "metadata": {},
   "outputs": [],
   "source": [
    "# unavailable_df = pd.read_csv('movieclips_unavailable_only.tsv', sep='\\t')\n",
    "# print(unavailable_df.to_string())"
   ]
  },
  {
   "cell_type": "code",
   "execution_count": null,
   "metadata": {},
   "outputs": [],
   "source": [
    "# available_df = all_df[~(all_df['videoid'].isin(unavailable_df['videoid']))].reset_index(drop=True)\n",
    "# print(available_df.to_string())"
   ]
  },
  {
   "cell_type": "code",
   "execution_count": null,
   "metadata": {},
   "outputs": [],
   "source": [
    "available_df = pd.read_csv(r'files\\movieclips_available_only.tsv', sep='\\t')\n",
    "print(available_df.to_string())"
   ]
  },
  {
   "cell_type": "code",
   "execution_count": null,
   "metadata": {},
   "outputs": [],
   "source": [
    "df = pd.DataFrame(columns=available_df.columns)\n",
    "\n",
    "print(df.to_string())"
   ]
  },
  {
   "cell_type": "code",
   "execution_count": null,
   "metadata": {},
   "outputs": [],
   "source": [
    "from utilities import gray_scale_check, video_available\n",
    "from tqdm import tqdm\n",
    "\n",
    "count = 0\n",
    "\n",
    "print(len(available_df))\n",
    "# loop through each row in the dataframe\n",
    "# for index, row in tqdm(df.iterrows(), total=len(df)):\n",
    "for index, row in tqdm(available_df.iterrows(), total=len(available_df)):\n",
    "    # print(video_available(row['videoid']))\n",
    "    if video_available(row['videoid']) == True:\n",
    "        if gray_scale_check(row['videoid']) == True:\n",
    "            df = df.append(row, ignore_index=True)\n",
    "    # count += 1\n",
    "    # if count == 40:\n",
    "    #     break\n",
    "        \n",
    "print(df.to_string())"
   ]
  },
  {
   "cell_type": "code",
   "execution_count": null,
   "metadata": {},
   "outputs": [],
   "source": [
    "df.to_csv(r'files\\movieclips_final.tsv', sep=\"\\t\")"
   ]
  },
  {
   "cell_type": "code",
   "execution_count": null,
   "metadata": {},
   "outputs": [],
   "source": []
  }
 ],
 "metadata": {
  "kernelspec": {
   "display_name": "base",
   "language": "python",
   "name": "python3"
  },
  "language_info": {
   "codemirror_mode": {
    "name": "ipython",
    "version": 3
   },
   "file_extension": ".py",
   "mimetype": "text/x-python",
   "name": "python",
   "nbconvert_exporter": "python",
   "pygments_lexer": "ipython3",
   "version": "3.9.13"
  },
  "orig_nbformat": 4
 },
 "nbformat": 4,
 "nbformat_minor": 2
}
