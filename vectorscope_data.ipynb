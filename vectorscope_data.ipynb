{
 "cells": [
  {
   "attachments": {},
   "cell_type": "markdown",
   "metadata": {},
   "source": [
    "# Creating the vectrocope plots of the images\n"
   ]
  },
  {
   "cell_type": "code",
   "execution_count": 1,
   "metadata": {},
   "outputs": [],
   "source": [
    "from PIL import Image\n",
    "import numpy as np\n",
    "from sys import argv\n",
    "from numpy import asarray\n",
    "import matplotlib.pyplot as plt\n",
    "import os\n",
    "\n",
    "\n",
    "def progress_bar(current, total, bar_length=20):\n",
    "    fraction = current / total\n",
    "\n",
    "    arrow = int(fraction * bar_length - 1) * '-' + '>'\n",
    "    padding = int(bar_length - len(arrow)) * ' '\n",
    "\n",
    "    ending = '\\n' if current == total else '\\r'\n",
    "\n",
    "    print(f'Progress: [{arrow}{padding}] {int(fraction*100)}%', end=ending)\n"
   ]
  },
  {
   "attachments": {},
   "cell_type": "markdown",
   "metadata": {},
   "source": [
    "**Function that runs the image through the vectorscope**"
   ]
  },
  {
   "cell_type": "code",
   "execution_count": 2,
   "metadata": {},
   "outputs": [],
   "source": [
    "def vectorscope(src_path, dst_path):\n",
    "    im_path = src_path\n",
    "    src = Image.open(im_path)\n",
    "    src = src.resize((320, 180))\n",
    "    src = asarray(src)\n",
    "\n",
    "    if src.dtype == np.uint16:\n",
    "        src = (src / 2**8).astype(np.uint8)\n",
    "\n",
    "    R, G, B = src[:, :, 0], src[:, :, 1], src[:, :, 2]\n",
    "\n",
    "    Y = (0.299 * R) + (0.587 * G) + (0.114 * B)\n",
    "    Cb = (-0.169 * R) - (0.331 * G) + (0.499 * B) + 128\n",
    "    Cr = (0.499 * R) - (0.418 * G) - (0.0813 * B) + 128\n",
    "\n",
    "    # traditional vectorscope orientation:\n",
    "    Cr = 256 - Cr\n",
    "\n",
    "    dst = np.zeros((256, 256, 3), dtype=src.dtype)\n",
    "\n",
    "    for x in range(src.shape[0]):\n",
    "        for y in range(src.shape[1]):\n",
    "            dst[int(Cr[x, y]), int(Cb[x, y])] = np.array(\n",
    "                [R[x, y], G[x, y], B[x, y]])\n",
    "\n",
    "    im = Image.fromarray(dst)\n",
    "    im.save(dst_path)\n",
    "\n",
    "    # plt.imshow(dst, interpolation='nearest')\n",
    "    # plt.show()"
   ]
  },
  {
   "attachments": {},
   "cell_type": "markdown",
   "metadata": {},
   "source": [
    "Retrieve the names of the subfolders"
   ]
  },
  {
   "cell_type": "code",
   "execution_count": 3,
   "metadata": {},
   "outputs": [],
   "source": [
    "folder = r'C:/Users/krzys/Desktop/Thesis/code/movie_posters_dataset'\n",
    "# retrieve the subfolders names\n",
    "sub_folders = [name for name in os.listdir(\n",
    "    folder) if os.path.isdir(os.path.join(folder, name))]\n"
   ]
  },
  {
   "attachments": {},
   "cell_type": "markdown",
   "metadata": {},
   "source": [
    "**Run a loop to save \"vectorscoped\" data**"
   ]
  },
  {
   "cell_type": "code",
   "execution_count": 4,
   "metadata": {},
   "outputs": [
    {
     "name": "stdout",
     "output_type": "stream",
     "text": [
      "Progress: [------------------->] 100%\n",
      "38548\n"
     ]
    }
   ],
   "source": [
    "SRC_DIR = r'C:/Users/krzys/Desktop/Thesis/code/movie_posters_dataset/'\n",
    "DST_DIR = r'C:/Users/krzys/Desktop/Thesis/code/movie_posters_dataset_vectorscope/'\n",
    "\n",
    "line_count = 0\n",
    "\n",
    "for sf in sub_folders:\n",
    "    # os.mkdir(DST_DIR + sf)\n",
    "    for name in os.listdir(SRC_DIR + sf):\n",
    "        line_count += 1\n",
    "        src = SRC_DIR + sf + '/' + name\n",
    "        dst = DST_DIR + sf + '/' + name\n",
    "        # print(src)\n",
    "        vectorscope(src, dst)\n",
    "        progress_bar(line_count, 38548)\n",
    "\n",
    "print(line_count)\n"
   ]
  },
  {
   "attachments": {},
   "cell_type": "markdown",
   "metadata": {},
   "source": [
    "Making sure that the number of \"vectorscoped\" images is equal to the original images"
   ]
  },
  {
   "cell_type": "code",
   "execution_count": 5,
   "metadata": {},
   "outputs": [
    {
     "name": "stdout",
     "output_type": "stream",
     "text": [
      "38548\n"
     ]
    }
   ],
   "source": [
    "line_count = 0\n",
    "\n",
    "for sf in sub_folders:\n",
    "    for name in os.listdir(DST_DIR + sf):\n",
    "        line_count += 1\n",
    "\n",
    "print(line_count)\n"
   ]
  },
  {
   "cell_type": "code",
   "execution_count": null,
   "metadata": {},
   "outputs": [],
   "source": []
  }
 ],
 "metadata": {
  "kernelspec": {
   "display_name": "Python 3",
   "language": "python",
   "name": "python3"
  },
  "language_info": {
   "codemirror_mode": {
    "name": "ipython",
    "version": 3
   },
   "file_extension": ".py",
   "mimetype": "text/x-python",
   "name": "python",
   "nbconvert_exporter": "python",
   "pygments_lexer": "ipython3",
   "version": "3.10.2"
  },
  "orig_nbformat": 4,
  "vscode": {
   "interpreter": {
    "hash": "369f2c481f4da34e4445cda3fffd2e751bd1c4d706f27375911949ba6bb62e1c"
   }
  }
 },
 "nbformat": 4,
 "nbformat_minor": 2
}
