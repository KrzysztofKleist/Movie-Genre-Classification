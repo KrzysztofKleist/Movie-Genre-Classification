{
  "cells": [
    {
      "cell_type": "markdown",
      "metadata": {
        "id": "_7MtdqDc6VzH"
      },
      "source": [
        "# Import the dataset from the archive"
      ]
    },
    {
      "cell_type": "code",
      "execution_count": 1,
      "metadata": {
        "colab": {
          "base_uri": "https://localhost:8080/"
        },
        "id": "B-Sd7j7z6VAC",
        "outputId": "27004b00-298f-406a-fb08-28c70cc9251b"
      },
      "outputs": [
        {
          "name": "stdout",
          "output_type": "stream",
          "text": [
            "Mounted at /content/drive\n"
          ]
        }
      ],
      "source": [
        "from google.colab import drive\n",
        "import os\n",
        "drive.mount('/content/drive')\n",
        "import sys, os"
      ]
    },
    {
      "cell_type": "code",
      "execution_count": null,
      "metadata": {
        "colab": {
          "base_uri": "https://localhost:8080/"
        },
        "id": "L9Z8ApCG6U9I",
        "outputId": "56b5df74-c1dc-4f1b-e7a3-bb251449e3ff"
      },
      "outputs": [],
      "source": [
        "#if not os.path.isfile('/content/drive/MyDrive/archive.zip'):\n",
        "!unzip \"/content/drive/MyDrive/mpv_data.zip\" -d \"/content/\""
      ]
    },
    {
      "cell_type": "markdown",
      "metadata": {
        "id": "BgCl_O8p6NYK"
      },
      "source": [
        "# Loading the dataset\n"
      ]
    },
    {
      "cell_type": "markdown",
      "metadata": {
        "id": "4sA-QeHC6NYO"
      },
      "source": [
        "### Loading data"
      ]
    },
    {
      "cell_type": "markdown",
      "metadata": {
        "id": "SGyMnj7j6NYO"
      },
      "source": [
        "**Import libraries**"
      ]
    },
    {
      "cell_type": "code",
      "execution_count": 3,
      "metadata": {
        "id": "xyOKQPgD6NYP"
      },
      "outputs": [],
      "source": [
        "import os\n",
        "import logging\n",
        "\n",
        "\n",
        "import torch\n",
        "import torch.nn as nn\n",
        "import torch.optim as optim\n",
        "from torch.utils.data import Subset, DataLoader\n",
        "from torch.backends import cudnn\n",
        "\n",
        "import torchvision\n",
        "from torchvision import transforms\n",
        "from torchvision.models import alexnet\n",
        "\n",
        "from PIL import Image\n",
        "from tqdm import tqdm"
      ]
    },
    {
      "cell_type": "markdown",
      "metadata": {
        "id": "sm0Q_uRC6NYQ"
      },
      "source": [
        "**Set Arguments**"
      ]
    },
    {
      "cell_type": "code",
      "execution_count": 4,
      "metadata": {
        "id": "wyry1DYW6NYQ"
      },
      "outputs": [],
      "source": [
        "DEVICE = 'cuda' # 'cuda' or 'cpu'\n",
        "\n",
        "NUM_CLASSES = 28  \n",
        "\n",
        "BATCH_SIZE = 256     # Higher batch sizes allows for larger learning rates. An empirical heuristic suggests that, when changing\n",
        "                     # the batch size, learning rate should change by the same factor to have comparable results\n",
        "\n",
        "LR = 25e-3            # The initial Learning Rate: 1e-3, the best result so far: 25e-3, Validation Accuracy: 0.46680497925311204, Test Accuracy: 0.46837193225025925\n",
        "MOMENTUM = 0.9       # Hyperparameter for SGD, keep this at 0.9 when using SGD\n",
        "WEIGHT_DECAY = 5e-5  # Regularization, you can keep this at the default\n",
        "\n",
        "NUM_EPOCHS = 30      # Total number of training epochs (iterations over dataset)\n",
        "STEP_SIZE = 10       # How many epochs before decreasing learning rate (if using a step-down policy), initial value: 20\n",
        "GAMMA = 0.9          # Multiplicative factor for learning rate step-down, initial value: 0.1\n",
        "\n",
        "LOG_FREQUENCY = 10"
      ]
    },
    {
      "cell_type": "markdown",
      "metadata": {
        "id": "fV2c35cU6NYR"
      },
      "source": [
        "**Define Data Preprocessing**"
      ]
    },
    {
      "cell_type": "code",
      "execution_count": 5,
      "metadata": {
        "id": "QEmjMKYj6NYR"
      },
      "outputs": [],
      "source": [
        "# Define transforms for training phase\n",
        "train_transform = transforms.Compose([transforms.Resize(256),      # Resizes short size of the PIL image to 256\n",
        "                                      # Crops a central square patch of the image\n",
        "                                      transforms.CenterCrop(224),\n",
        "                                      # 224 because torchvision's AlexNet needs a 224x224 input!\n",
        "                                      # Remember this when applying different transformations, otherwise you get an error\n",
        "                                      transforms.ToTensor(),  # Turn PIL Image to torch.Tensor\n",
        "                                      # Normalizes tensor with mean and standard deviation\n",
        "                                      transforms.Normalize(\n",
        "                                          (0.5, 0.5, 0.5), (0.5, 0.5, 0.5))\n",
        "                                      ])\n"
      ]
    },
    {
      "cell_type": "markdown",
      "metadata": {
        "id": "cFcdBkMU6NYS"
      },
      "source": [
        "**Dataset Class**"
      ]
    },
    {
      "cell_type": "code",
      "execution_count": 6,
      "metadata": {
        "id": "yP3kMQMG6NYS"
      },
      "outputs": [],
      "source": [
        "from torchvision.datasets import VisionDataset\n",
        "\n",
        "from PIL import Image\n",
        "\n",
        "import os\n",
        "import os.path\n",
        "import sys\n",
        "\n",
        "\n",
        "def pil_loader(path):\n",
        "    # open path as file to avoid ResourceWarning (https://github.com/python-pillow/Pillow/issues/835)\n",
        "    with open(path, 'rb') as f:\n",
        "        img = Image.open(f)\n",
        "        return img.convert('RGB')\n",
        "\n",
        "\n",
        "class MoviePosters(VisionDataset):\n",
        "    def __init__(self, root, split='train', transform=None, target_transform=None):\n",
        "        super(MoviePosters, self).__init__(root, transform=transform, target_transform=target_transform)\n",
        "\n",
        "        self.split = split # This defines the split you are going to use\n",
        "                           # (split files are called 'train.txt' and 'test.txt')\n",
        "\n",
        "        '''\n",
        "        - Here you should implement the logic for reading the splits files and accessing elements\n",
        "        - If the RAM size allows it, it is faster to store all data in memory\n",
        "        - PyTorch Dataset classes use indexes to read elements\n",
        "        - You should provide a way for the __getitem__ method to access the image-label pair\n",
        "          through the index\n",
        "        - Labels should start from 0, so for Caltech you will have lables 0...100 (excluding the background class) \n",
        "        '''\n",
        "        # Open file in read only mode and read all lines\n",
        "        file = open(self.split, \"r\")\n",
        "        lines = file.readlines()\n",
        "\n",
        "        # Filter out the lines which start with 'BACKGROUND_Google' as asked in the homework\n",
        "        self.elements = [i for i in lines if not i.startswith('BACKGROUND_Google')]\n",
        "\n",
        "        # Delete BACKGROUND_Google class from dataset labels\n",
        "        self.classes = sorted(os.listdir(os.path.join(self.root, \"\")))\n",
        "        # self.classes.remove(\"BACKGROUND_Google\")\n",
        "\n",
        "\n",
        "    def __getitem__(self, index):\n",
        "        ''' \n",
        "        __getitem__ should access an element through its index\n",
        "        Args:\n",
        "            index (int): Index\n",
        "        Returns:\n",
        "            tuple: (sample, target) where target is class_index of the target class.\n",
        "        '''\n",
        "\n",
        "        img = pil_loader(os.path.join(self.root, self.elements[index].rstrip()))\n",
        "\n",
        "        target = self.classes.index(self.elements[index].rstrip().split('/')[0])\n",
        "\n",
        "        image, label = img, target # Provide a way to access image and label via index\n",
        "                           # Image should be a PIL Image\n",
        "                           # label can be int\n",
        "\n",
        "        # Applies preprocessing when accessing the image\n",
        "        if self.transform is not None:\n",
        "            image = self.transform(image)\n",
        "\n",
        "        return image, label\n",
        "\n",
        "    def __len__(self):\n",
        "        '''\n",
        "        The __len__ method returns the length of the dataset\n",
        "        It is mandatory, as this is used by several other components\n",
        "        '''\n",
        "        # Provides a way to get the length (number of elements) of the dataset\n",
        "        length =  len(self.elements)\n",
        "        return length"
      ]
    },
    {
      "cell_type": "markdown",
      "metadata": {
        "id": "LsqI5gnM6NYT"
      },
      "source": [
        "**Prepare Dataset**"
      ]
    },
    {
      "cell_type": "code",
      "execution_count": 7,
      "metadata": {
        "colab": {
          "base_uri": "https://localhost:8080/"
        },
        "id": "0_7PT1Jy6NYT",
        "outputId": "c14ba237-2f3a-4e6d-cbb0-7ae7f5a6fdf2"
      },
      "outputs": [
        {
          "name": "stdout",
          "output_type": "stream",
          "text": [
            "Train Dataset: 19274\n",
            "Valid Dataset: 19274\n"
          ]
        }
      ],
      "source": [
        "from sklearn.model_selection import train_test_split\n",
        "\n",
        "DATA_DIR = 'movie_posters_dataset_vectorscope'\n",
        "\n",
        "SPLIT_TRAIN = 'train.txt'\n",
        "\n",
        "train_dataset_ = MoviePosters(\n",
        "    DATA_DIR, split=SPLIT_TRAIN, transform=train_transform)\n",
        "\n",
        "train_len_list = list(range(len(train_dataset_)))\n",
        "\n",
        "train_indexes, val_indexes = train_test_split(train_len_list, shuffle=True, test_size=0.5)\n",
        "\n",
        "train_dataset = Subset(train_dataset_, train_indexes)\n",
        "val_dataset = Subset(train_dataset_, val_indexes)\n",
        "\n",
        "# Check dataset sizes\n",
        "print('Train Dataset: {}'.format(len(train_dataset)))\n",
        "print('Valid Dataset: {}'.format(len(val_dataset)))\n"
      ]
    },
    {
      "cell_type": "markdown",
      "metadata": {
        "id": "_wo4rBNb6NYT"
      },
      "source": [
        "**Prepare Dataloaders**"
      ]
    },
    {
      "cell_type": "code",
      "execution_count": 8,
      "metadata": {
        "colab": {
          "base_uri": "https://localhost:8080/"
        },
        "id": "ofLqYDEV6NYT",
        "outputId": "2d486f2b-1ca7-4d19-b169-8ee8b6b177cc"
      },
      "outputs": [
        {
          "name": "stderr",
          "output_type": "stream",
          "text": [
            "/usr/local/lib/python3.8/dist-packages/torch/utils/data/dataloader.py:554: UserWarning: This DataLoader will create 4 worker processes in total. Our suggested max number of worker in current system is 2, which is smaller than what this DataLoader is going to create. Please be aware that excessive worker creation might get DataLoader running slow or even freeze, lower the worker number to avoid potential slowness/freeze if necessary.\n",
            "  warnings.warn(_create_warning_msg(\n"
          ]
        }
      ],
      "source": [
        "# Dataloaders iterate over pytorch datasets and transparently provide useful functions (e.g. parallelization and shuffling)\n",
        "train_dataloader = DataLoader(\n",
        "    train_dataset, batch_size=BATCH_SIZE, shuffle=True, num_workers=4, drop_last=True)\n",
        "val_dataloader = DataLoader(\n",
        "    val_dataset, batch_size=BATCH_SIZE, shuffle=False, num_workers=4)\n"
      ]
    },
    {
      "cell_type": "markdown",
      "metadata": {
        "id": "zzCf8vZF6NYT"
      },
      "source": [
        "**Prepare Network**"
      ]
    },
    {
      "cell_type": "code",
      "execution_count": 9,
      "metadata": {
        "colab": {
          "base_uri": "https://localhost:8080/"
        },
        "id": "k1z01APv6NYU",
        "outputId": "495944cd-c248-4358-c54a-bf5bc11619e8"
      },
      "outputs": [
        {
          "name": "stderr",
          "output_type": "stream",
          "text": [
            "/usr/local/lib/python3.8/dist-packages/torchvision/models/_utils.py:208: UserWarning: The parameter 'pretrained' is deprecated since 0.13 and may be removed in the future, please use 'weights' instead.\n",
            "  warnings.warn(\n",
            "/usr/local/lib/python3.8/dist-packages/torchvision/models/_utils.py:223: UserWarning: Arguments other than a weight enum or `None` for 'weights' are deprecated since 0.13 and may be removed in the future. The current behavior is equivalent to passing `weights=None`.\n",
            "  warnings.warn(msg)\n"
          ]
        }
      ],
      "source": [
        "net = alexnet(pretrained=False)  # Loading AlexNet model, set pretrained\n",
        "\n",
        "# AlexNet has 1000 output neurons, corresponding to the 1000 ImageNet's classes\n",
        "# We need 101 outputs for Caltech-101\n",
        "# nn.Linear in pytorch is a fully connected layer\n",
        "net.classifier[6] = nn.Linear(4096, 28)\n",
        "# The convolutional layer is nn.Conv2d\n",
        "\n",
        "# We just changed the last layer of AlexNet with a new fully connected layer with 28 outputs\n",
        "# It is strongly suggested to study torchvision.models.alexnet source code\n"
      ]
    },
    {
      "cell_type": "markdown",
      "metadata": {
        "id": "frbu_VgM6NYU"
      },
      "source": [
        "**Prepare Training**"
      ]
    },
    {
      "cell_type": "code",
      "execution_count": 10,
      "metadata": {
        "id": "rWTll6Qt6NYU"
      },
      "outputs": [],
      "source": [
        "# Define loss function\n",
        "criterion = nn.CrossEntropyLoss() # for classification, we use Cross Entropy\n",
        "\n",
        "# Choose parameters to optimize\n",
        "# To access a different set of parameters, you have to access submodules of AlexNet\n",
        "# (nn.Module objects, like AlexNet, implement the Composite Pattern)\n",
        "# e.g.: parameters of the fully connected layers: net.classifier.parameters()\n",
        "# e.g.: parameters of the convolutional layers: look at alexnet's source code ;) \n",
        "parameters_to_optimize = net.parameters() # In this case we optimize over all the parameters of AlexNet\n",
        "\n",
        "# Define optimizer\n",
        "# An optimizer updates the weights based on loss\n",
        "# We use SGD with momentum\n",
        "optimizer = optim.SGD(parameters_to_optimize, lr=LR, momentum=MOMENTUM, weight_decay=WEIGHT_DECAY)\n",
        "\n",
        "# Define scheduler\n",
        "# A scheduler dynamically changes learning rate\n",
        "# The most common schedule is the step(-down), which multiplies learning rate by gamma every STEP_SIZE epochs\n",
        "scheduler = optim.lr_scheduler.StepLR(optimizer, step_size=STEP_SIZE, gamma=GAMMA)"
      ]
    },
    {
      "cell_type": "markdown",
      "metadata": {
        "id": "_I6nDIzW6NYU"
      },
      "source": [
        "**Train**"
      ]
    },
    {
      "cell_type": "code",
      "execution_count": 11,
      "metadata": {
        "colab": {
          "base_uri": "https://localhost:8080/"
        },
        "id": "Rh-DpmMb6NYU",
        "outputId": "234cf554-ce99-4457-99b0-8c5f7aeed50e"
      },
      "outputs": [
        {
          "name": "stdout",
          "output_type": "stream",
          "text": [
            "\n",
            "##################################################\n",
            "Starting epoch 1/30, LR = [0.025]\n"
          ]
        },
        {
          "name": "stderr",
          "output_type": "stream",
          "text": [
            "/usr/local/lib/python3.8/dist-packages/torch/optim/lr_scheduler.py:381: UserWarning: To get the last learning rate computed by the scheduler, please use `get_last_lr()`.\n",
            "  warnings.warn(\"To get the last learning rate computed by the scheduler, \"\n"
          ]
        },
        {
          "name": "stdout",
          "output_type": "stream",
          "text": [
            "Step 0, Loss 3.328587770462036\n",
            "Step 10, Loss 3.0743041038513184\n",
            "Step 20, Loss 2.2089359760284424\n",
            "Step 30, Loss 2.3081119060516357\n",
            "Step 40, Loss 2.1309406757354736\n",
            "Step 50, Loss 2.1902785301208496\n",
            "Step 60, Loss 2.3120968341827393\n",
            "Step 70, Loss 2.154749631881714\n"
          ]
        },
        {
          "name": "stderr",
          "output_type": "stream",
          "text": [
            "100%|██████████| 76/76 [00:42<00:00,  1.77it/s]"
          ]
        },
        {
          "name": "stdout",
          "output_type": "stream",
          "text": [
            "Validation Accuracy: 0.2499221749507108\n",
            "\n",
            "##################################################\n",
            "Starting epoch 2/30, LR = [0.025]\n"
          ]
        },
        {
          "name": "stderr",
          "output_type": "stream",
          "text": [
            "\n"
          ]
        },
        {
          "name": "stdout",
          "output_type": "stream",
          "text": [
            "Step 80, Loss 2.1897847652435303\n",
            "Step 90, Loss 2.224490165710449\n",
            "Step 100, Loss 2.2410683631896973\n",
            "Step 110, Loss 2.1823337078094482\n",
            "Step 120, Loss 2.21848726272583\n",
            "Step 130, Loss 2.203552007675171\n",
            "Step 140, Loss 2.253662347793579\n"
          ]
        },
        {
          "name": "stderr",
          "output_type": "stream",
          "text": [
            "100%|██████████| 76/76 [00:43<00:00,  1.73it/s]"
          ]
        },
        {
          "name": "stdout",
          "output_type": "stream",
          "text": [
            "Validation Accuracy: 0.2941268029469752\n",
            "\n",
            "##################################################\n",
            "Starting epoch 3/30, LR = [0.025]\n"
          ]
        },
        {
          "name": "stderr",
          "output_type": "stream",
          "text": [
            "\n"
          ]
        },
        {
          "name": "stdout",
          "output_type": "stream",
          "text": [
            "Step 150, Loss 2.1254684925079346\n",
            "Step 160, Loss 2.270688533782959\n",
            "Step 170, Loss 2.179692029953003\n",
            "Step 180, Loss 2.1855738162994385\n",
            "Step 190, Loss 2.1627769470214844\n",
            "Step 200, Loss 2.221900701522827\n",
            "Step 210, Loss 2.0446407794952393\n",
            "Step 220, Loss 2.256281614303589\n"
          ]
        },
        {
          "name": "stderr",
          "output_type": "stream",
          "text": [
            "100%|██████████| 76/76 [00:44<00:00,  1.72it/s]"
          ]
        },
        {
          "name": "stdout",
          "output_type": "stream",
          "text": [
            "Validation Accuracy: 0.3186676351561689\n",
            "\n",
            "##################################################\n",
            "Starting epoch 4/30, LR = [0.025]\n"
          ]
        },
        {
          "name": "stderr",
          "output_type": "stream",
          "text": [
            "\n"
          ]
        },
        {
          "name": "stdout",
          "output_type": "stream",
          "text": [
            "Step 230, Loss 2.130995035171509\n",
            "Step 240, Loss 2.116905689239502\n",
            "Step 250, Loss 2.121992349624634\n",
            "Step 260, Loss 2.0535690784454346\n",
            "Step 270, Loss 2.20686674118042\n",
            "Step 280, Loss 2.103854179382324\n",
            "Step 290, Loss 2.280719518661499\n"
          ]
        },
        {
          "name": "stderr",
          "output_type": "stream",
          "text": [
            "100%|██████████| 76/76 [00:44<00:00,  1.70it/s]"
          ]
        },
        {
          "name": "stdout",
          "output_type": "stream",
          "text": [
            "Validation Accuracy: 0.32406350524022\n",
            "\n",
            "##################################################\n",
            "Starting epoch 5/30, LR = [0.025]\n"
          ]
        },
        {
          "name": "stderr",
          "output_type": "stream",
          "text": [
            "\n"
          ]
        },
        {
          "name": "stdout",
          "output_type": "stream",
          "text": [
            "Step 300, Loss 2.1473779678344727\n",
            "Step 310, Loss 2.0941991806030273\n",
            "Step 320, Loss 2.1913158893585205\n",
            "Step 330, Loss 2.125523567199707\n",
            "Step 340, Loss 2.150789260864258\n",
            "Step 350, Loss 2.088524341583252\n",
            "Step 360, Loss 2.1513924598693848\n",
            "Step 370, Loss 2.179039716720581\n"
          ]
        },
        {
          "name": "stderr",
          "output_type": "stream",
          "text": [
            "100%|██████████| 76/76 [00:44<00:00,  1.69it/s]"
          ]
        },
        {
          "name": "stdout",
          "output_type": "stream",
          "text": [
            "Validation Accuracy: 0.316332883677493\n",
            "\n",
            "##################################################\n",
            "Starting epoch 6/30, LR = [0.025]\n"
          ]
        },
        {
          "name": "stderr",
          "output_type": "stream",
          "text": [
            "\n"
          ]
        },
        {
          "name": "stdout",
          "output_type": "stream",
          "text": [
            "Step 380, Loss 2.1398508548736572\n",
            "Step 390, Loss 2.074934482574463\n",
            "Step 400, Loss 2.1436614990234375\n",
            "Step 410, Loss 2.0947327613830566\n",
            "Step 420, Loss 2.1862878799438477\n",
            "Step 430, Loss 1.9455955028533936\n",
            "Step 440, Loss 2.0975990295410156\n"
          ]
        },
        {
          "name": "stderr",
          "output_type": "stream",
          "text": [
            "100%|██████████| 76/76 [00:46<00:00,  1.62it/s]"
          ]
        },
        {
          "name": "stdout",
          "output_type": "stream",
          "text": [
            "Validation Accuracy: 0.3059562104389333\n",
            "\n",
            "##################################################\n",
            "Starting epoch 7/30, LR = [0.025]\n"
          ]
        },
        {
          "name": "stderr",
          "output_type": "stream",
          "text": [
            "\n"
          ]
        },
        {
          "name": "stdout",
          "output_type": "stream",
          "text": [
            "Step 450, Loss 2.1053850650787354\n",
            "Step 460, Loss 2.196922540664673\n",
            "Step 470, Loss 2.1477742195129395\n",
            "Step 480, Loss 2.081176519393921\n",
            "Step 490, Loss 2.0924324989318848\n",
            "Step 500, Loss 2.006817579269409\n",
            "Step 510, Loss 2.1377968788146973\n",
            "Step 520, Loss 2.075812339782715\n"
          ]
        },
        {
          "name": "stderr",
          "output_type": "stream",
          "text": [
            "100%|██████████| 76/76 [00:45<00:00,  1.69it/s]"
          ]
        },
        {
          "name": "stdout",
          "output_type": "stream",
          "text": [
            "Validation Accuracy: 0.2983812389747847\n",
            "\n",
            "##################################################\n",
            "Starting epoch 8/30, LR = [0.025]\n"
          ]
        },
        {
          "name": "stderr",
          "output_type": "stream",
          "text": [
            "\n"
          ]
        },
        {
          "name": "stdout",
          "output_type": "stream",
          "text": [
            "Step 530, Loss 2.1056413650512695\n",
            "Step 540, Loss 2.0112388134002686\n",
            "Step 550, Loss 1.9985219240188599\n",
            "Step 560, Loss 2.1950316429138184\n",
            "Step 570, Loss 2.1757256984710693\n",
            "Step 580, Loss 2.1045725345611572\n",
            "Step 590, Loss 2.133174419403076\n"
          ]
        },
        {
          "name": "stderr",
          "output_type": "stream",
          "text": [
            "100%|██████████| 76/76 [00:44<00:00,  1.69it/s]"
          ]
        },
        {
          "name": "stdout",
          "output_type": "stream",
          "text": [
            "Validation Accuracy: 0.31903081871951855\n",
            "\n",
            "##################################################\n",
            "Starting epoch 9/30, LR = [0.025]\n"
          ]
        },
        {
          "name": "stderr",
          "output_type": "stream",
          "text": [
            "\n"
          ]
        },
        {
          "name": "stdout",
          "output_type": "stream",
          "text": [
            "Step 600, Loss 2.1568353176116943\n",
            "Step 610, Loss 2.1644058227539062\n",
            "Step 620, Loss 2.1207876205444336\n",
            "Step 630, Loss 2.009169816970825\n",
            "Step 640, Loss 2.0444579124450684\n",
            "Step 650, Loss 2.0705556869506836\n",
            "Step 660, Loss 2.1057326793670654\n",
            "Step 670, Loss 2.096755266189575\n"
          ]
        },
        {
          "name": "stderr",
          "output_type": "stream",
          "text": [
            "100%|██████████| 76/76 [00:44<00:00,  1.72it/s]"
          ]
        },
        {
          "name": "stdout",
          "output_type": "stream",
          "text": [
            "Validation Accuracy: 0.32608695652173914\n",
            "\n",
            "##################################################\n",
            "Starting epoch 10/30, LR = [0.025]\n"
          ]
        },
        {
          "name": "stderr",
          "output_type": "stream",
          "text": [
            "\n"
          ]
        },
        {
          "name": "stdout",
          "output_type": "stream",
          "text": [
            "Step 680, Loss 2.1265623569488525\n",
            "Step 690, Loss 2.1630046367645264\n",
            "Step 700, Loss 1.944323182106018\n",
            "Step 710, Loss 2.1994411945343018\n",
            "Step 720, Loss 2.1541974544525146\n",
            "Step 730, Loss 2.1077775955200195\n",
            "Step 740, Loss 2.1234359741210938\n"
          ]
        },
        {
          "name": "stderr",
          "output_type": "stream",
          "text": [
            "100%|██████████| 76/76 [00:44<00:00,  1.71it/s]"
          ]
        },
        {
          "name": "stdout",
          "output_type": "stream",
          "text": [
            "Validation Accuracy: 0.3137387153678531\n",
            "\n",
            "##################################################\n",
            "Starting epoch 11/30, LR = [0.020250000000000004]\n"
          ]
        },
        {
          "name": "stderr",
          "output_type": "stream",
          "text": [
            "\n"
          ]
        },
        {
          "name": "stdout",
          "output_type": "stream",
          "text": [
            "Step 750, Loss 2.10955810546875\n",
            "Step 760, Loss 2.0946645736694336\n",
            "Step 770, Loss 2.0376574993133545\n",
            "Step 780, Loss 2.104902744293213\n",
            "Step 790, Loss 2.1304643154144287\n",
            "Step 800, Loss 2.0944504737854004\n",
            "Step 810, Loss 2.227971315383911\n",
            "Step 820, Loss 2.104440689086914\n"
          ]
        },
        {
          "name": "stderr",
          "output_type": "stream",
          "text": [
            "100%|██████████| 76/76 [00:44<00:00,  1.69it/s]"
          ]
        },
        {
          "name": "stdout",
          "output_type": "stream",
          "text": [
            "Validation Accuracy: 0.32883677492995744\n",
            "\n",
            "##################################################\n",
            "Starting epoch 12/30, LR = [0.022500000000000003]\n"
          ]
        },
        {
          "name": "stderr",
          "output_type": "stream",
          "text": [
            "\n"
          ]
        },
        {
          "name": "stdout",
          "output_type": "stream",
          "text": [
            "Step 830, Loss 2.036874532699585\n",
            "Step 840, Loss 2.117379665374756\n",
            "Step 850, Loss 2.1120615005493164\n",
            "Step 860, Loss 2.081509590148926\n",
            "Step 870, Loss 2.0344767570495605\n",
            "Step 880, Loss 2.095956802368164\n",
            "Step 890, Loss 2.026914119720459\n"
          ]
        },
        {
          "name": "stderr",
          "output_type": "stream",
          "text": [
            "100%|██████████| 76/76 [00:44<00:00,  1.70it/s]"
          ]
        },
        {
          "name": "stdout",
          "output_type": "stream",
          "text": [
            "Validation Accuracy: 0.32883677492995744\n",
            "\n",
            "##################################################\n",
            "Starting epoch 13/30, LR = [0.022500000000000003]\n"
          ]
        },
        {
          "name": "stderr",
          "output_type": "stream",
          "text": [
            "\n"
          ]
        },
        {
          "name": "stdout",
          "output_type": "stream",
          "text": [
            "Step 900, Loss 2.2068352699279785\n",
            "Step 910, Loss 2.009028196334839\n",
            "Step 920, Loss 2.051605224609375\n",
            "Step 930, Loss 2.186033010482788\n",
            "Step 940, Loss 2.0840506553649902\n",
            "Step 950, Loss 2.1928210258483887\n",
            "Step 960, Loss 2.2176833152770996\n",
            "Step 970, Loss 2.098024845123291\n"
          ]
        },
        {
          "name": "stderr",
          "output_type": "stream",
          "text": [
            "100%|██████████| 76/76 [00:44<00:00,  1.70it/s]"
          ]
        },
        {
          "name": "stdout",
          "output_type": "stream",
          "text": [
            "Validation Accuracy: 0.33252049392964617\n",
            "\n",
            "##################################################\n",
            "Starting epoch 14/30, LR = [0.022500000000000003]\n"
          ]
        },
        {
          "name": "stderr",
          "output_type": "stream",
          "text": [
            "\n"
          ]
        },
        {
          "name": "stdout",
          "output_type": "stream",
          "text": [
            "Step 980, Loss 1.9750921726226807\n",
            "Step 990, Loss 2.011683940887451\n",
            "Step 1000, Loss 2.1054506301879883\n",
            "Step 1010, Loss 2.0820915699005127\n",
            "Step 1020, Loss 2.114454746246338\n",
            "Step 1030, Loss 2.1662347316741943\n",
            "Step 1040, Loss 2.1095714569091797\n"
          ]
        },
        {
          "name": "stderr",
          "output_type": "stream",
          "text": [
            "100%|██████████| 76/76 [00:44<00:00,  1.70it/s]"
          ]
        },
        {
          "name": "stdout",
          "output_type": "stream",
          "text": [
            "Validation Accuracy: 0.3278509909722943\n",
            "\n",
            "##################################################\n",
            "Starting epoch 15/30, LR = [0.022500000000000003]\n"
          ]
        },
        {
          "name": "stderr",
          "output_type": "stream",
          "text": [
            "\n"
          ]
        },
        {
          "name": "stdout",
          "output_type": "stream",
          "text": [
            "Step 1050, Loss 2.0772979259490967\n",
            "Step 1060, Loss 2.041633367538452\n",
            "Step 1070, Loss 2.0079174041748047\n",
            "Step 1080, Loss 2.132688045501709\n",
            "Step 1090, Loss 2.0346200466156006\n",
            "Step 1100, Loss 2.093419313430786\n",
            "Step 1110, Loss 2.0635106563568115\n",
            "Step 1120, Loss 2.0246524810791016\n"
          ]
        },
        {
          "name": "stderr",
          "output_type": "stream",
          "text": [
            "100%|██████████| 76/76 [00:45<00:00,  1.68it/s]"
          ]
        },
        {
          "name": "stdout",
          "output_type": "stream",
          "text": [
            "Validation Accuracy: 0.3309639929438622\n",
            "\n",
            "##################################################\n",
            "Starting epoch 16/30, LR = [0.022500000000000003]\n"
          ]
        },
        {
          "name": "stderr",
          "output_type": "stream",
          "text": [
            "\n"
          ]
        },
        {
          "name": "stdout",
          "output_type": "stream",
          "text": [
            "Step 1130, Loss 1.9828121662139893\n",
            "Step 1140, Loss 2.012038230895996\n",
            "Step 1150, Loss 1.9389982223510742\n",
            "Step 1160, Loss 2.0466487407684326\n",
            "Step 1170, Loss 1.9971204996109009\n",
            "Step 1180, Loss 1.975547432899475\n",
            "Step 1190, Loss 2.0835304260253906\n"
          ]
        },
        {
          "name": "stderr",
          "output_type": "stream",
          "text": [
            "100%|██████████| 76/76 [00:45<00:00,  1.68it/s]"
          ]
        },
        {
          "name": "stdout",
          "output_type": "stream",
          "text": [
            "Validation Accuracy: 0.3273321573103663\n",
            "\n",
            "##################################################\n",
            "Starting epoch 17/30, LR = [0.022500000000000003]\n"
          ]
        },
        {
          "name": "stderr",
          "output_type": "stream",
          "text": [
            "\n"
          ]
        },
        {
          "name": "stdout",
          "output_type": "stream",
          "text": [
            "Step 1200, Loss 2.081300735473633\n",
            "Step 1210, Loss 2.0721046924591064\n",
            "Step 1220, Loss 2.1371216773986816\n",
            "Step 1230, Loss 2.0768866539001465\n",
            "Step 1240, Loss 2.0665791034698486\n",
            "Step 1250, Loss 2.0548133850097656\n",
            "Step 1260, Loss 1.9486587047576904\n",
            "Step 1270, Loss 2.05979585647583\n"
          ]
        },
        {
          "name": "stderr",
          "output_type": "stream",
          "text": [
            "100%|██████████| 76/76 [00:45<00:00,  1.68it/s]"
          ]
        },
        {
          "name": "stdout",
          "output_type": "stream",
          "text": [
            "Validation Accuracy: 0.3343364117463941\n",
            "\n",
            "##################################################\n",
            "Starting epoch 18/30, LR = [0.022500000000000003]\n"
          ]
        },
        {
          "name": "stderr",
          "output_type": "stream",
          "text": [
            "\n"
          ]
        },
        {
          "name": "stdout",
          "output_type": "stream",
          "text": [
            "Step 1280, Loss 2.095728635787964\n",
            "Step 1290, Loss 2.011350393295288\n",
            "Step 1300, Loss 1.9483590126037598\n",
            "Step 1310, Loss 1.8462737798690796\n",
            "Step 1320, Loss 2.1001381874084473\n",
            "Step 1330, Loss 2.063039779663086\n",
            "Step 1340, Loss 2.024129629135132\n"
          ]
        },
        {
          "name": "stderr",
          "output_type": "stream",
          "text": [
            "100%|██████████| 76/76 [00:45<00:00,  1.67it/s]\n"
          ]
        },
        {
          "name": "stdout",
          "output_type": "stream",
          "text": [
            "Validation Accuracy: 0.3268133236484383\n",
            "\n",
            "##################################################\n",
            "Starting epoch 19/30, LR = [0.022500000000000003]\n",
            "Step 1350, Loss 2.0976791381835938\n",
            "Step 1360, Loss 2.0081191062927246\n",
            "Step 1370, Loss 2.0781517028808594\n",
            "Step 1380, Loss 2.032679796218872\n",
            "Step 1390, Loss 1.9455885887145996\n",
            "Step 1400, Loss 2.0627121925354004\n",
            "Step 1410, Loss 1.9327032566070557\n",
            "Step 1420, Loss 2.2107880115509033\n"
          ]
        },
        {
          "name": "stderr",
          "output_type": "stream",
          "text": [
            "100%|██████████| 76/76 [00:45<00:00,  1.68it/s]"
          ]
        },
        {
          "name": "stdout",
          "output_type": "stream",
          "text": [
            "Validation Accuracy: 0.3201722527757601\n",
            "\n",
            "##################################################\n",
            "Starting epoch 20/30, LR = [0.022500000000000003]\n"
          ]
        },
        {
          "name": "stderr",
          "output_type": "stream",
          "text": [
            "\n"
          ]
        },
        {
          "name": "stdout",
          "output_type": "stream",
          "text": [
            "Step 1430, Loss 2.0232255458831787\n",
            "Step 1440, Loss 2.0950613021850586\n",
            "Step 1450, Loss 2.0095057487487793\n",
            "Step 1460, Loss 2.060636043548584\n",
            "Step 1470, Loss 2.1376166343688965\n",
            "Step 1480, Loss 2.0544722080230713\n",
            "Step 1490, Loss 2.086787223815918\n"
          ]
        },
        {
          "name": "stderr",
          "output_type": "stream",
          "text": [
            "100%|██████████| 76/76 [00:46<00:00,  1.62it/s]"
          ]
        },
        {
          "name": "stdout",
          "output_type": "stream",
          "text": [
            "Validation Accuracy: 0.32945937532427105\n",
            "\n",
            "##################################################\n",
            "Starting epoch 21/30, LR = [0.018225000000000005]\n"
          ]
        },
        {
          "name": "stderr",
          "output_type": "stream",
          "text": [
            "\n"
          ]
        },
        {
          "name": "stdout",
          "output_type": "stream",
          "text": [
            "Step 1500, Loss 2.017085075378418\n",
            "Step 1510, Loss 2.0127933025360107\n",
            "Step 1520, Loss 2.0587596893310547\n",
            "Step 1530, Loss 2.0725417137145996\n",
            "Step 1540, Loss 2.0340325832366943\n",
            "Step 1550, Loss 2.1476473808288574\n",
            "Step 1560, Loss 2.0839016437530518\n",
            "Step 1570, Loss 2.0815367698669434\n"
          ]
        },
        {
          "name": "stderr",
          "output_type": "stream",
          "text": [
            "100%|██████████| 76/76 [00:45<00:00,  1.69it/s]"
          ]
        },
        {
          "name": "stdout",
          "output_type": "stream",
          "text": [
            "Validation Accuracy: 0.3295112586904638\n",
            "\n",
            "##################################################\n",
            "Starting epoch 22/30, LR = [0.020250000000000004]\n"
          ]
        },
        {
          "name": "stderr",
          "output_type": "stream",
          "text": [
            "\n"
          ]
        },
        {
          "name": "stdout",
          "output_type": "stream",
          "text": [
            "Step 1580, Loss 1.8401951789855957\n",
            "Step 1590, Loss 2.025081157684326\n",
            "Step 1600, Loss 2.0479843616485596\n",
            "Step 1610, Loss 2.1491143703460693\n",
            "Step 1620, Loss 1.888837456703186\n",
            "Step 1630, Loss 1.9987050294876099\n",
            "Step 1640, Loss 2.013197660446167\n"
          ]
        },
        {
          "name": "stderr",
          "output_type": "stream",
          "text": [
            "100%|██████████| 76/76 [00:45<00:00,  1.69it/s]"
          ]
        },
        {
          "name": "stdout",
          "output_type": "stream",
          "text": [
            "Validation Accuracy: 0.31114454705821315\n",
            "\n",
            "##################################################\n",
            "Starting epoch 23/30, LR = [0.020250000000000004]\n"
          ]
        },
        {
          "name": "stderr",
          "output_type": "stream",
          "text": [
            "\n"
          ]
        },
        {
          "name": "stdout",
          "output_type": "stream",
          "text": [
            "Step 1650, Loss 2.0458853244781494\n",
            "Step 1660, Loss 1.8365976810455322\n",
            "Step 1670, Loss 2.1432600021362305\n",
            "Step 1680, Loss 1.9345808029174805\n",
            "Step 1690, Loss 2.020855188369751\n",
            "Step 1700, Loss 2.0039596557617188\n",
            "Step 1710, Loss 2.0349392890930176\n",
            "Step 1720, Loss 2.0222604274749756\n"
          ]
        },
        {
          "name": "stderr",
          "output_type": "stream",
          "text": [
            "100%|██████████| 76/76 [00:45<00:00,  1.67it/s]"
          ]
        },
        {
          "name": "stdout",
          "output_type": "stream",
          "text": [
            "Validation Accuracy: 0.32198817059250806\n",
            "\n",
            "##################################################\n",
            "Starting epoch 24/30, LR = [0.020250000000000004]\n"
          ]
        },
        {
          "name": "stderr",
          "output_type": "stream",
          "text": [
            "\n"
          ]
        },
        {
          "name": "stdout",
          "output_type": "stream",
          "text": [
            "Step 1730, Loss 2.0105228424072266\n",
            "Step 1740, Loss 2.0126078128814697\n",
            "Step 1750, Loss 2.0501580238342285\n",
            "Step 1760, Loss 1.9510565996170044\n",
            "Step 1770, Loss 2.054589033126831\n",
            "Step 1780, Loss 2.024113893508911\n",
            "Step 1790, Loss 1.8557751178741455\n"
          ]
        },
        {
          "name": "stderr",
          "output_type": "stream",
          "text": [
            "100%|██████████| 76/76 [00:45<00:00,  1.67it/s]"
          ]
        },
        {
          "name": "stdout",
          "output_type": "stream",
          "text": [
            "Validation Accuracy: 0.3194458856490609\n",
            "\n",
            "##################################################\n",
            "Starting epoch 25/30, LR = [0.020250000000000004]\n"
          ]
        },
        {
          "name": "stderr",
          "output_type": "stream",
          "text": [
            "\n"
          ]
        },
        {
          "name": "stdout",
          "output_type": "stream",
          "text": [
            "Step 1800, Loss 1.9039528369903564\n",
            "Step 1810, Loss 1.9952247142791748\n",
            "Step 1820, Loss 1.886082649230957\n",
            "Step 1830, Loss 2.025686502456665\n",
            "Step 1840, Loss 1.7746570110321045\n",
            "Step 1850, Loss 1.8461458683013916\n",
            "Step 1860, Loss 2.0478744506835938\n",
            "Step 1870, Loss 1.9464036226272583\n"
          ]
        },
        {
          "name": "stderr",
          "output_type": "stream",
          "text": [
            "100%|██████████| 76/76 [00:45<00:00,  1.68it/s]"
          ]
        },
        {
          "name": "stdout",
          "output_type": "stream",
          "text": [
            "Validation Accuracy: 0.3167998339732282\n",
            "\n",
            "##################################################\n",
            "Starting epoch 26/30, LR = [0.020250000000000004]\n"
          ]
        },
        {
          "name": "stderr",
          "output_type": "stream",
          "text": [
            "\n"
          ]
        },
        {
          "name": "stdout",
          "output_type": "stream",
          "text": [
            "Step 1880, Loss 1.899854063987732\n",
            "Step 1890, Loss 1.9207878112792969\n",
            "Step 1900, Loss 1.9370001554489136\n",
            "Step 1910, Loss 1.9967458248138428\n",
            "Step 1920, Loss 2.002965211868286\n",
            "Step 1930, Loss 2.0477445125579834\n",
            "Step 1940, Loss 1.897451400756836\n"
          ]
        },
        {
          "name": "stderr",
          "output_type": "stream",
          "text": [
            "100%|██████████| 76/76 [00:45<00:00,  1.69it/s]"
          ]
        },
        {
          "name": "stdout",
          "output_type": "stream",
          "text": [
            "Validation Accuracy: 0.32805852443706546\n",
            "\n",
            "##################################################\n",
            "Starting epoch 27/30, LR = [0.020250000000000004]\n"
          ]
        },
        {
          "name": "stderr",
          "output_type": "stream",
          "text": [
            "\n"
          ]
        },
        {
          "name": "stdout",
          "output_type": "stream",
          "text": [
            "Step 1950, Loss 1.9075813293457031\n",
            "Step 1960, Loss 1.8347861766815186\n",
            "Step 1970, Loss 1.8280285596847534\n",
            "Step 1980, Loss 2.0215578079223633\n",
            "Step 1990, Loss 1.7210235595703125\n",
            "Step 2000, Loss 1.837896704673767\n",
            "Step 2010, Loss 2.0971908569335938\n",
            "Step 2020, Loss 1.9907108545303345\n"
          ]
        },
        {
          "name": "stderr",
          "output_type": "stream",
          "text": [
            "100%|██████████| 76/76 [00:44<00:00,  1.69it/s]"
          ]
        },
        {
          "name": "stdout",
          "output_type": "stream",
          "text": [
            "Validation Accuracy: 0.31036629656532116\n",
            "\n",
            "##################################################\n",
            "Starting epoch 28/30, LR = [0.020250000000000004]\n"
          ]
        },
        {
          "name": "stderr",
          "output_type": "stream",
          "text": [
            "\n"
          ]
        },
        {
          "name": "stdout",
          "output_type": "stream",
          "text": [
            "Step 2030, Loss 1.823190450668335\n",
            "Step 2040, Loss 2.0004422664642334\n",
            "Step 2050, Loss 1.9257683753967285\n",
            "Step 2060, Loss 2.0044338703155518\n",
            "Step 2070, Loss 1.708030343055725\n",
            "Step 2080, Loss 1.9098891019821167\n",
            "Step 2090, Loss 1.8927327394485474\n"
          ]
        },
        {
          "name": "stderr",
          "output_type": "stream",
          "text": [
            "100%|██████████| 76/76 [00:44<00:00,  1.70it/s]"
          ]
        },
        {
          "name": "stdout",
          "output_type": "stream",
          "text": [
            "Validation Accuracy: 0.32157310366296565\n",
            "\n",
            "##################################################\n",
            "Starting epoch 29/30, LR = [0.020250000000000004]\n"
          ]
        },
        {
          "name": "stderr",
          "output_type": "stream",
          "text": [
            "\n"
          ]
        },
        {
          "name": "stdout",
          "output_type": "stream",
          "text": [
            "Step 2100, Loss 1.7518147230148315\n",
            "Step 2110, Loss 1.7576309442520142\n",
            "Step 2120, Loss 1.6781830787658691\n",
            "Step 2130, Loss 1.7783955335617065\n",
            "Step 2140, Loss 1.655194878578186\n",
            "Step 2150, Loss 1.8323874473571777\n",
            "Step 2160, Loss 1.9407985210418701\n",
            "Step 2170, Loss 1.9827840328216553\n"
          ]
        },
        {
          "name": "stderr",
          "output_type": "stream",
          "text": [
            "100%|██████████| 76/76 [00:44<00:00,  1.70it/s]"
          ]
        },
        {
          "name": "stdout",
          "output_type": "stream",
          "text": [
            "Validation Accuracy: 0.3129604648749611\n",
            "\n",
            "##################################################\n",
            "Starting epoch 30/30, LR = [0.020250000000000004]\n"
          ]
        },
        {
          "name": "stderr",
          "output_type": "stream",
          "text": [
            "\n"
          ]
        },
        {
          "name": "stdout",
          "output_type": "stream",
          "text": [
            "Step 2180, Loss 1.6976773738861084\n",
            "Step 2190, Loss 1.8592991828918457\n",
            "Step 2200, Loss 1.769398808479309\n",
            "Step 2210, Loss 1.7721545696258545\n",
            "Step 2220, Loss 1.878884196281433\n",
            "Step 2230, Loss 1.762058973312378\n",
            "Step 2240, Loss 1.791312336921692\n"
          ]
        },
        {
          "name": "stderr",
          "output_type": "stream",
          "text": [
            "100%|██████████| 76/76 [00:46<00:00,  1.63it/s]"
          ]
        },
        {
          "name": "stdout",
          "output_type": "stream",
          "text": [
            "Validation Accuracy: 0.2932966690878904\n"
          ]
        },
        {
          "name": "stderr",
          "output_type": "stream",
          "text": [
            "\n"
          ]
        }
      ],
      "source": [
        "# By default, everything is loaded to cpu\n",
        "net = net.to(DEVICE)  # this will bring the network to GPU if DEVICE is cuda\n",
        "\n",
        "cudnn.benchmark  # Calling this optimizes runtime\n",
        "\n",
        "train_loss_list = []\n",
        "train_acc_list = []\n",
        "\n",
        "val_loss_list = []\n",
        "val_acc_list = []\n",
        "\n",
        "train_loss_list_all = []\n",
        "val_loss_list_all = []\n",
        "\n",
        "current_step = 0\n",
        "# Start iterating over the epochs\n",
        "for epoch in range(NUM_EPOCHS):\n",
        "    print(\"\\n##################################################\")\n",
        "    print('Starting epoch {}/{}, LR = {}'.format(epoch +\n",
        "          1, NUM_EPOCHS, scheduler.get_lr()))\n",
        "\n",
        "    # Iterate over the dataset\n",
        "    train_running_corrects = 0\n",
        "\n",
        "    for images, labels in train_dataloader:\n",
        "        # Bring data over the device of choice\n",
        "        images = images.to(DEVICE)\n",
        "        labels = labels.to(DEVICE)\n",
        "\n",
        "        net.train()  # Sets module in training mode\n",
        "\n",
        "        # PyTorch, by default, accumulates gradients after each backward pass\n",
        "        # We need to manually set the gradients to zero before starting a new iteration\n",
        "        optimizer.zero_grad()  # Zero-ing the gradients\n",
        "\n",
        "        # Forward pass to the network\n",
        "        train_outputs = net(images)\n",
        "\n",
        "        # Compute loss based on output and ground truth\n",
        "        train_loss = criterion(train_outputs, labels)\n",
        "        train_loss_list.append(train_loss.item())\n",
        "\n",
        "        # Log loss\n",
        "        if current_step % LOG_FREQUENCY == 0:\n",
        "            print('Step {}, Loss {}'.format(current_step, train_loss.item()))\n",
        "\n",
        "        # Compute gradients for each layer and update weights\n",
        "        train_loss.backward()  # backward pass: computes gradients\n",
        "        optimizer.step()  # update weights based on accumulated gradients\n",
        "\n",
        "        current_step += 1\n",
        "\n",
        "        # Get predictions\n",
        "        _, train_preds = torch.max(train_outputs.data, 1)\n",
        "\n",
        "        # Update Corrects\n",
        "        train_running_corrects += torch.sum(train_preds ==\n",
        "                                            labels.data).data.item()\n",
        "\n",
        "    # Append train loss list\n",
        "    train_loss_list_all.append(train_loss.item())\n",
        "\n",
        "    # Calculate Accuracy\n",
        "    accuracy_train = train_running_corrects / float(len(train_dataset))\n",
        "\n",
        "    train_acc_list.append(accuracy_train)\n",
        "\n",
        "    # Step the scheduler\n",
        "    scheduler.step()\n",
        "\n",
        "    ##############################################################################################################################\n",
        "    ### VALIDATION AFTER EACH EPOCH ###\n",
        "\n",
        "    # this will bring the network to GPU if DEVICE is cuda\n",
        "    net = net.to(DEVICE)\n",
        "    net.train(False)  # Set Network to evaluation mode\n",
        "\n",
        "    val_running_corrects = 0\n",
        "    for images, labels in tqdm(val_dataloader):\n",
        "        images = images.to(DEVICE)\n",
        "        labels = labels.to(DEVICE)\n",
        "\n",
        "        # Forward Pass\n",
        "        val_outputs = net(images)\n",
        "\n",
        "        # Compute loss based on output and ground truth\n",
        "        val_loss = criterion(val_outputs, labels)\n",
        "        val_loss_list.append(val_loss.item())\n",
        "\n",
        "        # Get predictions\n",
        "        _, val_preds = torch.max(val_outputs.data, 1)\n",
        "\n",
        "        # Update Corrects\n",
        "        val_running_corrects += torch.sum(val_preds == labels.data).data.item()\n",
        "\n",
        "    # Append val loss list\n",
        "    val_loss_list_all.append(val_loss.item())\n",
        "\n",
        "    # Calculate Accuracy\n",
        "    accuracy_val = val_running_corrects / float(len(val_dataset))\n",
        "\n",
        "    print('Validation Accuracy: {}'.format(accuracy_val))\n",
        "\n",
        "    val_acc_list.append(accuracy_val)\n"
      ]
    },
    {
      "cell_type": "markdown",
      "metadata": {
        "id": "L8nh6iiNq836"
      },
      "source": [
        "**Validation**"
      ]
    },
    {
      "cell_type": "code",
      "execution_count": 12,
      "metadata": {
        "colab": {
          "base_uri": "https://localhost:8080/"
        },
        "id": "g5cMCDy4q8hM",
        "outputId": "2cf343f0-23bd-47a9-d009-82bcb6544c5b"
      },
      "outputs": [
        {
          "name": "stderr",
          "output_type": "stream",
          "text": [
            "100%|██████████| 76/76 [00:44<00:00,  1.70it/s]"
          ]
        },
        {
          "name": "stdout",
          "output_type": "stream",
          "text": [
            "Validation Accuracy: 0.2932966690878904\n"
          ]
        },
        {
          "name": "stderr",
          "output_type": "stream",
          "text": [
            "\n"
          ]
        }
      ],
      "source": [
        "net = net.to(DEVICE) # this will bring the network to GPU if DEVICE is cuda\n",
        "net.train(False) # Set Network to evaluation mode\n",
        "\n",
        "running_corrects = 0\n",
        "for images, labels in tqdm(val_dataloader):\n",
        "  images = images.to(DEVICE)\n",
        "  labels = labels.to(DEVICE)\n",
        "\n",
        "  # Forward Pass\n",
        "  outputs = net(images)\n",
        "\n",
        "  # Get predictions\n",
        "  _, preds = torch.max(outputs.data, 1)\n",
        "\n",
        "  # Update Corrects\n",
        "  running_corrects += torch.sum(preds == labels.data).data.item()\n",
        "\n",
        "# Calculate Accuracy\n",
        "accuracy_val = running_corrects / float(len(val_dataset))\n",
        "\n",
        "print('Validation Accuracy: {}'.format(accuracy_val))"
      ]
    },
    {
      "cell_type": "markdown",
      "metadata": {
        "id": "NVkREnPMrRV_"
      },
      "source": [
        "**Plots**"
      ]
    },
    {
      "cell_type": "code",
      "execution_count": 13,
      "metadata": {
        "colab": {
          "base_uri": "https://localhost:8080/",
          "height": 388
        },
        "id": "TwcxxxLErDbj",
        "outputId": "b1898315-a319-4d00-a5f4-c707acc51c8b"
      },
      "outputs": [
        {
          "data": {
            "image/png": "[encoded data removed]",
            "text/plain": [
              "<Figure size 576x432 with 1 Axes>"
            ]
          },
          "metadata": {
            "needs_background": "light"
          },
          "output_type": "display_data"
        }
      ],
      "source": [
        "import matplotlib\n",
        "import matplotlib.pyplot as plt\n",
        "\n",
        "matplotlib.rcParams['figure.figsize'] = [8, 6]\n",
        "\n",
        "plt.xlabel('epoch')\n",
        "plt.ylabel('loss')\n",
        "plt.plot(range(1, len(train_loss_list_all)+1), train_loss_list_all, color='blue', label='train loss')\n",
        "plt.plot(range(1, len(val_loss_list_all)+1), val_loss_list_all, color='orange', label='validation loss')\n",
        "plt.legend(loc='upper right')\n",
        "plt.show()"
      ]
    },
    {
      "cell_type": "code",
      "execution_count": 14,
      "metadata": {
        "colab": {
          "base_uri": "https://localhost:8080/",
          "height": 388
        },
        "id": "m8_1gv7orYlc",
        "outputId": "7bc928e9-2972-48ba-e576-2839ca49eeee"
      },
      "outputs": [
        {
          "data": {
            "image/png": "[encoded data removed]",
            "text/plain": [
              "<Figure size 576x432 with 1 Axes>"
            ]
          },
          "metadata": {
            "needs_background": "light"
          },
          "output_type": "display_data"
        }
      ],
      "source": [
        "plt.xlabel('epoch')\n",
        "plt.ylabel('accuracy (%)')\n",
        "plt.plot(range(1, len(train_acc_list)+1), [x * 100 for x in train_acc_list], color='blue', label='train accuracy')\n",
        "plt.plot(range(1, len(val_acc_list)+1), [x * 100 for x in val_acc_list], color='orange', label='validation accuracy')\n",
        "plt.legend(loc='lower right')\n",
        "plt.show()"
      ]
    },
    {
      "cell_type": "code",
      "execution_count": 14,
      "metadata": {
        "id": "4lIRuw6h_Wf8"
      },
      "outputs": [],
      "source": []
    }
  ],
  "metadata": {
    "accelerator": "GPU",
    "colab": {
      "provenance": []
    },
    "gpuClass": "standard",
    "kernelspec": {
      "display_name": "Python 3",
      "language": "python",
      "name": "python3"
    },
    "language_info": {
      "codemirror_mode": {
        "name": "ipython",
        "version": 3
      },
      "file_extension": ".py",
      "mimetype": "text/x-python",
      "name": "python",
      "nbconvert_exporter": "python",
      "pygments_lexer": "ipython3",
      "version": "3.10.2"
    },
    "orig_nbformat": 4,
    "vscode": {
      "interpreter": {
        "hash": "369f2c481f4da34e4445cda3fffd2e751bd1c4d706f27375911949ba6bb62e1c"
      }
    }
  },
  "nbformat": 4,
  "nbformat_minor": 0
}
