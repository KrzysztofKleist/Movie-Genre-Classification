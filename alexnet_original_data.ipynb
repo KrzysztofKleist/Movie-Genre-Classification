{
  "cells": [
    {
      "cell_type": "markdown",
      "metadata": {
        "id": "_7MtdqDc6VzH"
      },
      "source": [
        "# Import the dataset from the archive"
      ]
    },
    {
      "cell_type": "code",
      "execution_count": 1,
      "metadata": {
        "colab": {
          "base_uri": "https://localhost:8080/"
        },
        "id": "B-Sd7j7z6VAC",
        "outputId": "0b20dd4b-41f0-4470-e11d-6479bd6634d3"
      },
      "outputs": [
        {
          "name": "stdout",
          "output_type": "stream",
          "text": [
            "Mounted at /content/drive\n"
          ]
        }
      ],
      "source": [
        "from google.colab import drive\n",
        "import os\n",
        "drive.mount('/content/drive')\n",
        "import sys, os"
      ]
    },
    {
      "cell_type": "code",
      "execution_count": null,
      "metadata": {
        "colab": {
          "base_uri": "https://localhost:8080/"
        },
        "id": "L9Z8ApCG6U9I",
        "outputId": "df4acdcd-e921-4751-8e1a-9734775f509b"
      },
      "outputs": [],
      "source": [
        "#if not os.path.isfile('/content/drive/MyDrive/archive.zip'):\n",
        "!unzip \"/content/drive/MyDrive/mp_data.zip\" -d \"/content/\""
      ]
    },
    {
      "cell_type": "markdown",
      "metadata": {
        "id": "BgCl_O8p6NYK"
      },
      "source": [
        "# Loading the dataset\n"
      ]
    },
    {
      "cell_type": "markdown",
      "metadata": {
        "id": "4sA-QeHC6NYO"
      },
      "source": [
        "### Loading data"
      ]
    },
    {
      "cell_type": "markdown",
      "metadata": {
        "id": "SGyMnj7j6NYO"
      },
      "source": [
        "**Import libraries**"
      ]
    },
    {
      "cell_type": "code",
      "execution_count": 3,
      "metadata": {
        "id": "xyOKQPgD6NYP"
      },
      "outputs": [],
      "source": [
        "import os\n",
        "import logging\n",
        "\n",
        "\n",
        "import torch\n",
        "import torch.nn as nn\n",
        "import torch.optim as optim\n",
        "from torch.utils.data import Subset, DataLoader\n",
        "from torch.backends import cudnn\n",
        "\n",
        "import torchvision\n",
        "from torchvision import transforms\n",
        "from torchvision.models import alexnet\n",
        "\n",
        "from PIL import Image\n",
        "from tqdm import tqdm"
      ]
    },
    {
      "cell_type": "markdown",
      "metadata": {
        "id": "sm0Q_uRC6NYQ"
      },
      "source": [
        "**Set Arguments**"
      ]
    },
    {
      "cell_type": "code",
      "execution_count": 4,
      "metadata": {
        "id": "wyry1DYW6NYQ"
      },
      "outputs": [],
      "source": [
        "DEVICE = 'cuda' # 'cuda' or 'cpu'\n",
        "\n",
        "NUM_CLASSES = 28  \n",
        "\n",
        "BATCH_SIZE = 256     # Higher batch sizes allows for larger learning rates. An empirical heuristic suggests that, when changing\n",
        "                     # the batch size, learning rate should change by the same factor to have comparable results\n",
        "\n",
        "LR = 25e-3            # The initial Learning Rate: 1e-3, the best result so far: 25e-3, Validation Accuracy: 0.46680497925311204, Test Accuracy: 0.46837193225025925\n",
        "MOMENTUM = 0.9       # Hyperparameter for SGD, keep this at 0.9 when using SGD\n",
        "WEIGHT_DECAY = 5e-5  # Regularization, you can keep this at the default\n",
        "\n",
        "NUM_EPOCHS = 30      # Total number of training epochs (iterations over dataset)\n",
        "STEP_SIZE = 10       # How many epochs before decreasing learning rate (if using a step-down policy), initial value: 20\n",
        "GAMMA = 0.9          # Multiplicative factor for learning rate step-down, initial value: 0.1\n",
        "\n",
        "LOG_FREQUENCY = 10"
      ]
    },
    {
      "cell_type": "markdown",
      "metadata": {
        "id": "fV2c35cU6NYR"
      },
      "source": [
        "**Define Data Preprocessing**"
      ]
    },
    {
      "cell_type": "code",
      "execution_count": 5,
      "metadata": {
        "id": "QEmjMKYj6NYR"
      },
      "outputs": [],
      "source": [
        "# Define transforms for training phase\n",
        "train_transform = transforms.Compose([transforms.Resize(256),      # Resizes short size of the PIL image to 256\n",
        "                                      # Crops a central square patch of the image\n",
        "                                      transforms.CenterCrop(224),\n",
        "                                      # 224 because torchvision's AlexNet needs a 224x224 input!\n",
        "                                      # Remember this when applying different transformations, otherwise you get an error\n",
        "                                      transforms.ToTensor(),  # Turn PIL Image to torch.Tensor\n",
        "                                      # Normalizes tensor with mean and standard deviation\n",
        "                                      transforms.Normalize(\n",
        "                                          (0.5, 0.5, 0.5), (0.5, 0.5, 0.5))\n",
        "                                      ])\n"
      ]
    },
    {
      "cell_type": "markdown",
      "metadata": {
        "id": "cFcdBkMU6NYS"
      },
      "source": [
        "**Dataset Class**"
      ]
    },
    {
      "cell_type": "code",
      "execution_count": 6,
      "metadata": {
        "id": "yP3kMQMG6NYS"
      },
      "outputs": [],
      "source": [
        "from torchvision.datasets import VisionDataset\n",
        "\n",
        "from PIL import Image\n",
        "\n",
        "import os\n",
        "import os.path\n",
        "import sys\n",
        "\n",
        "\n",
        "def pil_loader(path):\n",
        "    # open path as file to avoid ResourceWarning (https://github.com/python-pillow/Pillow/issues/835)\n",
        "    with open(path, 'rb') as f:\n",
        "        img = Image.open(f)\n",
        "        return img.convert('RGB')\n",
        "\n",
        "\n",
        "class MoviePosters(VisionDataset):\n",
        "    def __init__(self, root, split='train', transform=None, target_transform=None):\n",
        "        super(MoviePosters, self).__init__(root, transform=transform, target_transform=target_transform)\n",
        "\n",
        "        self.split = split # This defines the split you are going to use\n",
        "                           # (split files are called 'train.txt' and 'test.txt')\n",
        "\n",
        "        '''\n",
        "        - Here you should implement the logic for reading the splits files and accessing elements\n",
        "        - If the RAM size allows it, it is faster to store all data in memory\n",
        "        - PyTorch Dataset classes use indexes to read elements\n",
        "        - You should provide a way for the __getitem__ method to access the image-label pair\n",
        "          through the index\n",
        "        - Labels should start from 0, so for Caltech you will have lables 0...100 (excluding the background class) \n",
        "        '''\n",
        "        # Open file in read only mode and read all lines\n",
        "        file = open(self.split, \"r\")\n",
        "        lines = file.readlines()\n",
        "\n",
        "        # Filter out the lines which start with 'BACKGROUND_Google' as asked in the homework\n",
        "        self.elements = [i for i in lines if not i.startswith('BACKGROUND_Google')]\n",
        "\n",
        "        # Delete BACKGROUND_Google class from dataset labels\n",
        "        self.classes = sorted(os.listdir(os.path.join(self.root, \"\")))\n",
        "        # self.classes.remove(\"BACKGROUND_Google\")\n",
        "\n",
        "\n",
        "    def __getitem__(self, index):\n",
        "        ''' \n",
        "        __getitem__ should access an element through its index\n",
        "        Args:\n",
        "            index (int): Index\n",
        "        Returns:\n",
        "            tuple: (sample, target) where target is class_index of the target class.\n",
        "        '''\n",
        "\n",
        "        img = pil_loader(os.path.join(self.root, self.elements[index].rstrip()))\n",
        "\n",
        "        target = self.classes.index(self.elements[index].rstrip().split('/')[0])\n",
        "\n",
        "        image, label = img, target # Provide a way to access image and label via index\n",
        "                           # Image should be a PIL Image\n",
        "                           # label can be int\n",
        "\n",
        "        # Applies preprocessing when accessing the image\n",
        "        if self.transform is not None:\n",
        "            image = self.transform(image)\n",
        "\n",
        "        return image, label\n",
        "\n",
        "    def __len__(self):\n",
        "        '''\n",
        "        The __len__ method returns the length of the dataset\n",
        "        It is mandatory, as this is used by several other components\n",
        "        '''\n",
        "        # Provides a way to get the length (number of elements) of the dataset\n",
        "        length =  len(self.elements)\n",
        "        return length"
      ]
    },
    {
      "cell_type": "markdown",
      "metadata": {
        "id": "LsqI5gnM6NYT"
      },
      "source": [
        "**Prepare Dataset**"
      ]
    },
    {
      "cell_type": "code",
      "execution_count": 7,
      "metadata": {
        "colab": {
          "base_uri": "https://localhost:8080/"
        },
        "id": "0_7PT1Jy6NYT",
        "outputId": "99f003f4-966b-4a34-b4e8-9d0f50bb72c5"
      },
      "outputs": [
        {
          "name": "stdout",
          "output_type": "stream",
          "text": [
            "Train Dataset: 19274\n",
            "Valid Dataset: 19274\n"
          ]
        }
      ],
      "source": [
        "from sklearn.model_selection import train_test_split\n",
        "\n",
        "DATA_DIR = 'movie_posters_dataset'\n",
        "\n",
        "SPLIT_TRAIN = 'train.txt'\n",
        "\n",
        "train_dataset_ = MoviePosters(\n",
        "    DATA_DIR, split=SPLIT_TRAIN, transform=train_transform)\n",
        "\n",
        "train_len_list = list(range(len(train_dataset_)))\n",
        "\n",
        "train_indexes, val_indexes = train_test_split(train_len_list, shuffle=True, test_size=0.5)\n",
        "\n",
        "train_dataset = Subset(train_dataset_, train_indexes)\n",
        "val_dataset = Subset(train_dataset_, val_indexes)\n",
        "\n",
        "# Check dataset sizes\n",
        "print('Train Dataset: {}'.format(len(train_dataset)))\n",
        "print('Valid Dataset: {}'.format(len(val_dataset)))\n"
      ]
    },
    {
      "cell_type": "markdown",
      "metadata": {
        "id": "_wo4rBNb6NYT"
      },
      "source": [
        "**Prepare Dataloaders**"
      ]
    },
    {
      "cell_type": "code",
      "execution_count": 8,
      "metadata": {
        "colab": {
          "base_uri": "https://localhost:8080/"
        },
        "id": "ofLqYDEV6NYT",
        "outputId": "8a9eac94-9df7-4721-f609-46c8b7ee6772"
      },
      "outputs": [
        {
          "name": "stderr",
          "output_type": "stream",
          "text": [
            "/usr/local/lib/python3.8/dist-packages/torch/utils/data/dataloader.py:554: UserWarning: This DataLoader will create 4 worker processes in total. Our suggested max number of worker in current system is 2, which is smaller than what this DataLoader is going to create. Please be aware that excessive worker creation might get DataLoader running slow or even freeze, lower the worker number to avoid potential slowness/freeze if necessary.\n",
            "  warnings.warn(_create_warning_msg(\n"
          ]
        }
      ],
      "source": [
        "# Dataloaders iterate over pytorch datasets and transparently provide useful functions (e.g. parallelization and shuffling)\n",
        "train_dataloader = DataLoader(\n",
        "    train_dataset, batch_size=BATCH_SIZE, shuffle=True, num_workers=4, drop_last=True)\n",
        "val_dataloader = DataLoader(\n",
        "    val_dataset, batch_size=BATCH_SIZE, shuffle=False, num_workers=4)\n"
      ]
    },
    {
      "cell_type": "markdown",
      "metadata": {
        "id": "zzCf8vZF6NYT"
      },
      "source": [
        "**Prepare Network**"
      ]
    },
    {
      "cell_type": "code",
      "execution_count": 9,
      "metadata": {
        "colab": {
          "base_uri": "https://localhost:8080/"
        },
        "id": "k1z01APv6NYU",
        "outputId": "c2e8d4fe-e427-4ea4-e0d0-04d002d464ed"
      },
      "outputs": [
        {
          "name": "stderr",
          "output_type": "stream",
          "text": [
            "/usr/local/lib/python3.8/dist-packages/torchvision/models/_utils.py:208: UserWarning: The parameter 'pretrained' is deprecated since 0.13 and may be removed in the future, please use 'weights' instead.\n",
            "  warnings.warn(\n",
            "/usr/local/lib/python3.8/dist-packages/torchvision/models/_utils.py:223: UserWarning: Arguments other than a weight enum or `None` for 'weights' are deprecated since 0.13 and may be removed in the future. The current behavior is equivalent to passing `weights=None`.\n",
            "  warnings.warn(msg)\n"
          ]
        }
      ],
      "source": [
        "net = alexnet(pretrained=False)  # Loading AlexNet model, set pretrained\n",
        "\n",
        "# AlexNet has 1000 output neurons, corresponding to the 1000 ImageNet's classes\n",
        "# We need 101 outputs for Caltech-101\n",
        "# nn.Linear in pytorch is a fully connected layer\n",
        "net.classifier[6] = nn.Linear(4096, 28)\n",
        "# The convolutional layer is nn.Conv2d\n",
        "\n",
        "# We just changed the last layer of AlexNet with a new fully connected layer with 28 outputs\n",
        "# It is strongly suggested to study torchvision.models.alexnet source code\n"
      ]
    },
    {
      "cell_type": "markdown",
      "metadata": {
        "id": "frbu_VgM6NYU"
      },
      "source": [
        "**Prepare Training**"
      ]
    },
    {
      "cell_type": "code",
      "execution_count": 10,
      "metadata": {
        "id": "rWTll6Qt6NYU"
      },
      "outputs": [],
      "source": [
        "# Define loss function\n",
        "criterion = nn.CrossEntropyLoss() # for classification, we use Cross Entropy\n",
        "\n",
        "# Choose parameters to optimize\n",
        "# To access a different set of parameters, you have to access submodules of AlexNet\n",
        "# (nn.Module objects, like AlexNet, implement the Composite Pattern)\n",
        "# e.g.: parameters of the fully connected layers: net.classifier.parameters()\n",
        "# e.g.: parameters of the convolutional layers: look at alexnet's source code ;) \n",
        "parameters_to_optimize = net.parameters() # In this case we optimize over all the parameters of AlexNet\n",
        "\n",
        "# Define optimizer\n",
        "# An optimizer updates the weights based on loss\n",
        "# We use SGD with momentum\n",
        "optimizer = optim.SGD(parameters_to_optimize, lr=LR, momentum=MOMENTUM, weight_decay=WEIGHT_DECAY)\n",
        "\n",
        "# Define scheduler\n",
        "# A scheduler dynamically changes learning rate\n",
        "# The most common schedule is the step(-down), which multiplies learning rate by gamma every STEP_SIZE epochs\n",
        "scheduler = optim.lr_scheduler.StepLR(optimizer, step_size=STEP_SIZE, gamma=GAMMA)"
      ]
    },
    {
      "cell_type": "markdown",
      "metadata": {
        "id": "_I6nDIzW6NYU"
      },
      "source": [
        "**Train**"
      ]
    },
    {
      "cell_type": "code",
      "execution_count": 11,
      "metadata": {
        "colab": {
          "base_uri": "https://localhost:8080/"
        },
        "id": "Rh-DpmMb6NYU",
        "outputId": "500f2870-32a5-433d-f018-f7c8f2d5337a"
      },
      "outputs": [
        {
          "name": "stdout",
          "output_type": "stream",
          "text": [
            "\n",
            "##################################################\n",
            "Starting epoch 1/30, LR = [0.025]\n"
          ]
        },
        {
          "name": "stderr",
          "output_type": "stream",
          "text": [
            "/usr/local/lib/python3.8/dist-packages/torch/optim/lr_scheduler.py:381: UserWarning: To get the last learning rate computed by the scheduler, please use `get_last_lr()`.\n",
            "  warnings.warn(\"To get the last learning rate computed by the scheduler, \"\n"
          ]
        },
        {
          "name": "stdout",
          "output_type": "stream",
          "text": [
            "Step 0, Loss 3.335606336593628\n",
            "Step 10, Loss 3.089062452316284\n",
            "Step 20, Loss 2.273801803588867\n",
            "Step 30, Loss 2.352163076400757\n",
            "Step 40, Loss 2.2152345180511475\n",
            "Step 50, Loss 2.166625738143921\n",
            "Step 60, Loss 2.236783504486084\n",
            "Step 70, Loss 2.187218189239502\n"
          ]
        },
        {
          "name": "stderr",
          "output_type": "stream",
          "text": [
            "100%|██████████| 76/76 [01:02<00:00,  1.22it/s]"
          ]
        },
        {
          "name": "stdout",
          "output_type": "stream",
          "text": [
            "Validation Accuracy: 0.24686105634533567\n",
            "\n",
            "##################################################\n",
            "Starting epoch 2/30, LR = [0.025]\n"
          ]
        },
        {
          "name": "stderr",
          "output_type": "stream",
          "text": [
            "\n"
          ]
        },
        {
          "name": "stdout",
          "output_type": "stream",
          "text": [
            "Step 80, Loss 2.307314395904541\n",
            "Step 90, Loss 2.2449522018432617\n",
            "Step 100, Loss 2.290147304534912\n",
            "Step 110, Loss 2.1305229663848877\n",
            "Step 120, Loss 2.0715882778167725\n",
            "Step 130, Loss 2.136690855026245\n",
            "Step 140, Loss 2.320369005203247\n"
          ]
        },
        {
          "name": "stderr",
          "output_type": "stream",
          "text": [
            "100%|██████████| 76/76 [01:04<00:00,  1.19it/s]"
          ]
        },
        {
          "name": "stdout",
          "output_type": "stream",
          "text": [
            "Validation Accuracy: 0.24846944069731244\n",
            "\n",
            "##################################################\n",
            "Starting epoch 3/30, LR = [0.025]\n"
          ]
        },
        {
          "name": "stderr",
          "output_type": "stream",
          "text": [
            "\n"
          ]
        },
        {
          "name": "stdout",
          "output_type": "stream",
          "text": [
            "Step 150, Loss 2.1682631969451904\n",
            "Step 160, Loss 2.104208469390869\n",
            "Step 170, Loss 2.162015199661255\n",
            "Step 180, Loss 2.203000068664551\n",
            "Step 190, Loss 2.2325549125671387\n",
            "Step 200, Loss 2.1407108306884766\n",
            "Step 210, Loss 2.0515692234039307\n",
            "Step 220, Loss 2.1194894313812256\n"
          ]
        },
        {
          "name": "stderr",
          "output_type": "stream",
          "text": [
            "100%|██████████| 76/76 [01:07<00:00,  1.12it/s]"
          ]
        },
        {
          "name": "stdout",
          "output_type": "stream",
          "text": [
            "Validation Accuracy: 0.30050845698868944\n",
            "\n",
            "##################################################\n",
            "Starting epoch 4/30, LR = [0.025]\n"
          ]
        },
        {
          "name": "stderr",
          "output_type": "stream",
          "text": [
            "\n"
          ]
        },
        {
          "name": "stdout",
          "output_type": "stream",
          "text": [
            "Step 230, Loss 2.113720655441284\n",
            "Step 240, Loss 2.2102153301239014\n",
            "Step 250, Loss 2.1189184188842773\n",
            "Step 260, Loss 2.1193480491638184\n",
            "Step 270, Loss 2.1321115493774414\n",
            "Step 280, Loss 2.204763412475586\n",
            "Step 290, Loss 2.136692523956299\n"
          ]
        },
        {
          "name": "stderr",
          "output_type": "stream",
          "text": [
            "100%|██████████| 76/76 [01:04<00:00,  1.17it/s]"
          ]
        },
        {
          "name": "stdout",
          "output_type": "stream",
          "text": [
            "Validation Accuracy: 0.2980180554114351\n",
            "\n",
            "##################################################\n",
            "Starting epoch 5/30, LR = [0.025]\n"
          ]
        },
        {
          "name": "stderr",
          "output_type": "stream",
          "text": [
            "\n"
          ]
        },
        {
          "name": "stdout",
          "output_type": "stream",
          "text": [
            "Step 300, Loss 2.081615686416626\n",
            "Step 310, Loss 2.158093214035034\n",
            "Step 320, Loss 2.157892942428589\n",
            "Step 330, Loss 2.3006956577301025\n",
            "Step 340, Loss 2.0961995124816895\n",
            "Step 350, Loss 2.2006676197052\n",
            "Step 360, Loss 2.0551369190216064\n",
            "Step 370, Loss 2.0861306190490723\n"
          ]
        },
        {
          "name": "stderr",
          "output_type": "stream",
          "text": [
            "100%|██████████| 76/76 [01:08<00:00,  1.11it/s]"
          ]
        },
        {
          "name": "stdout",
          "output_type": "stream",
          "text": [
            "Validation Accuracy: 0.30206495797447336\n",
            "\n",
            "##################################################\n",
            "Starting epoch 6/30, LR = [0.025]\n"
          ]
        },
        {
          "name": "stderr",
          "output_type": "stream",
          "text": [
            "\n"
          ]
        },
        {
          "name": "stdout",
          "output_type": "stream",
          "text": [
            "Step 380, Loss 2.1319217681884766\n",
            "Step 390, Loss 2.100126028060913\n",
            "Step 400, Loss 2.277381420135498\n",
            "Step 410, Loss 2.085348606109619\n",
            "Step 420, Loss 2.134747266769409\n",
            "Step 430, Loss 2.1361641883850098\n",
            "Step 440, Loss 2.110654354095459\n"
          ]
        },
        {
          "name": "stderr",
          "output_type": "stream",
          "text": [
            "100%|██████████| 76/76 [01:09<00:00,  1.09it/s]"
          ]
        },
        {
          "name": "stdout",
          "output_type": "stream",
          "text": [
            "Validation Accuracy: 0.30434782608695654\n",
            "\n",
            "##################################################\n",
            "Starting epoch 7/30, LR = [0.025]\n"
          ]
        },
        {
          "name": "stderr",
          "output_type": "stream",
          "text": [
            "\n"
          ]
        },
        {
          "name": "stdout",
          "output_type": "stream",
          "text": [
            "Step 450, Loss 2.1313719749450684\n",
            "Step 460, Loss 2.2235000133514404\n",
            "Step 470, Loss 2.0672526359558105\n",
            "Step 480, Loss 2.0497214794158936\n",
            "Step 490, Loss 2.089207172393799\n",
            "Step 500, Loss 2.2540762424468994\n",
            "Step 510, Loss 2.1559553146362305\n",
            "Step 520, Loss 2.1724414825439453\n"
          ]
        },
        {
          "name": "stderr",
          "output_type": "stream",
          "text": [
            "100%|██████████| 76/76 [01:09<00:00,  1.10it/s]"
          ]
        },
        {
          "name": "stdout",
          "output_type": "stream",
          "text": [
            "Validation Accuracy: 0.3187714018885545\n",
            "\n",
            "##################################################\n",
            "Starting epoch 8/30, LR = [0.025]\n"
          ]
        },
        {
          "name": "stderr",
          "output_type": "stream",
          "text": [
            "\n"
          ]
        },
        {
          "name": "stdout",
          "output_type": "stream",
          "text": [
            "Step 530, Loss 2.0436630249023438\n",
            "Step 540, Loss 2.0655999183654785\n",
            "Step 550, Loss 2.1103527545928955\n",
            "Step 560, Loss 2.200127363204956\n",
            "Step 570, Loss 2.1681222915649414\n",
            "Step 580, Loss 2.041142702102661\n",
            "Step 590, Loss 2.1469643115997314\n"
          ]
        },
        {
          "name": "stderr",
          "output_type": "stream",
          "text": [
            "100%|██████████| 76/76 [01:10<00:00,  1.08it/s]"
          ]
        },
        {
          "name": "stdout",
          "output_type": "stream",
          "text": [
            "Validation Accuracy: 0.323544671578292\n",
            "\n",
            "##################################################\n",
            "Starting epoch 9/30, LR = [0.025]\n"
          ]
        },
        {
          "name": "stderr",
          "output_type": "stream",
          "text": [
            "\n"
          ]
        },
        {
          "name": "stdout",
          "output_type": "stream",
          "text": [
            "Step 600, Loss 2.151874303817749\n",
            "Step 610, Loss 2.1038219928741455\n",
            "Step 620, Loss 2.111590623855591\n",
            "Step 630, Loss 2.0681545734405518\n",
            "Step 640, Loss 2.104097604751587\n",
            "Step 650, Loss 2.1806423664093018\n",
            "Step 660, Loss 2.1288716793060303\n",
            "Step 670, Loss 2.1155850887298584\n"
          ]
        },
        {
          "name": "stderr",
          "output_type": "stream",
          "text": [
            "100%|██████████| 76/76 [01:09<00:00,  1.09it/s]"
          ]
        },
        {
          "name": "stdout",
          "output_type": "stream",
          "text": [
            "Validation Accuracy: 0.32204005395870083\n",
            "\n",
            "##################################################\n",
            "Starting epoch 10/30, LR = [0.025]\n"
          ]
        },
        {
          "name": "stderr",
          "output_type": "stream",
          "text": [
            "\n"
          ]
        },
        {
          "name": "stdout",
          "output_type": "stream",
          "text": [
            "Step 680, Loss 2.121663808822632\n",
            "Step 690, Loss 2.0606625080108643\n",
            "Step 700, Loss 2.0732836723327637\n",
            "Step 710, Loss 2.21372652053833\n",
            "Step 720, Loss 2.0402185916900635\n",
            "Step 730, Loss 2.1172945499420166\n",
            "Step 740, Loss 2.0766537189483643\n"
          ]
        },
        {
          "name": "stderr",
          "output_type": "stream",
          "text": [
            "100%|██████████| 76/76 [01:09<00:00,  1.09it/s]"
          ]
        },
        {
          "name": "stdout",
          "output_type": "stream",
          "text": [
            "Validation Accuracy: 0.3164885337760714\n",
            "\n",
            "##################################################\n",
            "Starting epoch 11/30, LR = [0.020250000000000004]\n"
          ]
        },
        {
          "name": "stderr",
          "output_type": "stream",
          "text": [
            "\n"
          ]
        },
        {
          "name": "stdout",
          "output_type": "stream",
          "text": [
            "Step 750, Loss 2.162599802017212\n",
            "Step 760, Loss 2.1055381298065186\n",
            "Step 770, Loss 2.0525572299957275\n",
            "Step 780, Loss 2.009803295135498\n",
            "Step 790, Loss 1.9930262565612793\n",
            "Step 800, Loss 2.128901958465576\n",
            "Step 810, Loss 2.035691738128662\n",
            "Step 820, Loss 2.080498695373535\n"
          ]
        },
        {
          "name": "stderr",
          "output_type": "stream",
          "text": [
            "100%|██████████| 76/76 [01:11<00:00,  1.07it/s]"
          ]
        },
        {
          "name": "stdout",
          "output_type": "stream",
          "text": [
            "Validation Accuracy: 0.33013385908477744\n",
            "\n",
            "##################################################\n",
            "Starting epoch 12/30, LR = [0.022500000000000003]\n"
          ]
        },
        {
          "name": "stderr",
          "output_type": "stream",
          "text": [
            "\n"
          ]
        },
        {
          "name": "stdout",
          "output_type": "stream",
          "text": [
            "Step 830, Loss 2.192732810974121\n",
            "Step 840, Loss 2.043262243270874\n",
            "Step 850, Loss 2.0776968002319336\n",
            "Step 860, Loss 2.1756510734558105\n",
            "Step 870, Loss 2.041288375854492\n",
            "Step 880, Loss 2.027317762374878\n",
            "Step 890, Loss 2.0573537349700928\n"
          ]
        },
        {
          "name": "stderr",
          "output_type": "stream",
          "text": [
            "100%|██████████| 76/76 [01:09<00:00,  1.09it/s]"
          ]
        },
        {
          "name": "stdout",
          "output_type": "stream",
          "text": [
            "Validation Accuracy: 0.3304451592819342\n",
            "\n",
            "##################################################\n",
            "Starting epoch 13/30, LR = [0.022500000000000003]\n"
          ]
        },
        {
          "name": "stderr",
          "output_type": "stream",
          "text": [
            "\n"
          ]
        },
        {
          "name": "stdout",
          "output_type": "stream",
          "text": [
            "Step 900, Loss 2.1113295555114746\n",
            "Step 910, Loss 2.14267897605896\n",
            "Step 920, Loss 2.0605673789978027\n",
            "Step 930, Loss 1.9850447177886963\n",
            "Step 940, Loss 2.0428414344787598\n",
            "Step 950, Loss 1.9913616180419922\n",
            "Step 960, Loss 2.0022809505462646\n",
            "Step 970, Loss 2.031463146209717\n"
          ]
        },
        {
          "name": "stderr",
          "output_type": "stream",
          "text": [
            "100%|██████████| 76/76 [01:11<00:00,  1.07it/s]"
          ]
        },
        {
          "name": "stdout",
          "output_type": "stream",
          "text": [
            "Validation Accuracy: 0.32961502542284943\n",
            "\n",
            "##################################################\n",
            "Starting epoch 14/30, LR = [0.022500000000000003]\n"
          ]
        },
        {
          "name": "stderr",
          "output_type": "stream",
          "text": [
            "\n"
          ]
        },
        {
          "name": "stdout",
          "output_type": "stream",
          "text": [
            "Step 980, Loss 1.9917725324630737\n",
            "Step 990, Loss 2.0735106468200684\n",
            "Step 1000, Loss 2.0902211666107178\n",
            "Step 1010, Loss 2.066744089126587\n",
            "Step 1020, Loss 2.0641794204711914\n",
            "Step 1030, Loss 2.0756218433380127\n",
            "Step 1040, Loss 2.1338982582092285\n"
          ]
        },
        {
          "name": "stderr",
          "output_type": "stream",
          "text": [
            "100%|██████████| 76/76 [01:09<00:00,  1.09it/s]"
          ]
        },
        {
          "name": "stdout",
          "output_type": "stream",
          "text": [
            "Validation Accuracy: 0.3305489260143198\n",
            "\n",
            "##################################################\n",
            "Starting epoch 15/30, LR = [0.022500000000000003]\n"
          ]
        },
        {
          "name": "stderr",
          "output_type": "stream",
          "text": [
            "\n"
          ]
        },
        {
          "name": "stdout",
          "output_type": "stream",
          "text": [
            "Step 1050, Loss 2.0060250759124756\n",
            "Step 1060, Loss 1.8802268505096436\n",
            "Step 1070, Loss 2.096693515777588\n",
            "Step 1080, Loss 2.146254062652588\n",
            "Step 1090, Loss 2.1308751106262207\n",
            "Step 1100, Loss 2.080941677093506\n",
            "Step 1110, Loss 2.0466983318328857\n",
            "Step 1120, Loss 2.0547261238098145\n"
          ]
        },
        {
          "name": "stderr",
          "output_type": "stream",
          "text": [
            "100%|██████████| 76/76 [01:08<00:00,  1.10it/s]"
          ]
        },
        {
          "name": "stdout",
          "output_type": "stream",
          "text": [
            "Validation Accuracy: 0.33252049392964617\n",
            "\n",
            "##################################################\n",
            "Starting epoch 16/30, LR = [0.022500000000000003]\n"
          ]
        },
        {
          "name": "stderr",
          "output_type": "stream",
          "text": [
            "\n"
          ]
        },
        {
          "name": "stdout",
          "output_type": "stream",
          "text": [
            "Step 1130, Loss 2.0600810050964355\n",
            "Step 1140, Loss 1.9676892757415771\n",
            "Step 1150, Loss 2.0837531089782715\n",
            "Step 1160, Loss 2.0588386058807373\n",
            "Step 1170, Loss 2.0231173038482666\n",
            "Step 1180, Loss 2.0317797660827637\n",
            "Step 1190, Loss 1.9822359085083008\n"
          ]
        },
        {
          "name": "stderr",
          "output_type": "stream",
          "text": [
            "100%|██████████| 76/76 [01:09<00:00,  1.09it/s]"
          ]
        },
        {
          "name": "stdout",
          "output_type": "stream",
          "text": [
            "Validation Accuracy: 0.3332468610563453\n",
            "\n",
            "##################################################\n",
            "Starting epoch 17/30, LR = [0.022500000000000003]\n"
          ]
        },
        {
          "name": "stderr",
          "output_type": "stream",
          "text": [
            "\n"
          ]
        },
        {
          "name": "stdout",
          "output_type": "stream",
          "text": [
            "Step 1200, Loss 2.1225528717041016\n",
            "Step 1210, Loss 1.9858729839324951\n",
            "Step 1220, Loss 2.0316808223724365\n",
            "Step 1230, Loss 2.079294204711914\n",
            "Step 1240, Loss 2.0496225357055664\n",
            "Step 1250, Loss 1.9505243301391602\n",
            "Step 1260, Loss 2.0365235805511475\n",
            "Step 1270, Loss 1.9962502717971802\n"
          ]
        },
        {
          "name": "stderr",
          "output_type": "stream",
          "text": [
            "100%|██████████| 76/76 [01:09<00:00,  1.09it/s]"
          ]
        },
        {
          "name": "stdout",
          "output_type": "stream",
          "text": [
            "Validation Accuracy: 0.3345958285773581\n",
            "\n",
            "##################################################\n",
            "Starting epoch 18/30, LR = [0.022500000000000003]\n"
          ]
        },
        {
          "name": "stderr",
          "output_type": "stream",
          "text": [
            "\n"
          ]
        },
        {
          "name": "stdout",
          "output_type": "stream",
          "text": [
            "Step 1280, Loss 1.9880151748657227\n",
            "Step 1290, Loss 2.0129730701446533\n",
            "Step 1300, Loss 2.0080103874206543\n",
            "Step 1310, Loss 2.087641954421997\n",
            "Step 1320, Loss 1.9010367393493652\n",
            "Step 1330, Loss 2.163496971130371\n",
            "Step 1340, Loss 2.0715250968933105\n"
          ]
        },
        {
          "name": "stderr",
          "output_type": "stream",
          "text": [
            "100%|██████████| 76/76 [01:09<00:00,  1.10it/s]"
          ]
        },
        {
          "name": "stdout",
          "output_type": "stream",
          "text": [
            "Validation Accuracy: 0.33485524540832207\n",
            "\n",
            "##################################################\n",
            "Starting epoch 19/30, LR = [0.022500000000000003]\n"
          ]
        },
        {
          "name": "stderr",
          "output_type": "stream",
          "text": [
            "\n"
          ]
        },
        {
          "name": "stdout",
          "output_type": "stream",
          "text": [
            "Step 1350, Loss 2.057687520980835\n",
            "Step 1360, Loss 1.9937225580215454\n",
            "Step 1370, Loss 2.0360000133514404\n",
            "Step 1380, Loss 2.104794502258301\n",
            "Step 1390, Loss 2.0614213943481445\n",
            "Step 1400, Loss 1.9867154359817505\n",
            "Step 1410, Loss 2.012397289276123\n",
            "Step 1420, Loss 2.035775899887085\n"
          ]
        },
        {
          "name": "stderr",
          "output_type": "stream",
          "text": [
            "100%|██████████| 76/76 [01:08<00:00,  1.11it/s]"
          ]
        },
        {
          "name": "stdout",
          "output_type": "stream",
          "text": [
            "Validation Accuracy: 0.3393172149009028\n",
            "\n",
            "##################################################\n",
            "Starting epoch 20/30, LR = [0.022500000000000003]\n"
          ]
        },
        {
          "name": "stderr",
          "output_type": "stream",
          "text": [
            "\n"
          ]
        },
        {
          "name": "stdout",
          "output_type": "stream",
          "text": [
            "Step 1430, Loss 2.0310373306274414\n",
            "Step 1440, Loss 1.9909946918487549\n",
            "Step 1450, Loss 2.1242644786834717\n",
            "Step 1460, Loss 2.021611452102661\n",
            "Step 1470, Loss 1.9620790481567383\n",
            "Step 1480, Loss 1.9443604946136475\n",
            "Step 1490, Loss 1.932495355606079\n"
          ]
        },
        {
          "name": "stderr",
          "output_type": "stream",
          "text": [
            "100%|██████████| 76/76 [01:10<00:00,  1.08it/s]"
          ]
        },
        {
          "name": "stdout",
          "output_type": "stream",
          "text": [
            "Validation Accuracy: 0.3410293659852651\n",
            "\n",
            "##################################################\n",
            "Starting epoch 21/30, LR = [0.018225000000000005]\n"
          ]
        },
        {
          "name": "stderr",
          "output_type": "stream",
          "text": [
            "\n"
          ]
        },
        {
          "name": "stdout",
          "output_type": "stream",
          "text": [
            "Step 1500, Loss 2.0717976093292236\n",
            "Step 1510, Loss 1.8176237344741821\n",
            "Step 1520, Loss 2.0578672885894775\n",
            "Step 1530, Loss 2.0254809856414795\n",
            "Step 1540, Loss 2.023378849029541\n",
            "Step 1550, Loss 1.9859240055084229\n",
            "Step 1560, Loss 2.1455812454223633\n",
            "Step 1570, Loss 2.0253429412841797\n"
          ]
        },
        {
          "name": "stderr",
          "output_type": "stream",
          "text": [
            "100%|██████████| 76/76 [01:08<00:00,  1.11it/s]"
          ]
        },
        {
          "name": "stdout",
          "output_type": "stream",
          "text": [
            "Validation Accuracy: 0.3425858669710491\n",
            "\n",
            "##################################################\n",
            "Starting epoch 22/30, LR = [0.020250000000000004]\n"
          ]
        },
        {
          "name": "stderr",
          "output_type": "stream",
          "text": [
            "\n"
          ]
        },
        {
          "name": "stdout",
          "output_type": "stream",
          "text": [
            "Step 1580, Loss 2.0781197547912598\n",
            "Step 1590, Loss 2.0752217769622803\n",
            "Step 1600, Loss 1.9839098453521729\n",
            "Step 1610, Loss 2.1003053188323975\n",
            "Step 1620, Loss 2.0167582035064697\n",
            "Step 1630, Loss 2.0278549194335938\n",
            "Step 1640, Loss 2.0934629440307617\n"
          ]
        },
        {
          "name": "stderr",
          "output_type": "stream",
          "text": [
            "100%|██████████| 76/76 [01:08<00:00,  1.11it/s]"
          ]
        },
        {
          "name": "stdout",
          "output_type": "stream",
          "text": [
            "Validation Accuracy: 0.34014734875998753\n",
            "\n",
            "##################################################\n",
            "Starting epoch 23/30, LR = [0.020250000000000004]\n"
          ]
        },
        {
          "name": "stderr",
          "output_type": "stream",
          "text": [
            "\n"
          ]
        },
        {
          "name": "stdout",
          "output_type": "stream",
          "text": [
            "Step 1650, Loss 1.9803311824798584\n",
            "Step 1660, Loss 1.8639945983886719\n",
            "Step 1670, Loss 2.0629773139953613\n",
            "Step 1680, Loss 2.0530662536621094\n",
            "Step 1690, Loss 2.0158379077911377\n",
            "Step 1700, Loss 1.930463433265686\n",
            "Step 1710, Loss 1.975386381149292\n",
            "Step 1720, Loss 2.024528980255127\n"
          ]
        },
        {
          "name": "stderr",
          "output_type": "stream",
          "text": [
            "100%|██████████| 76/76 [01:09<00:00,  1.09it/s]"
          ]
        },
        {
          "name": "stdout",
          "output_type": "stream",
          "text": [
            "Validation Accuracy: 0.32862924146518624\n",
            "\n",
            "##################################################\n",
            "Starting epoch 24/30, LR = [0.020250000000000004]\n"
          ]
        },
        {
          "name": "stderr",
          "output_type": "stream",
          "text": [
            "\n"
          ]
        },
        {
          "name": "stdout",
          "output_type": "stream",
          "text": [
            "Step 1730, Loss 2.031867027282715\n",
            "Step 1740, Loss 1.899789571762085\n",
            "Step 1750, Loss 1.968131184577942\n",
            "Step 1760, Loss 1.999192237854004\n",
            "Step 1770, Loss 1.8998651504516602\n",
            "Step 1780, Loss 1.9775974750518799\n",
            "Step 1790, Loss 1.9783157110214233\n"
          ]
        },
        {
          "name": "stderr",
          "output_type": "stream",
          "text": [
            "100%|██████████| 76/76 [01:08<00:00,  1.11it/s]"
          ]
        },
        {
          "name": "stdout",
          "output_type": "stream",
          "text": [
            "Validation Accuracy: 0.3157102832831794\n",
            "\n",
            "##################################################\n",
            "Starting epoch 25/30, LR = [0.020250000000000004]\n"
          ]
        },
        {
          "name": "stderr",
          "output_type": "stream",
          "text": [
            "\n"
          ]
        },
        {
          "name": "stdout",
          "output_type": "stream",
          "text": [
            "Step 1800, Loss 2.0094456672668457\n",
            "Step 1810, Loss 1.9368937015533447\n",
            "Step 1820, Loss 2.1434197425842285\n",
            "Step 1830, Loss 2.0022552013397217\n",
            "Step 1840, Loss 1.6803395748138428\n",
            "Step 1850, Loss 2.025336742401123\n",
            "Step 1860, Loss 1.8249115943908691\n",
            "Step 1870, Loss 1.864638328552246\n"
          ]
        },
        {
          "name": "stderr",
          "output_type": "stream",
          "text": [
            "100%|██████████| 76/76 [01:10<00:00,  1.08it/s]"
          ]
        },
        {
          "name": "stdout",
          "output_type": "stream",
          "text": [
            "Validation Accuracy: 0.3125972813116115\n",
            "\n",
            "##################################################\n",
            "Starting epoch 26/30, LR = [0.020250000000000004]\n"
          ]
        },
        {
          "name": "stderr",
          "output_type": "stream",
          "text": [
            "\n"
          ]
        },
        {
          "name": "stdout",
          "output_type": "stream",
          "text": [
            "Step 1880, Loss 1.9317100048065186\n",
            "Step 1890, Loss 1.927029013633728\n",
            "Step 1900, Loss 1.9601380825042725\n",
            "Step 1910, Loss 1.884892463684082\n",
            "Step 1920, Loss 1.9992315769195557\n",
            "Step 1930, Loss 1.9838392734527588\n",
            "Step 1940, Loss 1.9845577478408813\n"
          ]
        },
        {
          "name": "stderr",
          "output_type": "stream",
          "text": [
            "100%|██████████| 76/76 [01:08<00:00,  1.11it/s]"
          ]
        },
        {
          "name": "stdout",
          "output_type": "stream",
          "text": [
            "Validation Accuracy: 0.34699595309743697\n",
            "\n",
            "##################################################\n",
            "Starting epoch 27/30, LR = [0.020250000000000004]\n"
          ]
        },
        {
          "name": "stderr",
          "output_type": "stream",
          "text": [
            "\n"
          ]
        },
        {
          "name": "stdout",
          "output_type": "stream",
          "text": [
            "Step 1950, Loss 1.8851066827774048\n",
            "Step 1960, Loss 1.9069912433624268\n",
            "Step 1970, Loss 1.9434477090835571\n",
            "Step 1980, Loss 1.959188461303711\n",
            "Step 1990, Loss 1.897402048110962\n",
            "Step 2000, Loss 1.9700018167495728\n",
            "Step 2010, Loss 1.778641700744629\n",
            "Step 2020, Loss 2.0628931522369385\n"
          ]
        },
        {
          "name": "stderr",
          "output_type": "stream",
          "text": [
            "100%|██████████| 76/76 [01:08<00:00,  1.11it/s]"
          ]
        },
        {
          "name": "stdout",
          "output_type": "stream",
          "text": [
            "Validation Accuracy: 0.3411850160838435\n",
            "\n",
            "##################################################\n",
            "Starting epoch 28/30, LR = [0.020250000000000004]\n"
          ]
        },
        {
          "name": "stderr",
          "output_type": "stream",
          "text": [
            "\n"
          ]
        },
        {
          "name": "stdout",
          "output_type": "stream",
          "text": [
            "Step 2030, Loss 2.0455687046051025\n",
            "Step 2040, Loss 1.8900530338287354\n",
            "Step 2050, Loss 1.8511794805526733\n",
            "Step 2060, Loss 1.9870665073394775\n",
            "Step 2070, Loss 1.9489109516143799\n",
            "Step 2080, Loss 1.8412870168685913\n",
            "Step 2090, Loss 1.9992865324020386\n"
          ]
        },
        {
          "name": "stderr",
          "output_type": "stream",
          "text": [
            "100%|██████████| 76/76 [01:08<00:00,  1.11it/s]"
          ]
        },
        {
          "name": "stdout",
          "output_type": "stream",
          "text": [
            "Validation Accuracy: 0.33584102936598526\n",
            "\n",
            "##################################################\n",
            "Starting epoch 29/30, LR = [0.020250000000000004]\n"
          ]
        },
        {
          "name": "stderr",
          "output_type": "stream",
          "text": [
            "\n"
          ]
        },
        {
          "name": "stdout",
          "output_type": "stream",
          "text": [
            "Step 2100, Loss 1.8843917846679688\n",
            "Step 2110, Loss 1.9064197540283203\n",
            "Step 2120, Loss 1.675487995147705\n",
            "Step 2130, Loss 2.039738416671753\n",
            "Step 2140, Loss 1.826578140258789\n",
            "Step 2150, Loss 1.9145387411117554\n",
            "Step 2160, Loss 2.0715835094451904\n",
            "Step 2170, Loss 1.9296200275421143\n"
          ]
        },
        {
          "name": "stderr",
          "output_type": "stream",
          "text": [
            "100%|██████████| 76/76 [01:08<00:00,  1.11it/s]"
          ]
        },
        {
          "name": "stdout",
          "output_type": "stream",
          "text": [
            "Validation Accuracy: 0.3430009339005915\n",
            "\n",
            "##################################################\n",
            "Starting epoch 30/30, LR = [0.020250000000000004]\n"
          ]
        },
        {
          "name": "stderr",
          "output_type": "stream",
          "text": [
            "\n"
          ]
        },
        {
          "name": "stdout",
          "output_type": "stream",
          "text": [
            "Step 2180, Loss 1.858731746673584\n",
            "Step 2190, Loss 1.8166508674621582\n",
            "Step 2200, Loss 1.8039753437042236\n",
            "Step 2210, Loss 1.940617561340332\n",
            "Step 2220, Loss 1.8760732412338257\n",
            "Step 2230, Loss 1.8577966690063477\n",
            "Step 2240, Loss 1.833130121231079\n"
          ]
        },
        {
          "name": "stderr",
          "output_type": "stream",
          "text": [
            "100%|██████████| 76/76 [01:10<00:00,  1.08it/s]"
          ]
        },
        {
          "name": "stdout",
          "output_type": "stream",
          "text": [
            "Validation Accuracy: 0.33604856283075646\n"
          ]
        },
        {
          "name": "stderr",
          "output_type": "stream",
          "text": [
            "\n"
          ]
        }
      ],
      "source": [
        "# By default, everything is loaded to cpu\n",
        "net = net.to(DEVICE)  # this will bring the network to GPU if DEVICE is cuda\n",
        "\n",
        "cudnn.benchmark  # Calling this optimizes runtime\n",
        "\n",
        "train_loss_list = []\n",
        "train_acc_list = []\n",
        "\n",
        "val_loss_list = []\n",
        "val_acc_list = []\n",
        "\n",
        "train_loss_list_all = []\n",
        "val_loss_list_all = []\n",
        "\n",
        "current_step = 0\n",
        "# Start iterating over the epochs\n",
        "for epoch in range(NUM_EPOCHS):\n",
        "    print(\"\\n##################################################\")\n",
        "    print('Starting epoch {}/{}, LR = {}'.format(epoch +\n",
        "          1, NUM_EPOCHS, scheduler.get_lr()))\n",
        "\n",
        "    # Iterate over the dataset\n",
        "    train_running_corrects = 0\n",
        "\n",
        "    for images, labels in train_dataloader:\n",
        "        # Bring data over the device of choice\n",
        "        images = images.to(DEVICE)\n",
        "        labels = labels.to(DEVICE)\n",
        "\n",
        "        net.train()  # Sets module in training mode\n",
        "\n",
        "        # PyTorch, by default, accumulates gradients after each backward pass\n",
        "        # We need to manually set the gradients to zero before starting a new iteration\n",
        "        optimizer.zero_grad()  # Zero-ing the gradients\n",
        "\n",
        "        # Forward pass to the network\n",
        "        train_outputs = net(images)\n",
        "\n",
        "        # Compute loss based on output and ground truth\n",
        "        train_loss = criterion(train_outputs, labels)\n",
        "        train_loss_list.append(train_loss.item())\n",
        "\n",
        "        # Log loss\n",
        "        if current_step % LOG_FREQUENCY == 0:\n",
        "            print('Step {}, Loss {}'.format(current_step, train_loss.item()))\n",
        "\n",
        "        # Compute gradients for each layer and update weights\n",
        "        train_loss.backward()  # backward pass: computes gradients\n",
        "        optimizer.step()  # update weights based on accumulated gradients\n",
        "\n",
        "        current_step += 1\n",
        "\n",
        "        # Get predictions\n",
        "        _, train_preds = torch.max(train_outputs.data, 1)\n",
        "\n",
        "        # Update Corrects\n",
        "        train_running_corrects += torch.sum(train_preds ==\n",
        "                                            labels.data).data.item()\n",
        "\n",
        "    # Append train loss list\n",
        "    train_loss_list_all.append(train_loss.item())\n",
        "\n",
        "    # Calculate Accuracy\n",
        "    accuracy_train = train_running_corrects / float(len(train_dataset))\n",
        "\n",
        "    train_acc_list.append(accuracy_train)\n",
        "\n",
        "    # Step the scheduler\n",
        "    scheduler.step()\n",
        "\n",
        "    ##############################################################################################################################\n",
        "    ### VALIDATION AFTER EACH EPOCH ###\n",
        "\n",
        "    # this will bring the network to GPU if DEVICE is cuda\n",
        "    net = net.to(DEVICE)\n",
        "    net.train(False)  # Set Network to evaluation mode\n",
        "\n",
        "    val_running_corrects = 0\n",
        "    for images, labels in tqdm(val_dataloader):\n",
        "        images = images.to(DEVICE)\n",
        "        labels = labels.to(DEVICE)\n",
        "\n",
        "        # Forward Pass\n",
        "        val_outputs = net(images)\n",
        "\n",
        "        # Compute loss based on output and ground truth\n",
        "        val_loss = criterion(val_outputs, labels)\n",
        "        val_loss_list.append(val_loss.item())\n",
        "\n",
        "        # Get predictions\n",
        "        _, val_preds = torch.max(val_outputs.data, 1)\n",
        "\n",
        "        # Update Corrects\n",
        "        val_running_corrects += torch.sum(val_preds == labels.data).data.item()\n",
        "\n",
        "    # Append val loss list\n",
        "    val_loss_list_all.append(val_loss.item())\n",
        "\n",
        "    # Calculate Accuracy\n",
        "    accuracy_val = val_running_corrects / float(len(val_dataset))\n",
        "\n",
        "    print('Validation Accuracy: {}'.format(accuracy_val))\n",
        "\n",
        "    val_acc_list.append(accuracy_val)\n"
      ]
    },
    {
      "cell_type": "markdown",
      "metadata": {
        "id": "L8nh6iiNq836"
      },
      "source": [
        "**Validation**"
      ]
    },
    {
      "cell_type": "code",
      "execution_count": 12,
      "metadata": {
        "colab": {
          "base_uri": "https://localhost:8080/"
        },
        "id": "g5cMCDy4q8hM",
        "outputId": "7b1d7eb7-77f0-4af7-b14f-0c2f1b40956e"
      },
      "outputs": [
        {
          "name": "stderr",
          "output_type": "stream",
          "text": [
            "100%|██████████| 76/76 [01:08<00:00,  1.11it/s]"
          ]
        },
        {
          "name": "stdout",
          "output_type": "stream",
          "text": [
            "Validation Accuracy: 0.33604856283075646\n"
          ]
        },
        {
          "name": "stderr",
          "output_type": "stream",
          "text": [
            "\n"
          ]
        }
      ],
      "source": [
        "net = net.to(DEVICE) # this will bring the network to GPU if DEVICE is cuda\n",
        "net.train(False) # Set Network to evaluation mode\n",
        "\n",
        "running_corrects = 0\n",
        "for images, labels in tqdm(val_dataloader):\n",
        "  images = images.to(DEVICE)\n",
        "  labels = labels.to(DEVICE)\n",
        "\n",
        "  # Forward Pass\n",
        "  outputs = net(images)\n",
        "\n",
        "  # Get predictions\n",
        "  _, preds = torch.max(outputs.data, 1)\n",
        "\n",
        "  # Update Corrects\n",
        "  running_corrects += torch.sum(preds == labels.data).data.item()\n",
        "\n",
        "# Calculate Accuracy\n",
        "accuracy_val = running_corrects / float(len(val_dataset))\n",
        "\n",
        "print('Validation Accuracy: {}'.format(accuracy_val))"
      ]
    },
    {
      "cell_type": "markdown",
      "metadata": {
        "id": "NVkREnPMrRV_"
      },
      "source": [
        "**Plots**"
      ]
    },
    {
      "cell_type": "code",
      "execution_count": 13,
      "metadata": {
        "colab": {
          "base_uri": "https://localhost:8080/",
          "height": 388
        },
        "id": "TwcxxxLErDbj",
        "outputId": "6b31012f-4e87-4b61-9c29-26bed8747bd1"
      },
      "outputs": [
        {
          "data": {
            "image/png": "[encoded data removed]",
            "text/plain": [
              "<Figure size 576x432 with 1 Axes>"
            ]
          },
          "metadata": {
            "needs_background": "light"
          },
          "output_type": "display_data"
        }
      ],
      "source": [
        "import matplotlib\n",
        "import matplotlib.pyplot as plt\n",
        "\n",
        "matplotlib.rcParams['figure.figsize'] = [8, 6]\n",
        "\n",
        "plt.xlabel('epoch')\n",
        "plt.ylabel('loss')\n",
        "plt.plot(range(1, len(train_loss_list_all)+1), train_loss_list_all, color='blue', label='train loss')\n",
        "plt.plot(range(1, len(val_loss_list_all)+1), val_loss_list_all, color='orange', label='validation loss')\n",
        "plt.legend(loc='upper right')\n",
        "plt.show()"
      ]
    },
    {
      "cell_type": "code",
      "execution_count": 14,
      "metadata": {
        "colab": {
          "base_uri": "https://localhost:8080/",
          "height": 388
        },
        "id": "m8_1gv7orYlc",
        "outputId": "e0fddc7d-ca18-4951-f545-1d8a70bd2d12"
      },
      "outputs": [
        {
          "data": {
            "image/png": "[encoded data removed]",
            "text/plain": [
              "<Figure size 576x432 with 1 Axes>"
            ]
          },
          "metadata": {
            "needs_background": "light"
          },
          "output_type": "display_data"
        }
      ],
      "source": [
        "plt.xlabel('epoch')\n",
        "plt.ylabel('accuracy (%)')\n",
        "plt.plot(range(1, len(train_acc_list)+1), [x * 100 for x in train_acc_list], color='blue', label='train accuracy')\n",
        "plt.plot(range(1, len(val_acc_list)+1), [x * 100 for x in val_acc_list], color='orange', label='validation accuracy')\n",
        "plt.legend(loc='lower right')\n",
        "plt.show()"
      ]
    },
    {
      "cell_type": "code",
      "execution_count": null,
      "metadata": {
        "id": "4lIRuw6h_Wf8"
      },
      "outputs": [],
      "source": []
    }
  ],
  "metadata": {
    "accelerator": "GPU",
    "colab": {
      "provenance": []
    },
    "gpuClass": "standard",
    "kernelspec": {
      "display_name": "Python 3",
      "language": "python",
      "name": "python3"
    },
    "language_info": {
      "codemirror_mode": {
        "name": "ipython",
        "version": 3
      },
      "file_extension": ".py",
      "mimetype": "text/x-python",
      "name": "python",
      "nbconvert_exporter": "python",
      "pygments_lexer": "ipython3",
      "version": "3.10.2 (tags/v3.10.2:a58ebcc, Jan 17 2022, 14:12:15) [MSC v.1929 64 bit (AMD64)]"
    },
    "orig_nbformat": 4,
    "vscode": {
      "interpreter": {
        "hash": "369f2c481f4da34e4445cda3fffd2e751bd1c4d706f27375911949ba6bb62e1c"
      }
    }
  },
  "nbformat": 4,
  "nbformat_minor": 0
}
