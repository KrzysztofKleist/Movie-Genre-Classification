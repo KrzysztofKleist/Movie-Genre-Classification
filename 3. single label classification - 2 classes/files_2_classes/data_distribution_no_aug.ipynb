{
 "cells": [
  {
   "cell_type": "code",
   "execution_count": 1,
   "metadata": {},
   "outputs": [],
   "source": [
    "import pandas as pd\n",
    "import matplotlib.pyplot as plt"
   ]
  },
  {
   "cell_type": "code",
   "execution_count": 2,
   "metadata": {},
   "outputs": [],
   "source": [
    "def get_genre_distribution(df) -> dict:\n",
    "    genres_count = {}\n",
    "\n",
    "    for genre in pd.DataFrame(df.columns).loc[3:, 0].values.tolist():\n",
    "        genres_count[genre] = 0\n",
    "\n",
    "    # Loop over subfolders in the parent folder\n",
    "    for index, row in df.iterrows():\n",
    "        genres_count[row[\"genre\"]] += 1\n",
    "\n",
    "    genres_count = dict(sorted(genres_count.items(), key=lambda x: x[1], reverse=True))\n",
    "    \n",
    "    plt.figure(figsize = (6, 5))\n",
    "\n",
    "    plt.bar(genres_count.keys(), genres_count.values())\n",
    "    \n",
    "    plt.xlabel(\"Genres\")\n",
    "    plt.ylabel(\"Occurrence\")\n",
    "    plt.title(\"Occurence of genres\")\n",
    "\n",
    "    return genres_count"
   ]
  },
  {
   "cell_type": "code",
   "execution_count": 3,
   "metadata": {},
   "outputs": [
    {
     "name": "stdout",
     "output_type": "stream",
     "text": [
      "45845\n",
      "29146\n"
     ]
    },
    {
     "data": {
      "text/html": [
       "<div>\n",
       "<style scoped>\n",
       "    .dataframe tbody tr th:only-of-type {\n",
       "        vertical-align: middle;\n",
       "    }\n",
       "\n",
       "    .dataframe tbody tr th {\n",
       "        vertical-align: top;\n",
       "    }\n",
       "\n",
       "    .dataframe thead th {\n",
       "        text-align: right;\n",
       "    }\n",
       "</style>\n",
       "<table border=\"1\" class=\"dataframe\">\n",
       "  <thead>\n",
       "    <tr style=\"text-align: right;\">\n",
       "      <th></th>\n",
       "      <th>Unnamed: 0</th>\n",
       "      <th>path</th>\n",
       "      <th>genre</th>\n",
       "      <th>Act_Adv</th>\n",
       "      <th>Thr_Hor_Cri</th>\n",
       "    </tr>\n",
       "  </thead>\n",
       "  <tbody>\n",
       "    <tr>\n",
       "      <th>0</th>\n",
       "      <td>0</td>\n",
       "      <td>frames\\Action\\06Its9LhIHQ\\1196.jpg</td>\n",
       "      <td>Act_Adv</td>\n",
       "      <td>1</td>\n",
       "      <td>0</td>\n",
       "    </tr>\n",
       "    <tr>\n",
       "      <th>1</th>\n",
       "      <td>1</td>\n",
       "      <td>frames\\Action\\06Its9LhIHQ\\1426.jpg</td>\n",
       "      <td>Act_Adv</td>\n",
       "      <td>1</td>\n",
       "      <td>0</td>\n",
       "    </tr>\n",
       "    <tr>\n",
       "      <th>2</th>\n",
       "      <td>2</td>\n",
       "      <td>frames\\Action\\06Its9LhIHQ\\1656.jpg</td>\n",
       "      <td>Act_Adv</td>\n",
       "      <td>1</td>\n",
       "      <td>0</td>\n",
       "    </tr>\n",
       "    <tr>\n",
       "      <th>3</th>\n",
       "      <td>3</td>\n",
       "      <td>frames\\Action\\06Its9LhIHQ\\1886.jpg</td>\n",
       "      <td>Act_Adv</td>\n",
       "      <td>1</td>\n",
       "      <td>0</td>\n",
       "    </tr>\n",
       "    <tr>\n",
       "      <th>4</th>\n",
       "      <td>4</td>\n",
       "      <td>frames\\Action\\06Its9LhIHQ\\2116.jpg</td>\n",
       "      <td>Act_Adv</td>\n",
       "      <td>1</td>\n",
       "      <td>0</td>\n",
       "    </tr>\n",
       "  </tbody>\n",
       "</table>\n",
       "</div>"
      ],
      "text/plain": [
       "   Unnamed: 0                                path    genre  Act_Adv  \\\n",
       "0           0  frames\\Action\\06Its9LhIHQ\\1196.jpg  Act_Adv        1   \n",
       "1           1  frames\\Action\\06Its9LhIHQ\\1426.jpg  Act_Adv        1   \n",
       "2           2  frames\\Action\\06Its9LhIHQ\\1656.jpg  Act_Adv        1   \n",
       "3           3  frames\\Action\\06Its9LhIHQ\\1886.jpg  Act_Adv        1   \n",
       "4           4  frames\\Action\\06Its9LhIHQ\\2116.jpg  Act_Adv        1   \n",
       "\n",
       "   Thr_Hor_Cri  \n",
       "0            0  \n",
       "1            0  \n",
       "2            0  \n",
       "3            0  \n",
       "4            0  "
      ]
     },
     "execution_count": 3,
     "metadata": {},
     "output_type": "execute_result"
    }
   ],
   "source": [
    "df = pd.read_csv(\"data_slc.tsv\", sep=\"\\t\")\n",
    "print(len(df))\n",
    "\n",
    "df = df[df[\"genre\"].isin([\"Act_Adv\", \"Thr_Hor_Cri\"])].iloc[:, [0, 1, 2, 4, 6]]\n",
    "print(len(df))\n",
    "df.head()"
   ]
  },
  {
   "cell_type": "code",
   "execution_count": 4,
   "metadata": {},
   "outputs": [
    {
     "name": "stdout",
     "output_type": "stream",
     "text": [
      "29146\n",
      "{'Act_Adv': 16277, 'Thr_Hor_Cri': 12869}\n"
     ]
    },
    {
     "data": {
      "text/html": [
       "<div>\n",
       "<style scoped>\n",
       "    .dataframe tbody tr th:only-of-type {\n",
       "        vertical-align: middle;\n",
       "    }\n",
       "\n",
       "    .dataframe tbody tr th {\n",
       "        vertical-align: top;\n",
       "    }\n",
       "\n",
       "    .dataframe thead th {\n",
       "        text-align: right;\n",
       "    }\n",
       "</style>\n",
       "<table border=\"1\" class=\"dataframe\">\n",
       "  <thead>\n",
       "    <tr style=\"text-align: right;\">\n",
       "      <th></th>\n",
       "      <th>Unnamed: 0</th>\n",
       "      <th>path</th>\n",
       "      <th>genre</th>\n",
       "      <th>Act_Adv</th>\n",
       "      <th>Thr_Hor_Cri</th>\n",
       "    </tr>\n",
       "  </thead>\n",
       "  <tbody>\n",
       "    <tr>\n",
       "      <th>0</th>\n",
       "      <td>0</td>\n",
       "      <td>frames\\Action\\06Its9LhIHQ\\1196.jpg</td>\n",
       "      <td>Act_Adv</td>\n",
       "      <td>1</td>\n",
       "      <td>0</td>\n",
       "    </tr>\n",
       "    <tr>\n",
       "      <th>1</th>\n",
       "      <td>1</td>\n",
       "      <td>frames\\Action\\06Its9LhIHQ\\1426.jpg</td>\n",
       "      <td>Act_Adv</td>\n",
       "      <td>1</td>\n",
       "      <td>0</td>\n",
       "    </tr>\n",
       "    <tr>\n",
       "      <th>2</th>\n",
       "      <td>2</td>\n",
       "      <td>frames\\Action\\06Its9LhIHQ\\1656.jpg</td>\n",
       "      <td>Act_Adv</td>\n",
       "      <td>1</td>\n",
       "      <td>0</td>\n",
       "    </tr>\n",
       "    <tr>\n",
       "      <th>3</th>\n",
       "      <td>3</td>\n",
       "      <td>frames\\Action\\06Its9LhIHQ\\1886.jpg</td>\n",
       "      <td>Act_Adv</td>\n",
       "      <td>1</td>\n",
       "      <td>0</td>\n",
       "    </tr>\n",
       "    <tr>\n",
       "      <th>4</th>\n",
       "      <td>4</td>\n",
       "      <td>frames\\Action\\06Its9LhIHQ\\2116.jpg</td>\n",
       "      <td>Act_Adv</td>\n",
       "      <td>1</td>\n",
       "      <td>0</td>\n",
       "    </tr>\n",
       "  </tbody>\n",
       "</table>\n",
       "</div>"
      ],
      "text/plain": [
       "   Unnamed: 0                                path    genre  Act_Adv  \\\n",
       "0           0  frames\\Action\\06Its9LhIHQ\\1196.jpg  Act_Adv        1   \n",
       "1           1  frames\\Action\\06Its9LhIHQ\\1426.jpg  Act_Adv        1   \n",
       "2           2  frames\\Action\\06Its9LhIHQ\\1656.jpg  Act_Adv        1   \n",
       "3           3  frames\\Action\\06Its9LhIHQ\\1886.jpg  Act_Adv        1   \n",
       "4           4  frames\\Action\\06Its9LhIHQ\\2116.jpg  Act_Adv        1   \n",
       "\n",
       "   Thr_Hor_Cri  \n",
       "0            0  \n",
       "1            0  \n",
       "2            0  \n",
       "3            0  \n",
       "4            0  "
      ]
     },
     "execution_count": 4,
     "metadata": {},
     "output_type": "execute_result"
    },
    {
     "data": {
      "image/png": "[encoded data removed]",
      "text/plain": [
       "<Figure size 600x500 with 1 Axes>"
      ]
     },
     "metadata": {},
     "output_type": "display_data"
    }
   ],
   "source": [
    "print(len(df))\n",
    "print(get_genre_distribution(df))\n",
    "df.head()"
   ]
  },
  {
   "cell_type": "code",
   "execution_count": null,
   "metadata": {},
   "outputs": [],
   "source": []
  }
 ],
 "metadata": {
  "kernelspec": {
   "display_name": "Python 3",
   "language": "python",
   "name": "python3"
  },
  "language_info": {
   "codemirror_mode": {
    "name": "ipython",
    "version": 3
   },
   "file_extension": ".py",
   "mimetype": "text/x-python",
   "name": "python",
   "nbconvert_exporter": "python",
   "pygments_lexer": "ipython3",
   "version": "3.11.4"
  }
 },
 "nbformat": 4,
 "nbformat_minor": 2
}
