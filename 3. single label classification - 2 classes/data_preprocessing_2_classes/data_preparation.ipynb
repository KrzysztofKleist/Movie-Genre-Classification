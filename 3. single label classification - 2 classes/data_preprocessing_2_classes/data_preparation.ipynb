{
 "cells": [
  {
   "cell_type": "code",
   "execution_count": 1,
   "metadata": {},
   "outputs": [],
   "source": [
    "import pandas as pd"
   ]
  },
  {
   "cell_type": "code",
   "execution_count": 2,
   "metadata": {},
   "outputs": [],
   "source": [
    "# data_train_random_aug_all.tsv\n",
    "# data_test_random.tsv\n",
    "# data_train_separate_movies_aug_all.tsv\n",
    "# data_test_separate_movies.tsv"
   ]
  },
  {
   "cell_type": "code",
   "execution_count": 3,
   "metadata": {},
   "outputs": [],
   "source": [
    "def remove_2_classes(input_file, output_file):\n",
    "    df = pd.read_csv(input_file, sep=\"\\t\")\n",
    "    print(len(df))\n",
    "    print(df.head())\n",
    "    df = df.drop(\"Drama\", axis=1)\n",
    "    df = df.drop(\"Com_Rom\", axis=1)\n",
    "    df = df.loc[df[\"genre\"].isin([\"Act_Adv\", \"Thr_Hor_Cri\"])]\n",
    "    print(len(df))\n",
    "    print(df.head())    \n",
    "    df.to_csv(output_file, sep=\"\\t\", index=False)"
   ]
  },
  {
   "cell_type": "code",
   "execution_count": 4,
   "metadata": {},
   "outputs": [
    {
     "name": "stdout",
     "output_type": "stream",
     "text": [
      "51966\n",
      "   Unnamed: 0                                            path        genre  \\\n",
      "0           0              frames\\Comedy\\ojiHA64n6iw\\2346.jpg      Com_Rom   \n",
      "1           1       frames\\Adventure_Drama\\RGuY5r-7ta4\\46.jpg      Act_Adv   \n",
      "2           2      frames\\Comedy_Romance\\F8UwjJzF4LY\\1656.jpg      Com_Rom   \n",
      "3           3        frames\\Action_Horror\\1d-Q6pT4pxo\\506.jpg  Thr_Hor_Cri   \n",
      "4           4  frames\\Adventure_Thriller\\sIY7BQkbIT8\\1196.jpg  Thr_Hor_Cri   \n",
      "\n",
      "   Drama  Act_Adv  Com_Rom  Thr_Hor_Cri  \n",
      "0      0        0        1            0  \n",
      "1      0        1        0            0  \n",
      "2      0        0        1            0  \n",
      "3      0        0        0            1  \n",
      "4      0        0        0            1  \n",
      "30530\n",
      "   Unnamed: 0                                            path        genre  \\\n",
      "1           1       frames\\Adventure_Drama\\RGuY5r-7ta4\\46.jpg      Act_Adv   \n",
      "3           3        frames\\Action_Horror\\1d-Q6pT4pxo\\506.jpg  Thr_Hor_Cri   \n",
      "4           4  frames\\Adventure_Thriller\\sIY7BQkbIT8\\1196.jpg  Thr_Hor_Cri   \n",
      "5           5    frames\\Adventure_Comedy\\fki-LTswICw\\2116.jpg      Act_Adv   \n",
      "8           7         frames\\Crime_Drama\\Vln90evTYog\\1886.jpg  Thr_Hor_Cri   \n",
      "\n",
      "   Act_Adv  Thr_Hor_Cri  \n",
      "1        1            0  \n",
      "3        0            1  \n",
      "4        0            1  \n",
      "5        1            0  \n",
      "8        0            1  \n"
     ]
    }
   ],
   "source": [
    "remove_2_classes(\"../files_slcr/data_train_random_aug_all.tsv\", \"../files_2_classes/data_train_random_aug_all.tsv\")"
   ]
  },
  {
   "cell_type": "code",
   "execution_count": 5,
   "metadata": {},
   "outputs": [
    {
     "name": "stdout",
     "output_type": "stream",
     "text": [
      "6877\n",
      "   Unnamed: 0                                         path        genre  \\\n",
      "0           0       frames\\Action_Crime\\WQnv22Qnp8s\\46.jpg  Thr_Hor_Cri   \n",
      "1           1           frames\\Romance\\nQIfRCUlfz4\\966.jpg      Com_Rom   \n",
      "2           2   frames\\Comedy_Romance\\I_mYmJVMef0\\1196.jpg      Com_Rom   \n",
      "3           3  frames\\Action_Adventure\\yodVQ5QAc88\\276.jpg      Act_Adv   \n",
      "4           4            frames\\Action\\4331uXY0nxA\\276.jpg      Act_Adv   \n",
      "\n",
      "   Drama  Act_Adv  Com_Rom  Thr_Hor_Cri  \n",
      "0      0        0        0            1  \n",
      "1      0        0        1            0  \n",
      "2      0        0        1            0  \n",
      "3      0        1        0            0  \n",
      "4      0        1        0            0  \n",
      "4380\n",
      "   Unnamed: 0                                          path        genre  \\\n",
      "0           0        frames\\Action_Crime\\WQnv22Qnp8s\\46.jpg  Thr_Hor_Cri   \n",
      "3           3   frames\\Action_Adventure\\yodVQ5QAc88\\276.jpg      Act_Adv   \n",
      "4           4             frames\\Action\\4331uXY0nxA\\276.jpg      Act_Adv   \n",
      "6           6  frames\\Action_Adventure\\5ps3fGNzpd0\\2346.jpg      Act_Adv   \n",
      "8           8       frames\\Crime_Drama\\9z8uqVHf39M\\1426.jpg  Thr_Hor_Cri   \n",
      "\n",
      "   Act_Adv  Thr_Hor_Cri  \n",
      "0        0            1  \n",
      "3        1            0  \n",
      "4        1            0  \n",
      "6        1            0  \n",
      "8        0            1  \n"
     ]
    }
   ],
   "source": [
    "remove_2_classes(\"../files_slcr/data_test_random.tsv\", \"../files_2_classes/data_test_random.tsv\")"
   ]
  },
  {
   "cell_type": "code",
   "execution_count": 6,
   "metadata": {},
   "outputs": [
    {
     "name": "stdout",
     "output_type": "stream",
     "text": [
      "52073\n",
      "   Unnamed: 0                                    path    genre  Drama  \\\n",
      "0           0      frames\\Action\\06Its9LhIHQ\\1196.jpg  Act_Adv      0   \n",
      "1           1      frames\\Action\\06Its9LhIHQ\\1426.jpg  Act_Adv      0   \n",
      "2           1  frames/Action/06Its9LhIHQ/1426_aug.jpg  Act_Adv      0   \n",
      "3           2      frames\\Action\\06Its9LhIHQ\\1656.jpg  Act_Adv      0   \n",
      "4           3      frames\\Action\\06Its9LhIHQ\\1886.jpg  Act_Adv      0   \n",
      "\n",
      "   Act_Adv  Com_Rom  Thr_Hor_Cri  \n",
      "0        1        0            0  \n",
      "1        1        0            0  \n",
      "2        1        0            0  \n",
      "3        1        0            0  \n",
      "4        1        0            0  \n",
      "30286\n",
      "   Unnamed: 0                                    path    genre  Act_Adv  \\\n",
      "0           0      frames\\Action\\06Its9LhIHQ\\1196.jpg  Act_Adv        1   \n",
      "1           1      frames\\Action\\06Its9LhIHQ\\1426.jpg  Act_Adv        1   \n",
      "2           1  frames/Action/06Its9LhIHQ/1426_aug.jpg  Act_Adv        1   \n",
      "3           2      frames\\Action\\06Its9LhIHQ\\1656.jpg  Act_Adv        1   \n",
      "4           3      frames\\Action\\06Its9LhIHQ\\1886.jpg  Act_Adv        1   \n",
      "\n",
      "   Thr_Hor_Cri  \n",
      "0            0  \n",
      "1            0  \n",
      "2            0  \n",
      "3            0  \n",
      "4            0  \n"
     ]
    }
   ],
   "source": [
    "remove_2_classes(\"../files_slcr/data_train_separate_movies_aug_all.tsv\", \"../files_2_classes/data_train_separate_movies_aug_all.tsv\")"
   ]
  },
  {
   "cell_type": "code",
   "execution_count": 7,
   "metadata": {},
   "outputs": [
    {
     "name": "stdout",
     "output_type": "stream",
     "text": [
      "6950\n",
      "   Unnamed: 0                                path    genre  Drama  Act_Adv  \\\n",
      "0           0   frames\\Action\\7U3F1uDBXrw\\276.jpg  Act_Adv      0        1   \n",
      "1           1    frames\\Action\\7U3F1uDBXrw\\46.jpg  Act_Adv      0        1   \n",
      "2           2   frames\\Action\\7U3F1uDBXrw\\506.jpg  Act_Adv      0        1   \n",
      "3           3   frames\\Action\\7U3F1uDBXrw\\736.jpg  Act_Adv      0        1   \n",
      "4           4  frames\\Action\\8r354VUktU8\\1196.jpg  Act_Adv      0        1   \n",
      "\n",
      "   Com_Rom  Thr_Hor_Cri  \n",
      "0        0            0  \n",
      "1        0            0  \n",
      "2        0            0  \n",
      "3        0            0  \n",
      "4        0            0  \n",
      "4593\n",
      "   Unnamed: 0                                path    genre  Act_Adv  \\\n",
      "0           0   frames\\Action\\7U3F1uDBXrw\\276.jpg  Act_Adv        1   \n",
      "1           1    frames\\Action\\7U3F1uDBXrw\\46.jpg  Act_Adv        1   \n",
      "2           2   frames\\Action\\7U3F1uDBXrw\\506.jpg  Act_Adv        1   \n",
      "3           3   frames\\Action\\7U3F1uDBXrw\\736.jpg  Act_Adv        1   \n",
      "4           4  frames\\Action\\8r354VUktU8\\1196.jpg  Act_Adv        1   \n",
      "\n",
      "   Thr_Hor_Cri  \n",
      "0            0  \n",
      "1            0  \n",
      "2            0  \n",
      "3            0  \n",
      "4            0  \n"
     ]
    }
   ],
   "source": [
    "remove_2_classes(\"../files_slcr/data_test_separate_movies.tsv\", \"../files_2_classes/data_test_separate_movies.tsv\")"
   ]
  }
 ],
 "metadata": {
  "kernelspec": {
   "display_name": "Python 3",
   "language": "python",
   "name": "python3"
  },
  "language_info": {
   "codemirror_mode": {
    "name": "ipython",
    "version": 3
   },
   "file_extension": ".py",
   "mimetype": "text/x-python",
   "name": "python",
   "nbconvert_exporter": "python",
   "pygments_lexer": "ipython3",
   "version": "3.11.4"
  }
 },
 "nbformat": 4,
 "nbformat_minor": 2
}
