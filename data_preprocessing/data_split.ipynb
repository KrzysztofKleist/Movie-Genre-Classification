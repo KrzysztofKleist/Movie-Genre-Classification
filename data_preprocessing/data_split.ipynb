{
 "cells": [
  {
   "attachments": {},
   "cell_type": "markdown",
   "metadata": {},
   "source": [
    "# Creating .csv files for training-test data split\n",
    "## The goal is to have 4 different datasets: totally randomized trainig set, totally randomized test set, trainig and test sets split in a way that frames from one movie are not shared in both sets"
   ]
  },
  {
   "cell_type": "code",
   "execution_count": 1,
   "metadata": {},
   "outputs": [],
   "source": [
    "import pandas as pd\n",
    "import os\n",
    "import ast\n",
    "import matplotlib.pyplot as plt\n",
    "from sklearn.model_selection import train_test_split"
   ]
  },
  {
   "cell_type": "code",
   "execution_count": 2,
   "metadata": {},
   "outputs": [
    {
     "data": {
      "text/html": [
       "<div>\n",
       "<style scoped>\n",
       "    .dataframe tbody tr th:only-of-type {\n",
       "        vertical-align: middle;\n",
       "    }\n",
       "\n",
       "    .dataframe tbody tr th {\n",
       "        vertical-align: top;\n",
       "    }\n",
       "\n",
       "    .dataframe thead th {\n",
       "        text-align: right;\n",
       "    }\n",
       "</style>\n",
       "<table border=\"1\" class=\"dataframe\">\n",
       "  <thead>\n",
       "    <tr style=\"text-align: right;\">\n",
       "      <th></th>\n",
       "      <th>Unnamed: 0</th>\n",
       "      <th>path</th>\n",
       "      <th>genre</th>\n",
       "      <th>Action</th>\n",
       "      <th>Adventure</th>\n",
       "      <th>Comedy</th>\n",
       "      <th>Crime</th>\n",
       "      <th>Drama</th>\n",
       "      <th>Horror</th>\n",
       "      <th>Romance</th>\n",
       "      <th>Thriller</th>\n",
       "    </tr>\n",
       "  </thead>\n",
       "  <tbody>\n",
       "    <tr>\n",
       "      <th>0</th>\n",
       "      <td>0</td>\n",
       "      <td>frames\\Action\\06Its9LhIHQ\\1196.jpg</td>\n",
       "      <td>['Action']</td>\n",
       "      <td>1</td>\n",
       "      <td>0</td>\n",
       "      <td>0</td>\n",
       "      <td>0</td>\n",
       "      <td>0</td>\n",
       "      <td>0</td>\n",
       "      <td>0</td>\n",
       "      <td>0</td>\n",
       "    </tr>\n",
       "    <tr>\n",
       "      <th>1</th>\n",
       "      <td>1</td>\n",
       "      <td>frames\\Action\\06Its9LhIHQ\\1426.jpg</td>\n",
       "      <td>['Action']</td>\n",
       "      <td>1</td>\n",
       "      <td>0</td>\n",
       "      <td>0</td>\n",
       "      <td>0</td>\n",
       "      <td>0</td>\n",
       "      <td>0</td>\n",
       "      <td>0</td>\n",
       "      <td>0</td>\n",
       "    </tr>\n",
       "    <tr>\n",
       "      <th>2</th>\n",
       "      <td>2</td>\n",
       "      <td>frames\\Action\\06Its9LhIHQ\\1656.jpg</td>\n",
       "      <td>['Action']</td>\n",
       "      <td>1</td>\n",
       "      <td>0</td>\n",
       "      <td>0</td>\n",
       "      <td>0</td>\n",
       "      <td>0</td>\n",
       "      <td>0</td>\n",
       "      <td>0</td>\n",
       "      <td>0</td>\n",
       "    </tr>\n",
       "    <tr>\n",
       "      <th>3</th>\n",
       "      <td>3</td>\n",
       "      <td>frames\\Action\\06Its9LhIHQ\\1886.jpg</td>\n",
       "      <td>['Action']</td>\n",
       "      <td>1</td>\n",
       "      <td>0</td>\n",
       "      <td>0</td>\n",
       "      <td>0</td>\n",
       "      <td>0</td>\n",
       "      <td>0</td>\n",
       "      <td>0</td>\n",
       "      <td>0</td>\n",
       "    </tr>\n",
       "    <tr>\n",
       "      <th>4</th>\n",
       "      <td>4</td>\n",
       "      <td>frames\\Action\\06Its9LhIHQ\\2116.jpg</td>\n",
       "      <td>['Action']</td>\n",
       "      <td>1</td>\n",
       "      <td>0</td>\n",
       "      <td>0</td>\n",
       "      <td>0</td>\n",
       "      <td>0</td>\n",
       "      <td>0</td>\n",
       "      <td>0</td>\n",
       "      <td>0</td>\n",
       "    </tr>\n",
       "  </tbody>\n",
       "</table>\n",
       "</div>"
      ],
      "text/plain": [
       "   Unnamed: 0                                path       genre  Action  \\\n",
       "0           0  frames\\Action\\06Its9LhIHQ\\1196.jpg  ['Action']       1   \n",
       "1           1  frames\\Action\\06Its9LhIHQ\\1426.jpg  ['Action']       1   \n",
       "2           2  frames\\Action\\06Its9LhIHQ\\1656.jpg  ['Action']       1   \n",
       "3           3  frames\\Action\\06Its9LhIHQ\\1886.jpg  ['Action']       1   \n",
       "4           4  frames\\Action\\06Its9LhIHQ\\2116.jpg  ['Action']       1   \n",
       "\n",
       "   Adventure  Comedy  Crime  Drama  Horror  Romance  Thriller  \n",
       "0          0       0      0      0       0        0         0  \n",
       "1          0       0      0      0       0        0         0  \n",
       "2          0       0      0      0       0        0         0  \n",
       "3          0       0      0      0       0        0         0  \n",
       "4          0       0      0      0       0        0         0  "
      ]
     },
     "execution_count": 2,
     "metadata": {},
     "output_type": "execute_result"
    }
   ],
   "source": [
    "df = pd.read_csv(r'..\\files\\data.tsv', sep=\"\\t\")\n",
    "\n",
    "df.head()"
   ]
  },
  {
   "attachments": {},
   "cell_type": "markdown",
   "metadata": {},
   "source": [
    "### Create function that shows the genre distribution for the df to have similar distribution in training and test set"
   ]
  },
  {
   "cell_type": "code",
   "execution_count": 3,
   "metadata": {},
   "outputs": [],
   "source": [
    "def get_genre_distribution(df) -> dict:\n",
    "    \n",
    "    existing_genres = {}\n",
    "\n",
    "    # Loop over subfolders in the parent folder\n",
    "    for index, row in df.iterrows():\n",
    "        \n",
    "        genre = '_'.join(ast.literal_eval(row['genre']))\n",
    "            \n",
    "        if genre not in existing_genres:\n",
    "            existing_genres[genre] = 1\n",
    "        else:\n",
    "            existing_genres[genre] += 1\n",
    "\n",
    "\n",
    "    existing_genres = dict(sorted(existing_genres.items(), key=lambda x:x[1], reverse=True))\n",
    "    \n",
    "    \n",
    "    single_genre_list = []\n",
    "\n",
    "    for gen in existing_genres.keys():\n",
    "        \n",
    "        gen_list = gen.split('_')\n",
    "        \n",
    "        for g in gen_list:\n",
    "            \n",
    "            if g not in single_genre_list:\n",
    "                single_genre_list.append(g)\n",
    "    \n",
    "                \n",
    "    existing_single_genres = {}\n",
    "\n",
    "    for gen in single_genre_list:\n",
    "        \n",
    "        if gen not in existing_single_genres:\n",
    "            existing_single_genres[gen] = 0\n",
    "        \n",
    "        for g in existing_genres:\n",
    "            \n",
    "            if gen in g:\n",
    "                existing_single_genres[gen] += existing_genres[g]\n",
    "                \n",
    "    existing_single_genres = dict(sorted(existing_single_genres.items(), key=lambda x:x[1], reverse=True))\n",
    "                \n",
    "    plt.figure(figsize = (10, 5))\n",
    "\n",
    "    plt.bar(existing_single_genres.keys(), existing_single_genres.values())\n",
    "    \n",
    "    plt.xlabel(\"Genres\")\n",
    "    plt.ylabel(\"Occurrence\")\n",
    "    plt.title(\"Occurence of genres\")\n",
    "                \n",
    "    return existing_single_genres"
   ]
  },
  {
   "cell_type": "code",
   "execution_count": 4,
   "metadata": {},
   "outputs": [
    {
     "data": {
      "text/plain": [
       "{'Drama': 17729,\n",
       " 'Comedy': 16126,\n",
       " 'Action': 12526,\n",
       " 'Adventure': 12249,\n",
       " 'Horror': 5747,\n",
       " 'Crime': 4551,\n",
       " 'Thriller': 4121,\n",
       " 'Romance': 3993}"
      ]
     },
     "execution_count": 4,
     "metadata": {},
     "output_type": "execute_result"
    },
    {
     "data": {
      "image/png": "[encoded data removed]",
      "text/plain": [
       "<Figure size 1000x500 with 1 Axes>"
      ]
     },
     "metadata": {},
     "output_type": "display_data"
    }
   ],
   "source": [
    "get_genre_distribution(df)"
   ]
  },
  {
   "attachments": {},
   "cell_type": "markdown",
   "metadata": {},
   "source": [
    "### Create train-test split for the first experiment"
   ]
  },
  {
   "cell_type": "code",
   "execution_count": 5,
   "metadata": {},
   "outputs": [],
   "source": [
    "df = df.sample(frac=1).reset_index(drop=True)\n",
    "df = df.loc[:, ~df.columns.str.contains('^Unnamed')]\n",
    "\n",
    "df_train_random, df_test_random = train_test_split(df, test_size=0.15)\n",
    "\n",
    "df_train_random = df_train_random.reset_index(drop=True)\n",
    "df_test_random = df_test_random.reset_index(drop=True)"
   ]
  },
  {
   "cell_type": "code",
   "execution_count": 6,
   "metadata": {},
   "outputs": [
    {
     "name": "stdout",
     "output_type": "stream",
     "text": [
      "38968\n"
     ]
    },
    {
     "data": {
      "text/html": [
       "<div>\n",
       "<style scoped>\n",
       "    .dataframe tbody tr th:only-of-type {\n",
       "        vertical-align: middle;\n",
       "    }\n",
       "\n",
       "    .dataframe tbody tr th {\n",
       "        vertical-align: top;\n",
       "    }\n",
       "\n",
       "    .dataframe thead th {\n",
       "        text-align: right;\n",
       "    }\n",
       "</style>\n",
       "<table border=\"1\" class=\"dataframe\">\n",
       "  <thead>\n",
       "    <tr style=\"text-align: right;\">\n",
       "      <th></th>\n",
       "      <th>path</th>\n",
       "      <th>genre</th>\n",
       "      <th>Action</th>\n",
       "      <th>Adventure</th>\n",
       "      <th>Comedy</th>\n",
       "      <th>Crime</th>\n",
       "      <th>Drama</th>\n",
       "      <th>Horror</th>\n",
       "      <th>Romance</th>\n",
       "      <th>Thriller</th>\n",
       "    </tr>\n",
       "  </thead>\n",
       "  <tbody>\n",
       "    <tr>\n",
       "      <th>0</th>\n",
       "      <td>frames\\Crime_Drama\\Mfcqb8DD400\\3036.jpg</td>\n",
       "      <td>['Crime', 'Drama']</td>\n",
       "      <td>0</td>\n",
       "      <td>0</td>\n",
       "      <td>0</td>\n",
       "      <td>1</td>\n",
       "      <td>1</td>\n",
       "      <td>0</td>\n",
       "      <td>0</td>\n",
       "      <td>0</td>\n",
       "    </tr>\n",
       "    <tr>\n",
       "      <th>1</th>\n",
       "      <td>frames\\Comedy\\kTk2jXiuo9s\\276.jpg</td>\n",
       "      <td>['Comedy']</td>\n",
       "      <td>0</td>\n",
       "      <td>0</td>\n",
       "      <td>1</td>\n",
       "      <td>0</td>\n",
       "      <td>0</td>\n",
       "      <td>0</td>\n",
       "      <td>0</td>\n",
       "      <td>0</td>\n",
       "    </tr>\n",
       "    <tr>\n",
       "      <th>2</th>\n",
       "      <td>frames\\Action_Drama\\bNFWITNVAKU\\1426.jpg</td>\n",
       "      <td>['Action', 'Drama']</td>\n",
       "      <td>1</td>\n",
       "      <td>0</td>\n",
       "      <td>0</td>\n",
       "      <td>0</td>\n",
       "      <td>1</td>\n",
       "      <td>0</td>\n",
       "      <td>0</td>\n",
       "      <td>0</td>\n",
       "    </tr>\n",
       "    <tr>\n",
       "      <th>3</th>\n",
       "      <td>frames\\Drama_Romance\\j-v6XtJFNQE\\1886.jpg</td>\n",
       "      <td>['Drama', 'Romance']</td>\n",
       "      <td>0</td>\n",
       "      <td>0</td>\n",
       "      <td>0</td>\n",
       "      <td>0</td>\n",
       "      <td>1</td>\n",
       "      <td>0</td>\n",
       "      <td>1</td>\n",
       "      <td>0</td>\n",
       "    </tr>\n",
       "    <tr>\n",
       "      <th>4</th>\n",
       "      <td>frames\\Action_Adventure\\gAKiWvjfCiQ\\1196.jpg</td>\n",
       "      <td>['Action', 'Adventure']</td>\n",
       "      <td>1</td>\n",
       "      <td>1</td>\n",
       "      <td>0</td>\n",
       "      <td>0</td>\n",
       "      <td>0</td>\n",
       "      <td>0</td>\n",
       "      <td>0</td>\n",
       "      <td>0</td>\n",
       "    </tr>\n",
       "  </tbody>\n",
       "</table>\n",
       "</div>"
      ],
      "text/plain": [
       "                                           path                    genre  \\\n",
       "0       frames\\Crime_Drama\\Mfcqb8DD400\\3036.jpg       ['Crime', 'Drama']   \n",
       "1             frames\\Comedy\\kTk2jXiuo9s\\276.jpg               ['Comedy']   \n",
       "2      frames\\Action_Drama\\bNFWITNVAKU\\1426.jpg      ['Action', 'Drama']   \n",
       "3     frames\\Drama_Romance\\j-v6XtJFNQE\\1886.jpg     ['Drama', 'Romance']   \n",
       "4  frames\\Action_Adventure\\gAKiWvjfCiQ\\1196.jpg  ['Action', 'Adventure']   \n",
       "\n",
       "   Action  Adventure  Comedy  Crime  Drama  Horror  Romance  Thriller  \n",
       "0       0          0       0      1      1       0        0         0  \n",
       "1       0          0       1      0      0       0        0         0  \n",
       "2       1          0       0      0      1       0        0         0  \n",
       "3       0          0       0      0      1       0        1         0  \n",
       "4       1          1       0      0      0       0        0         0  "
      ]
     },
     "execution_count": 6,
     "metadata": {},
     "output_type": "execute_result"
    },
    {
     "data": {
      "image/png": "[encoded data removed]",
      "text/plain": [
       "<Figure size 1000x500 with 1 Axes>"
      ]
     },
     "metadata": {},
     "output_type": "display_data"
    }
   ],
   "source": [
    "# Check the distribution of a training set\n",
    "\n",
    "print(len(df_train_random))\n",
    "get_genre_distribution(df_train_random)\n",
    "\n",
    "df_train_random.head()"
   ]
  },
  {
   "cell_type": "code",
   "execution_count": 7,
   "metadata": {},
   "outputs": [
    {
     "name": "stdout",
     "output_type": "stream",
     "text": [
      "6877\n"
     ]
    },
    {
     "data": {
      "text/html": [
       "<div>\n",
       "<style scoped>\n",
       "    .dataframe tbody tr th:only-of-type {\n",
       "        vertical-align: middle;\n",
       "    }\n",
       "\n",
       "    .dataframe tbody tr th {\n",
       "        vertical-align: top;\n",
       "    }\n",
       "\n",
       "    .dataframe thead th {\n",
       "        text-align: right;\n",
       "    }\n",
       "</style>\n",
       "<table border=\"1\" class=\"dataframe\">\n",
       "  <thead>\n",
       "    <tr style=\"text-align: right;\">\n",
       "      <th></th>\n",
       "      <th>path</th>\n",
       "      <th>genre</th>\n",
       "      <th>Action</th>\n",
       "      <th>Adventure</th>\n",
       "      <th>Comedy</th>\n",
       "      <th>Crime</th>\n",
       "      <th>Drama</th>\n",
       "      <th>Horror</th>\n",
       "      <th>Romance</th>\n",
       "      <th>Thriller</th>\n",
       "    </tr>\n",
       "  </thead>\n",
       "  <tbody>\n",
       "    <tr>\n",
       "      <th>0</th>\n",
       "      <td>frames\\Action_Drama\\g3D2eGiLoeI\\1196.jpg</td>\n",
       "      <td>['Action', 'Drama']</td>\n",
       "      <td>1</td>\n",
       "      <td>0</td>\n",
       "      <td>0</td>\n",
       "      <td>0</td>\n",
       "      <td>1</td>\n",
       "      <td>0</td>\n",
       "      <td>0</td>\n",
       "      <td>0</td>\n",
       "    </tr>\n",
       "    <tr>\n",
       "      <th>1</th>\n",
       "      <td>frames\\Comedy_Horror\\alh8b1lYuRU\\3266.jpg</td>\n",
       "      <td>['Comedy', 'Horror']</td>\n",
       "      <td>0</td>\n",
       "      <td>0</td>\n",
       "      <td>1</td>\n",
       "      <td>0</td>\n",
       "      <td>0</td>\n",
       "      <td>1</td>\n",
       "      <td>0</td>\n",
       "      <td>0</td>\n",
       "    </tr>\n",
       "    <tr>\n",
       "      <th>2</th>\n",
       "      <td>frames\\Crime_Drama\\S5x3QGlo22M\\46.jpg</td>\n",
       "      <td>['Crime', 'Drama']</td>\n",
       "      <td>0</td>\n",
       "      <td>0</td>\n",
       "      <td>0</td>\n",
       "      <td>1</td>\n",
       "      <td>1</td>\n",
       "      <td>0</td>\n",
       "      <td>0</td>\n",
       "      <td>0</td>\n",
       "    </tr>\n",
       "    <tr>\n",
       "      <th>3</th>\n",
       "      <td>frames\\Action_Thriller\\StnmzjqMKRo\\2346.jpg</td>\n",
       "      <td>['Action', 'Thriller']</td>\n",
       "      <td>1</td>\n",
       "      <td>0</td>\n",
       "      <td>0</td>\n",
       "      <td>0</td>\n",
       "      <td>0</td>\n",
       "      <td>0</td>\n",
       "      <td>0</td>\n",
       "      <td>1</td>\n",
       "    </tr>\n",
       "    <tr>\n",
       "      <th>4</th>\n",
       "      <td>frames\\Comedy_Drama\\ES496lmmGcM\\966.jpg</td>\n",
       "      <td>['Comedy', 'Drama']</td>\n",
       "      <td>0</td>\n",
       "      <td>0</td>\n",
       "      <td>1</td>\n",
       "      <td>0</td>\n",
       "      <td>1</td>\n",
       "      <td>0</td>\n",
       "      <td>0</td>\n",
       "      <td>0</td>\n",
       "    </tr>\n",
       "  </tbody>\n",
       "</table>\n",
       "</div>"
      ],
      "text/plain": [
       "                                          path                   genre  \\\n",
       "0     frames\\Action_Drama\\g3D2eGiLoeI\\1196.jpg     ['Action', 'Drama']   \n",
       "1    frames\\Comedy_Horror\\alh8b1lYuRU\\3266.jpg    ['Comedy', 'Horror']   \n",
       "2        frames\\Crime_Drama\\S5x3QGlo22M\\46.jpg      ['Crime', 'Drama']   \n",
       "3  frames\\Action_Thriller\\StnmzjqMKRo\\2346.jpg  ['Action', 'Thriller']   \n",
       "4      frames\\Comedy_Drama\\ES496lmmGcM\\966.jpg     ['Comedy', 'Drama']   \n",
       "\n",
       "   Action  Adventure  Comedy  Crime  Drama  Horror  Romance  Thriller  \n",
       "0       1          0       0      0      1       0        0         0  \n",
       "1       0          0       1      0      0       1        0         0  \n",
       "2       0          0       0      1      1       0        0         0  \n",
       "3       1          0       0      0      0       0        0         1  \n",
       "4       0          0       1      0      1       0        0         0  "
      ]
     },
     "execution_count": 7,
     "metadata": {},
     "output_type": "execute_result"
    },
    {
     "data": {
      "image/png": "[encoded data removed]",
      "text/plain": [
       "<Figure size 1000x500 with 1 Axes>"
      ]
     },
     "metadata": {},
     "output_type": "display_data"
    }
   ],
   "source": [
    "# Check the distribution of a test set\n",
    "\n",
    "print(len(df_test_random))\n",
    "get_genre_distribution(df_test_random)\n",
    "\n",
    "df_test_random.head()"
   ]
  },
  {
   "cell_type": "code",
   "execution_count": 8,
   "metadata": {},
   "outputs": [],
   "source": [
    "# If the distribution is similar - save new .tsv files\n",
    "\n",
    "df_train_random.to_csv(r'..\\files\\data_train_random.tsv', sep=\"\\t\")\n",
    "df_test_random.to_csv(r'..\\files\\data_test_random.tsv', sep=\"\\t\")"
   ]
  },
  {
   "attachments": {},
   "cell_type": "markdown",
   "metadata": {},
   "source": [
    "### Create train-test split for the second experiment"
   ]
  },
  {
   "cell_type": "code",
   "execution_count": 9,
   "metadata": {},
   "outputs": [
    {
     "data": {
      "text/plain": [
       "3767"
      ]
     },
     "execution_count": 9,
     "metadata": {},
     "output_type": "execute_result"
    }
   ],
   "source": [
    "# Add a column with the path of the movie folder but without the .jpg files\n",
    "\n",
    "df['path_no_file'] = df.apply(lambda row: row['path'][:row['path'].rfind(\"\\\\\")], axis=1)\n",
    "\n",
    "df = df[[df.columns[-1]] + df.columns[:-1].tolist()]\n",
    "\n",
    "# Get the pandas series with separate movie paths to later merge them with the previous table\n",
    "\n",
    "df_path_no_file = df['path_no_file'].drop_duplicates()\n",
    "\n",
    "len(df_path_no_file)\n"
   ]
  },
  {
   "cell_type": "code",
   "execution_count": 10,
   "metadata": {},
   "outputs": [],
   "source": [
    "# Split the pandas series\n",
    "\n",
    "df_path_no_file = df_path_no_file.sample(frac=1).reset_index(drop=True)\n",
    "\n",
    "df_path_no_file_train_separate_movies, df_path_no_file_test_separate_movies = train_test_split(df_path_no_file, test_size=0.15)\n",
    "\n",
    "df_path_no_file_train_separate_movies = df_path_no_file_train_separate_movies.reset_index(drop=True)\n",
    "df_path_no_file_test_separate_movies = df_path_no_file_test_separate_movies.reset_index(drop=True)\n"
   ]
  },
  {
   "cell_type": "code",
   "execution_count": 11,
   "metadata": {},
   "outputs": [
    {
     "name": "stdout",
     "output_type": "stream",
     "text": [
      "38958\n"
     ]
    },
    {
     "data": {
      "text/html": [
       "<div>\n",
       "<style scoped>\n",
       "    .dataframe tbody tr th:only-of-type {\n",
       "        vertical-align: middle;\n",
       "    }\n",
       "\n",
       "    .dataframe tbody tr th {\n",
       "        vertical-align: top;\n",
       "    }\n",
       "\n",
       "    .dataframe thead th {\n",
       "        text-align: right;\n",
       "    }\n",
       "</style>\n",
       "<table border=\"1\" class=\"dataframe\">\n",
       "  <thead>\n",
       "    <tr style=\"text-align: right;\">\n",
       "      <th></th>\n",
       "      <th>path</th>\n",
       "      <th>genre</th>\n",
       "      <th>Action</th>\n",
       "      <th>Adventure</th>\n",
       "      <th>Comedy</th>\n",
       "      <th>Crime</th>\n",
       "      <th>Drama</th>\n",
       "      <th>Horror</th>\n",
       "      <th>Romance</th>\n",
       "      <th>Thriller</th>\n",
       "    </tr>\n",
       "  </thead>\n",
       "  <tbody>\n",
       "    <tr>\n",
       "      <th>0</th>\n",
       "      <td>frames\\Action_Adventure\\vUrgn1Vm86I\\966.jpg</td>\n",
       "      <td>['Action', 'Adventure']</td>\n",
       "      <td>1</td>\n",
       "      <td>1</td>\n",
       "      <td>0</td>\n",
       "      <td>0</td>\n",
       "      <td>0</td>\n",
       "      <td>0</td>\n",
       "      <td>0</td>\n",
       "      <td>0</td>\n",
       "    </tr>\n",
       "    <tr>\n",
       "      <th>1</th>\n",
       "      <td>frames\\Action_Adventure\\vUrgn1Vm86I\\506.jpg</td>\n",
       "      <td>['Action', 'Adventure']</td>\n",
       "      <td>1</td>\n",
       "      <td>1</td>\n",
       "      <td>0</td>\n",
       "      <td>0</td>\n",
       "      <td>0</td>\n",
       "      <td>0</td>\n",
       "      <td>0</td>\n",
       "      <td>0</td>\n",
       "    </tr>\n",
       "    <tr>\n",
       "      <th>2</th>\n",
       "      <td>frames\\Action_Adventure\\vUrgn1Vm86I\\1886.jpg</td>\n",
       "      <td>['Action', 'Adventure']</td>\n",
       "      <td>1</td>\n",
       "      <td>1</td>\n",
       "      <td>0</td>\n",
       "      <td>0</td>\n",
       "      <td>0</td>\n",
       "      <td>0</td>\n",
       "      <td>0</td>\n",
       "      <td>0</td>\n",
       "    </tr>\n",
       "    <tr>\n",
       "      <th>3</th>\n",
       "      <td>frames\\Action_Adventure\\vUrgn1Vm86I\\1196.jpg</td>\n",
       "      <td>['Action', 'Adventure']</td>\n",
       "      <td>1</td>\n",
       "      <td>1</td>\n",
       "      <td>0</td>\n",
       "      <td>0</td>\n",
       "      <td>0</td>\n",
       "      <td>0</td>\n",
       "      <td>0</td>\n",
       "      <td>0</td>\n",
       "    </tr>\n",
       "    <tr>\n",
       "      <th>4</th>\n",
       "      <td>frames\\Action_Adventure\\vUrgn1Vm86I\\276.jpg</td>\n",
       "      <td>['Action', 'Adventure']</td>\n",
       "      <td>1</td>\n",
       "      <td>1</td>\n",
       "      <td>0</td>\n",
       "      <td>0</td>\n",
       "      <td>0</td>\n",
       "      <td>0</td>\n",
       "      <td>0</td>\n",
       "      <td>0</td>\n",
       "    </tr>\n",
       "  </tbody>\n",
       "</table>\n",
       "</div>"
      ],
      "text/plain": [
       "                                           path                    genre  \\\n",
       "0   frames\\Action_Adventure\\vUrgn1Vm86I\\966.jpg  ['Action', 'Adventure']   \n",
       "1   frames\\Action_Adventure\\vUrgn1Vm86I\\506.jpg  ['Action', 'Adventure']   \n",
       "2  frames\\Action_Adventure\\vUrgn1Vm86I\\1886.jpg  ['Action', 'Adventure']   \n",
       "3  frames\\Action_Adventure\\vUrgn1Vm86I\\1196.jpg  ['Action', 'Adventure']   \n",
       "4   frames\\Action_Adventure\\vUrgn1Vm86I\\276.jpg  ['Action', 'Adventure']   \n",
       "\n",
       "   Action  Adventure  Comedy  Crime  Drama  Horror  Romance  Thriller  \n",
       "0       1          1       0      0      0       0        0         0  \n",
       "1       1          1       0      0      0       0        0         0  \n",
       "2       1          1       0      0      0       0        0         0  \n",
       "3       1          1       0      0      0       0        0         0  \n",
       "4       1          1       0      0      0       0        0         0  "
      ]
     },
     "execution_count": 11,
     "metadata": {},
     "output_type": "execute_result"
    },
    {
     "data": {
      "image/png": "[encoded data removed]",
      "text/plain": [
       "<Figure size 1000x500 with 1 Axes>"
      ]
     },
     "metadata": {},
     "output_type": "display_data"
    }
   ],
   "source": [
    "# Merge tables and check the distribution of a training set\n",
    "\n",
    "df_train_separate_movies = pd.merge(df, df_path_no_file_train_separate_movies, on='path_no_file', how='inner')\n",
    "\n",
    "df_train_separate_movies = df_train_separate_movies[df_train_separate_movies.columns.tolist()[1:]]\n",
    "\n",
    "print(len(df_train_separate_movies))\n",
    "get_genre_distribution(df_train_separate_movies)\n",
    "\n",
    "df_train_separate_movies.head()"
   ]
  },
  {
   "cell_type": "code",
   "execution_count": 12,
   "metadata": {},
   "outputs": [
    {
     "name": "stdout",
     "output_type": "stream",
     "text": [
      "6887\n"
     ]
    },
    {
     "data": {
      "text/html": [
       "<div>\n",
       "<style scoped>\n",
       "    .dataframe tbody tr th:only-of-type {\n",
       "        vertical-align: middle;\n",
       "    }\n",
       "\n",
       "    .dataframe tbody tr th {\n",
       "        vertical-align: top;\n",
       "    }\n",
       "\n",
       "    .dataframe thead th {\n",
       "        text-align: right;\n",
       "    }\n",
       "</style>\n",
       "<table border=\"1\" class=\"dataframe\">\n",
       "  <thead>\n",
       "    <tr style=\"text-align: right;\">\n",
       "      <th></th>\n",
       "      <th>path</th>\n",
       "      <th>genre</th>\n",
       "      <th>Action</th>\n",
       "      <th>Adventure</th>\n",
       "      <th>Comedy</th>\n",
       "      <th>Crime</th>\n",
       "      <th>Drama</th>\n",
       "      <th>Horror</th>\n",
       "      <th>Romance</th>\n",
       "      <th>Thriller</th>\n",
       "    </tr>\n",
       "  </thead>\n",
       "  <tbody>\n",
       "    <tr>\n",
       "      <th>0</th>\n",
       "      <td>frames\\Drama\\ZNnk9L2LSZI\\1426.jpg</td>\n",
       "      <td>['Drama']</td>\n",
       "      <td>0</td>\n",
       "      <td>0</td>\n",
       "      <td>0</td>\n",
       "      <td>0</td>\n",
       "      <td>1</td>\n",
       "      <td>0</td>\n",
       "      <td>0</td>\n",
       "      <td>0</td>\n",
       "    </tr>\n",
       "    <tr>\n",
       "      <th>1</th>\n",
       "      <td>frames\\Drama\\ZNnk9L2LSZI\\3036.jpg</td>\n",
       "      <td>['Drama']</td>\n",
       "      <td>0</td>\n",
       "      <td>0</td>\n",
       "      <td>0</td>\n",
       "      <td>0</td>\n",
       "      <td>1</td>\n",
       "      <td>0</td>\n",
       "      <td>0</td>\n",
       "      <td>0</td>\n",
       "    </tr>\n",
       "    <tr>\n",
       "      <th>2</th>\n",
       "      <td>frames\\Drama\\ZNnk9L2LSZI\\46.jpg</td>\n",
       "      <td>['Drama']</td>\n",
       "      <td>0</td>\n",
       "      <td>0</td>\n",
       "      <td>0</td>\n",
       "      <td>0</td>\n",
       "      <td>1</td>\n",
       "      <td>0</td>\n",
       "      <td>0</td>\n",
       "      <td>0</td>\n",
       "    </tr>\n",
       "    <tr>\n",
       "      <th>3</th>\n",
       "      <td>frames\\Drama\\ZNnk9L2LSZI\\3266.jpg</td>\n",
       "      <td>['Drama']</td>\n",
       "      <td>0</td>\n",
       "      <td>0</td>\n",
       "      <td>0</td>\n",
       "      <td>0</td>\n",
       "      <td>1</td>\n",
       "      <td>0</td>\n",
       "      <td>0</td>\n",
       "      <td>0</td>\n",
       "    </tr>\n",
       "    <tr>\n",
       "      <th>4</th>\n",
       "      <td>frames\\Drama\\ZNnk9L2LSZI\\736.jpg</td>\n",
       "      <td>['Drama']</td>\n",
       "      <td>0</td>\n",
       "      <td>0</td>\n",
       "      <td>0</td>\n",
       "      <td>0</td>\n",
       "      <td>1</td>\n",
       "      <td>0</td>\n",
       "      <td>0</td>\n",
       "      <td>0</td>\n",
       "    </tr>\n",
       "  </tbody>\n",
       "</table>\n",
       "</div>"
      ],
      "text/plain": [
       "                                path      genre  Action  Adventure  Comedy  \\\n",
       "0  frames\\Drama\\ZNnk9L2LSZI\\1426.jpg  ['Drama']       0          0       0   \n",
       "1  frames\\Drama\\ZNnk9L2LSZI\\3036.jpg  ['Drama']       0          0       0   \n",
       "2    frames\\Drama\\ZNnk9L2LSZI\\46.jpg  ['Drama']       0          0       0   \n",
       "3  frames\\Drama\\ZNnk9L2LSZI\\3266.jpg  ['Drama']       0          0       0   \n",
       "4   frames\\Drama\\ZNnk9L2LSZI\\736.jpg  ['Drama']       0          0       0   \n",
       "\n",
       "   Crime  Drama  Horror  Romance  Thriller  \n",
       "0      0      1       0        0         0  \n",
       "1      0      1       0        0         0  \n",
       "2      0      1       0        0         0  \n",
       "3      0      1       0        0         0  \n",
       "4      0      1       0        0         0  "
      ]
     },
     "execution_count": 12,
     "metadata": {},
     "output_type": "execute_result"
    },
    {
     "data": {
      "image/png": "[encoded data removed]",
      "text/plain": [
       "<Figure size 1000x500 with 1 Axes>"
      ]
     },
     "metadata": {},
     "output_type": "display_data"
    }
   ],
   "source": [
    "# Merge tables and check the distribution of a test set\n",
    "\n",
    "df_test_separate_movies = pd.merge(df, df_path_no_file_test_separate_movies, on='path_no_file', how='inner')\n",
    "\n",
    "df_test_separate_movies = df_test_separate_movies[df_test_separate_movies.columns.tolist()[1:]]\n",
    "\n",
    "print(len(df_test_separate_movies))\n",
    "get_genre_distribution(df_test_separate_movies)\n",
    "\n",
    "df_test_separate_movies.head()"
   ]
  },
  {
   "cell_type": "code",
   "execution_count": 13,
   "metadata": {},
   "outputs": [],
   "source": [
    "# If the distribution is similar - save new .tsv files\n",
    "\n",
    "df_train_separate_movies.to_csv(r'..\\files\\data_train_separate_movies.tsv', sep=\"\\t\")\n",
    "df_test_separate_movies.to_csv(r'..\\files\\data_test_separate_movies.tsv', sep=\"\\t\")"
   ]
  },
  {
   "cell_type": "code",
   "execution_count": 14,
   "metadata": {},
   "outputs": [],
   "source": [
    "# Plot the distribution on one figure\n",
    "data_df = pd.read_csv(r'..\\files\\data.tsv', sep=\"\\t\")\n",
    "data_train_random_df = pd.read_csv(r'..\\files\\data_train_random.tsv', sep=\"\\t\")\n",
    "data_test_random_df = pd.read_csv(r'..\\files\\data_test_random.tsv', sep=\"\\t\")\n",
    "data_train_separate_movies_df = pd.read_csv(r'..\\files\\data_train_separate_movies.tsv', sep=\"\\t\")\n",
    "data_test_separate_movies_df = pd.read_csv(r'..\\files\\data_test_separate_movies.tsv', sep=\"\\t\")"
   ]
  },
  {
   "cell_type": "code",
   "execution_count": 15,
   "metadata": {},
   "outputs": [],
   "source": [
    "def get_genre_distribution_no_plot(df) -> dict:\n",
    "    \n",
    "    existing_genres = {}\n",
    "\n",
    "    # Loop over subfolders in the parent folder\n",
    "    for index, row in df.iterrows():\n",
    "        \n",
    "        genre = '_'.join(ast.literal_eval(row['genre']))\n",
    "            \n",
    "        if genre not in existing_genres:\n",
    "            existing_genres[genre] = 1\n",
    "        else:\n",
    "            existing_genres[genre] += 1\n",
    "\n",
    "\n",
    "    existing_genres = dict(sorted(existing_genres.items(), key=lambda x:x[1], reverse=True))\n",
    "    \n",
    "    \n",
    "    single_genre_list = []\n",
    "\n",
    "    for gen in existing_genres.keys():\n",
    "        \n",
    "        gen_list = gen.split('_')\n",
    "        \n",
    "        for g in gen_list:\n",
    "            \n",
    "            if g not in single_genre_list:\n",
    "                single_genre_list.append(g)\n",
    "    \n",
    "                \n",
    "    existing_single_genres = {}\n",
    "\n",
    "    for gen in single_genre_list:\n",
    "        \n",
    "        if gen not in existing_single_genres:\n",
    "            existing_single_genres[gen] = 0\n",
    "        \n",
    "        for g in existing_genres:\n",
    "            \n",
    "            if gen in g:\n",
    "                existing_single_genres[gen] += existing_genres[g]\n",
    "                \n",
    "    existing_single_genres = dict(sorted(existing_single_genres.items(), key=lambda x:x[1], reverse=True))\n",
    "\n",
    "    return existing_single_genres\n",
    "\n",
    "\n",
    "def normalize_dict(data_dict):\n",
    "    norm_dict = {}\n",
    "\n",
    "    for key in data_dict:\n",
    "        norm_value = float(data_dict[key])/max(data_dict.values())\n",
    "        norm_dict[key] = norm_value\n",
    "\n",
    "    return norm_dict"
   ]
  },
  {
   "cell_type": "code",
   "execution_count": 16,
   "metadata": {},
   "outputs": [],
   "source": [
    "data_genres = get_genre_distribution_no_plot(data_df)\n",
    "data_train_random_genres = get_genre_distribution_no_plot(data_train_random_df)\n",
    "data_test_random_genres = get_genre_distribution_no_plot(data_test_random_df)\n",
    "data_train_separate_movies_genres = get_genre_distribution_no_plot(data_train_separate_movies_df)\n",
    "data_test_separate_movies_genres = get_genre_distribution_no_plot(data_test_separate_movies_df)"
   ]
  },
  {
   "cell_type": "code",
   "execution_count": 17,
   "metadata": {},
   "outputs": [
    {
     "data": {
      "text/plain": [
       "{'Drama': 17729,\n",
       " 'Comedy': 16126,\n",
       " 'Action': 12526,\n",
       " 'Adventure': 12249,\n",
       " 'Horror': 5747,\n",
       " 'Crime': 4551,\n",
       " 'Thriller': 4121,\n",
       " 'Romance': 3993}"
      ]
     },
     "execution_count": 17,
     "metadata": {},
     "output_type": "execute_result"
    }
   ],
   "source": [
    "data_genres"
   ]
  },
  {
   "cell_type": "code",
   "execution_count": 18,
   "metadata": {},
   "outputs": [],
   "source": [
    "data_genres_norm = normalize_dict(data_genres)\n",
    "data_train_random_genres_norm = normalize_dict(data_train_random_genres)\n",
    "data_test_random_genres_norm = normalize_dict(data_test_random_genres)\n",
    "data_train_separate_movies_genres_norm = normalize_dict(data_train_separate_movies_genres)\n",
    "data_test_separate_movies_genres_norm = normalize_dict(data_test_separate_movies_genres)"
   ]
  },
  {
   "cell_type": "code",
   "execution_count": 19,
   "metadata": {},
   "outputs": [],
   "source": [
    "data_genres_norm = dict(sorted(data_genres_norm.items(), key=lambda x:x[1], reverse=False))\n",
    "data_train_random_genres_norm = dict(sorted(data_train_random_genres_norm.items(), key=lambda x:x[1], reverse=False))\n",
    "data_test_random_genres_norm = dict(sorted(data_test_random_genres_norm.items(), key=lambda x:x[1], reverse=False))\n",
    "data_train_separate_movies_genres_norm = dict(sorted(data_train_separate_movies_genres_norm.items(), key=lambda x:x[1], reverse=False))\n",
    "data_test_separate_movies_genres_norm = dict(sorted(data_test_separate_movies_genres_norm.items(), key=lambda x:x[1], reverse=False))"
   ]
  },
  {
   "cell_type": "code",
   "execution_count": 20,
   "metadata": {},
   "outputs": [
    {
     "data": {
      "text/plain": [
       "Text(0.5, 1.0, 'Occurence of different genres among datasets')"
      ]
     },
     "execution_count": 20,
     "metadata": {},
     "output_type": "execute_result"
    },
    {
     "data": {
      "image/png": "[encoded data removed]",
      "text/plain": [
       "<Figure size 600x800 with 1 Axes>"
      ]
     },
     "metadata": {},
     "output_type": "display_data"
    }
   ],
   "source": [
    "import numpy as np\n",
    "\n",
    "ind = np.arange(len(data_genres_norm))\n",
    "width = 0.17\n",
    "\n",
    "\n",
    "fig, ax = plt.subplots(figsize=(6, 8))\n",
    "ax.barh(ind - 1*width, data_genres_norm.values(), width, label='data.tsv')\n",
    "ax.barh(ind, data_train_random_genres_norm.values(), width, label='data_train_random.tsv')\n",
    "ax.barh(ind + width, data_test_random_genres_norm.values(), width, label='data_test_random.tsv')\n",
    "ax.barh(ind + 2*width, data_train_separate_movies_genres_norm.values(), width, label='data_train_separate_movies.tsv')\n",
    "ax.barh(ind + 3*width, data_test_separate_movies_genres_norm.values(), width, label='data_test_separate_movies.tsv')\n",
    "\n",
    "ax.set(yticks=ind + width, yticklabels=data_genres_norm.keys(), xticklabels=[], ylim=[2*width - 1, len(data_genres_norm)])\n",
    "ax.set_xticks([])\n",
    "ax.legend()\n",
    "\n",
    "ax.set_ylabel(\"Genres\")\n",
    "ax.set_xlabel(\"Occurrence\")\n",
    "ax.set_title(\"Occurence of different genres among datasets\")\n"
   ]
  }
 ],
 "metadata": {
  "kernelspec": {
   "display_name": "myenv",
   "language": "python",
   "name": "python3"
  },
  "language_info": {
   "codemirror_mode": {
    "name": "ipython",
    "version": 3
   },
   "file_extension": ".py",
   "mimetype": "text/x-python",
   "name": "python",
   "nbconvert_exporter": "python",
   "pygments_lexer": "ipython3",
   "version": "3.7.3"
  },
  "orig_nbformat": 4
 },
 "nbformat": 4,
 "nbformat_minor": 2
}
