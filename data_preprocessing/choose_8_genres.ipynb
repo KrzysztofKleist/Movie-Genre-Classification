{
 "cells": [
  {
   "attachments": {},
   "cell_type": "markdown",
   "metadata": {},
   "source": [
    "# It's needed to limit the number of classes in the dataset to focus on the most popular and represented ones"
   ]
  },
  {
   "cell_type": "code",
   "execution_count": 1,
   "metadata": {},
   "outputs": [],
   "source": [
    "import pandas as pd\n",
    "import copy"
   ]
  },
  {
   "cell_type": "code",
   "execution_count": 2,
   "metadata": {},
   "outputs": [
    {
     "data": {
      "text/html": [
       "<div>\n",
       "<style scoped>\n",
       "    .dataframe tbody tr th:only-of-type {\n",
       "        vertical-align: middle;\n",
       "    }\n",
       "\n",
       "    .dataframe tbody tr th {\n",
       "        vertical-align: top;\n",
       "    }\n",
       "\n",
       "    .dataframe thead th {\n",
       "        text-align: right;\n",
       "    }\n",
       "</style>\n",
       "<table border=\"1\" class=\"dataframe\">\n",
       "  <thead>\n",
       "    <tr style=\"text-align: right;\">\n",
       "      <th></th>\n",
       "      <th>Unnamed: 0</th>\n",
       "      <th>Unnamed: 0.1</th>\n",
       "      <th>Unnamed: 0.1.1</th>\n",
       "      <th>imdbid</th>\n",
       "      <th>title</th>\n",
       "      <th>clip_name</th>\n",
       "      <th>year</th>\n",
       "      <th>videoid</th>\n",
       "      <th>genre</th>\n",
       "    </tr>\n",
       "  </thead>\n",
       "  <tbody>\n",
       "    <tr>\n",
       "      <th>0</th>\n",
       "      <td>0</td>\n",
       "      <td>8568</td>\n",
       "      <td>2413</td>\n",
       "      <td>tt0102316</td>\n",
       "      <td>Little Man Tate</td>\n",
       "      <td>The Math Magician Scene</td>\n",
       "      <td>1991.0</td>\n",
       "      <td>RjDv_swo0rY</td>\n",
       "      <td>['Drama']</td>\n",
       "    </tr>\n",
       "    <tr>\n",
       "      <th>1</th>\n",
       "      <td>1</td>\n",
       "      <td>14859</td>\n",
       "      <td>21696</td>\n",
       "      <td>tt0299977</td>\n",
       "      <td>Hero</td>\n",
       "      <td>A 's Death</td>\n",
       "      <td>2002.0</td>\n",
       "      <td>KeTBqolcrO8</td>\n",
       "      <td>['Action', 'Adventure', 'History']</td>\n",
       "    </tr>\n",
       "    <tr>\n",
       "      <th>2</th>\n",
       "      <td>2</td>\n",
       "      <td>12859</td>\n",
       "      <td>19518</td>\n",
       "      <td>tt0266489</td>\n",
       "      <td>Duplex</td>\n",
       "      <td>Riverdance</td>\n",
       "      <td>2003.0</td>\n",
       "      <td>rrejfviNpqE</td>\n",
       "      <td>['Comedy']</td>\n",
       "    </tr>\n",
       "    <tr>\n",
       "      <th>3</th>\n",
       "      <td>3</td>\n",
       "      <td>13901</td>\n",
       "      <td>906</td>\n",
       "      <td>tt0279493</td>\n",
       "      <td>Undercover Brother</td>\n",
       "      <td>Race Chase Scene</td>\n",
       "      <td>2002.0</td>\n",
       "      <td>RMWfAkUhGCM</td>\n",
       "      <td>['Action', 'Comedy']</td>\n",
       "    </tr>\n",
       "    <tr>\n",
       "      <th>4</th>\n",
       "      <td>4</td>\n",
       "      <td>14831</td>\n",
       "      <td>11717</td>\n",
       "      <td>tt0186566</td>\n",
       "      <td>Space Cowboys</td>\n",
       "      <td>Landing the Shuttle</td>\n",
       "      <td>2000.0</td>\n",
       "      <td>rKHW39mShF4</td>\n",
       "      <td>['Action', 'Adventure', 'Thriller']</td>\n",
       "    </tr>\n",
       "  </tbody>\n",
       "</table>\n",
       "</div>"
      ],
      "text/plain": [
       "   Unnamed: 0  Unnamed: 0.1  Unnamed: 0.1.1     imdbid               title  \\\n",
       "0           0          8568            2413  tt0102316     Little Man Tate   \n",
       "1           1         14859           21696  tt0299977                Hero   \n",
       "2           2         12859           19518  tt0266489              Duplex   \n",
       "3           3         13901             906  tt0279493  Undercover Brother   \n",
       "4           4         14831           11717  tt0186566       Space Cowboys   \n",
       "\n",
       "                 clip_name    year      videoid  \\\n",
       "0  The Math Magician Scene  1991.0  RjDv_swo0rY   \n",
       "1               A 's Death  2002.0  KeTBqolcrO8   \n",
       "2               Riverdance  2003.0  rrejfviNpqE   \n",
       "3         Race Chase Scene  2002.0  RMWfAkUhGCM   \n",
       "4      Landing the Shuttle  2000.0  rKHW39mShF4   \n",
       "\n",
       "                                 genre  \n",
       "0                            ['Drama']  \n",
       "1   ['Action', 'Adventure', 'History']  \n",
       "2                           ['Comedy']  \n",
       "3                 ['Action', 'Comedy']  \n",
       "4  ['Action', 'Adventure', 'Thriller']  "
      ]
     },
     "execution_count": 2,
     "metadata": {},
     "output_type": "execute_result"
    }
   ],
   "source": [
    "all_df = pd.read_csv(r'..\\files\\movieclips_final.tsv', sep='\\t')\n",
    "all_df.head()"
   ]
  },
  {
   "attachments": {},
   "cell_type": "markdown",
   "metadata": {},
   "source": [
    "## Removing unnecessary columns"
   ]
  },
  {
   "cell_type": "code",
   "execution_count": 3,
   "metadata": {},
   "outputs": [
    {
     "data": {
      "text/html": [
       "<div>\n",
       "<style scoped>\n",
       "    .dataframe tbody tr th:only-of-type {\n",
       "        vertical-align: middle;\n",
       "    }\n",
       "\n",
       "    .dataframe tbody tr th {\n",
       "        vertical-align: top;\n",
       "    }\n",
       "\n",
       "    .dataframe thead th {\n",
       "        text-align: right;\n",
       "    }\n",
       "</style>\n",
       "<table border=\"1\" class=\"dataframe\">\n",
       "  <thead>\n",
       "    <tr style=\"text-align: right;\">\n",
       "      <th></th>\n",
       "      <th>imdbid</th>\n",
       "      <th>title</th>\n",
       "      <th>clip_name</th>\n",
       "      <th>year</th>\n",
       "      <th>videoid</th>\n",
       "      <th>genre</th>\n",
       "    </tr>\n",
       "  </thead>\n",
       "  <tbody>\n",
       "    <tr>\n",
       "      <th>0</th>\n",
       "      <td>tt0102316</td>\n",
       "      <td>Little Man Tate</td>\n",
       "      <td>The Math Magician Scene</td>\n",
       "      <td>1991.0</td>\n",
       "      <td>RjDv_swo0rY</td>\n",
       "      <td>['Drama']</td>\n",
       "    </tr>\n",
       "    <tr>\n",
       "      <th>1</th>\n",
       "      <td>tt0299977</td>\n",
       "      <td>Hero</td>\n",
       "      <td>A 's Death</td>\n",
       "      <td>2002.0</td>\n",
       "      <td>KeTBqolcrO8</td>\n",
       "      <td>['Action', 'Adventure', 'History']</td>\n",
       "    </tr>\n",
       "    <tr>\n",
       "      <th>2</th>\n",
       "      <td>tt0266489</td>\n",
       "      <td>Duplex</td>\n",
       "      <td>Riverdance</td>\n",
       "      <td>2003.0</td>\n",
       "      <td>rrejfviNpqE</td>\n",
       "      <td>['Comedy']</td>\n",
       "    </tr>\n",
       "    <tr>\n",
       "      <th>3</th>\n",
       "      <td>tt0279493</td>\n",
       "      <td>Undercover Brother</td>\n",
       "      <td>Race Chase Scene</td>\n",
       "      <td>2002.0</td>\n",
       "      <td>RMWfAkUhGCM</td>\n",
       "      <td>['Action', 'Comedy']</td>\n",
       "    </tr>\n",
       "    <tr>\n",
       "      <th>4</th>\n",
       "      <td>tt0186566</td>\n",
       "      <td>Space Cowboys</td>\n",
       "      <td>Landing the Shuttle</td>\n",
       "      <td>2000.0</td>\n",
       "      <td>rKHW39mShF4</td>\n",
       "      <td>['Action', 'Adventure', 'Thriller']</td>\n",
       "    </tr>\n",
       "  </tbody>\n",
       "</table>\n",
       "</div>"
      ],
      "text/plain": [
       "      imdbid               title                clip_name    year  \\\n",
       "0  tt0102316     Little Man Tate  The Math Magician Scene  1991.0   \n",
       "1  tt0299977                Hero               A 's Death  2002.0   \n",
       "2  tt0266489              Duplex               Riverdance  2003.0   \n",
       "3  tt0279493  Undercover Brother         Race Chase Scene  2002.0   \n",
       "4  tt0186566       Space Cowboys      Landing the Shuttle  2000.0   \n",
       "\n",
       "       videoid                                genre  \n",
       "0  RjDv_swo0rY                            ['Drama']  \n",
       "1  KeTBqolcrO8   ['Action', 'Adventure', 'History']  \n",
       "2  rrejfviNpqE                           ['Comedy']  \n",
       "3  RMWfAkUhGCM                 ['Action', 'Comedy']  \n",
       "4  rKHW39mShF4  ['Action', 'Adventure', 'Thriller']  "
      ]
     },
     "execution_count": 3,
     "metadata": {},
     "output_type": "execute_result"
    }
   ],
   "source": [
    "all_df = all_df[['imdbid', 'title', 'clip_name', 'year', 'videoid', 'genre']]\n",
    "all_df.head()"
   ]
  },
  {
   "attachments": {},
   "cell_type": "markdown",
   "metadata": {},
   "source": [
    "## Creating a dictionary of unique genres and number of their appearances"
   ]
  },
  {
   "cell_type": "code",
   "execution_count": 4,
   "metadata": {},
   "outputs": [],
   "source": [
    "genres_dict = {}\n",
    "\n",
    "for index, row in all_df.iterrows():\n",
    "    \n",
    "    gen_list = row['genre'].replace('[', '').replace(']', '').replace('\\'', '').replace(' ', '').split(',')\n",
    "    \n",
    "    for gen in gen_list:\n",
    "        \n",
    "        if gen in genres_dict:\n",
    "            genres_dict[gen] += 1\n",
    "        else:\n",
    "            genres_dict[gen] = 1"
   ]
  },
  {
   "cell_type": "code",
   "execution_count": 5,
   "metadata": {},
   "outputs": [
    {
     "name": "stdout",
     "output_type": "stream",
     "text": [
      "{'Drama': 6945, 'Action': 4340, 'Adventure': 3305, 'History': 309, 'Comedy': 7512, 'Thriller': 2214, 'Fantasy': 1468, 'Sci-Fi': 1436, 'Crime': 2976, 'Romance': 3083, 'Biography': 756, 'Western': 270, 'Horror': 1718, 'Mystery': 1195, 'Documentary': 124, 'War': 275, 'Musical': 283, 'Sport': 494, 'Animation': 699, 'Family': 1057, 'Music': 474, 'Short': 6, 'Film-Noir': 74}\n",
      "23\n"
     ]
    }
   ],
   "source": [
    "print(genres_dict)\n",
    "print(len(genres_dict))"
   ]
  },
  {
   "attachments": {},
   "cell_type": "markdown",
   "metadata": {},
   "source": [
    "## Sort the elements of dictionary and take 8 the most often reappearnig"
   ]
  },
  {
   "cell_type": "code",
   "execution_count": 6,
   "metadata": {},
   "outputs": [
    {
     "name": "stdout",
     "output_type": "stream",
     "text": [
      "{'Comedy': 7512, 'Drama': 6945, 'Action': 4340, 'Adventure': 3305, 'Romance': 3083, 'Crime': 2976, 'Thriller': 2214, 'Horror': 1718}\n",
      "['Comedy', 'Drama', 'Action', 'Adventure', 'Romance', 'Crime', 'Thriller', 'Horror']\n"
     ]
    }
   ],
   "source": [
    "genres_dict = sorted(genres_dict.items(), key=lambda x:x[1], reverse=True)[:8]\n",
    "genres_dict = dict(genres_dict)\n",
    "print(genres_dict)\n",
    "genres_list = list(genres_dict.keys())\n",
    "print(genres_list)"
   ]
  },
  {
   "attachments": {},
   "cell_type": "markdown",
   "metadata": {},
   "source": [
    "## Remove the links from the dataframe that don't belong to any of these genres and remove the genres that we don't consider from each link genre list"
   ]
  },
  {
   "cell_type": "code",
   "execution_count": 7,
   "metadata": {},
   "outputs": [],
   "source": [
    "valid_genres_df = pd.DataFrame(columns=all_df.columns)\n",
    "for index, row in all_df.iterrows():\n",
    "    \n",
    "    gen_list = row['genre'].replace('[', '').replace(']', '').replace('\\'', '').replace(' ', '').split(',')\n",
    "    new_gen_list = []\n",
    "    \n",
    "    for gen in gen_list:\n",
    "        \n",
    "        if gen in genres_list:\n",
    "            new_gen_list.append(gen)\n",
    "            \n",
    "    if new_gen_list != []:\n",
    "        new_row = copy.deepcopy(row)\n",
    "        new_row['genre'] = new_gen_list\n",
    "        valid_genres_df = valid_genres_df.append(new_row, ignore_index=True)"
   ]
  },
  {
   "cell_type": "code",
   "execution_count": 8,
   "metadata": {},
   "outputs": [
    {
     "data": {
      "text/html": [
       "<div>\n",
       "<style scoped>\n",
       "    .dataframe tbody tr th:only-of-type {\n",
       "        vertical-align: middle;\n",
       "    }\n",
       "\n",
       "    .dataframe tbody tr th {\n",
       "        vertical-align: top;\n",
       "    }\n",
       "\n",
       "    .dataframe thead th {\n",
       "        text-align: right;\n",
       "    }\n",
       "</style>\n",
       "<table border=\"1\" class=\"dataframe\">\n",
       "  <thead>\n",
       "    <tr style=\"text-align: right;\">\n",
       "      <th></th>\n",
       "      <th>imdbid</th>\n",
       "      <th>title</th>\n",
       "      <th>clip_name</th>\n",
       "      <th>year</th>\n",
       "      <th>videoid</th>\n",
       "      <th>genre</th>\n",
       "    </tr>\n",
       "  </thead>\n",
       "  <tbody>\n",
       "    <tr>\n",
       "      <th>0</th>\n",
       "      <td>tt0102316</td>\n",
       "      <td>Little Man Tate</td>\n",
       "      <td>The Math Magician Scene</td>\n",
       "      <td>1991.0</td>\n",
       "      <td>RjDv_swo0rY</td>\n",
       "      <td>[Drama]</td>\n",
       "    </tr>\n",
       "    <tr>\n",
       "      <th>1</th>\n",
       "      <td>tt0299977</td>\n",
       "      <td>Hero</td>\n",
       "      <td>A 's Death</td>\n",
       "      <td>2002.0</td>\n",
       "      <td>KeTBqolcrO8</td>\n",
       "      <td>[Action, Adventure]</td>\n",
       "    </tr>\n",
       "    <tr>\n",
       "      <th>2</th>\n",
       "      <td>tt0266489</td>\n",
       "      <td>Duplex</td>\n",
       "      <td>Riverdance</td>\n",
       "      <td>2003.0</td>\n",
       "      <td>rrejfviNpqE</td>\n",
       "      <td>[Comedy]</td>\n",
       "    </tr>\n",
       "    <tr>\n",
       "      <th>3</th>\n",
       "      <td>tt0279493</td>\n",
       "      <td>Undercover Brother</td>\n",
       "      <td>Race Chase Scene</td>\n",
       "      <td>2002.0</td>\n",
       "      <td>RMWfAkUhGCM</td>\n",
       "      <td>[Action, Comedy]</td>\n",
       "    </tr>\n",
       "    <tr>\n",
       "      <th>4</th>\n",
       "      <td>tt0186566</td>\n",
       "      <td>Space Cowboys</td>\n",
       "      <td>Landing the Shuttle</td>\n",
       "      <td>2000.0</td>\n",
       "      <td>rKHW39mShF4</td>\n",
       "      <td>[Action, Adventure, Thriller]</td>\n",
       "    </tr>\n",
       "    <tr>\n",
       "      <th>...</th>\n",
       "      <td>...</td>\n",
       "      <td>...</td>\n",
       "      <td>...</td>\n",
       "      <td>...</td>\n",
       "      <td>...</td>\n",
       "      <td>...</td>\n",
       "    </tr>\n",
       "    <tr>\n",
       "      <th>16099</th>\n",
       "      <td>tt0363547</td>\n",
       "      <td>Dawn of the Dead</td>\n",
       "      <td>Blow My Head Off</td>\n",
       "      <td>2004.0</td>\n",
       "      <td>TS6_Y6r5r-8</td>\n",
       "      <td>[Action, Horror]</td>\n",
       "    </tr>\n",
       "    <tr>\n",
       "      <th>16100</th>\n",
       "      <td>tt0289879</td>\n",
       "      <td>The Butterfly Effect</td>\n",
       "      <td>Healing the Scars</td>\n",
       "      <td>2004.0</td>\n",
       "      <td>2L2dyDpd7LA</td>\n",
       "      <td>[Drama, Thriller]</td>\n",
       "    </tr>\n",
       "    <tr>\n",
       "      <th>16101</th>\n",
       "      <td>tt0094862</td>\n",
       "      <td>Child's Play</td>\n",
       "      <td>Charred Chucky Scene</td>\n",
       "      <td>1988.0</td>\n",
       "      <td>goyoOGbDjNM</td>\n",
       "      <td>[Horror, Thriller]</td>\n",
       "    </tr>\n",
       "    <tr>\n",
       "      <th>16102</th>\n",
       "      <td>tt0110622</td>\n",
       "      <td>Naked Gun 33 1/3: The Final Insult</td>\n",
       "      <td>The Untouchables</td>\n",
       "      <td>1994.0</td>\n",
       "      <td>YwM7NgPE5lw</td>\n",
       "      <td>[Comedy, Crime]</td>\n",
       "    </tr>\n",
       "    <tr>\n",
       "      <th>16103</th>\n",
       "      <td>tt0319343</td>\n",
       "      <td>Elf</td>\n",
       "      <td>Buddy Realizes He's Human</td>\n",
       "      <td>2003.0</td>\n",
       "      <td>dJU1SZIfK3Y</td>\n",
       "      <td>[Comedy]</td>\n",
       "    </tr>\n",
       "  </tbody>\n",
       "</table>\n",
       "<p>16104 rows × 6 columns</p>\n",
       "</div>"
      ],
      "text/plain": [
       "          imdbid                               title  \\\n",
       "0      tt0102316                     Little Man Tate   \n",
       "1      tt0299977                                Hero   \n",
       "2      tt0266489                              Duplex   \n",
       "3      tt0279493                  Undercover Brother   \n",
       "4      tt0186566                       Space Cowboys   \n",
       "...          ...                                 ...   \n",
       "16099  tt0363547                    Dawn of the Dead   \n",
       "16100  tt0289879                The Butterfly Effect   \n",
       "16101  tt0094862                        Child's Play   \n",
       "16102  tt0110622  Naked Gun 33 1/3: The Final Insult   \n",
       "16103  tt0319343                                 Elf   \n",
       "\n",
       "                       clip_name    year      videoid  \\\n",
       "0        The Math Magician Scene  1991.0  RjDv_swo0rY   \n",
       "1                     A 's Death  2002.0  KeTBqolcrO8   \n",
       "2                     Riverdance  2003.0  rrejfviNpqE   \n",
       "3               Race Chase Scene  2002.0  RMWfAkUhGCM   \n",
       "4            Landing the Shuttle  2000.0  rKHW39mShF4   \n",
       "...                          ...     ...          ...   \n",
       "16099           Blow My Head Off  2004.0  TS6_Y6r5r-8   \n",
       "16100          Healing the Scars  2004.0  2L2dyDpd7LA   \n",
       "16101       Charred Chucky Scene  1988.0  goyoOGbDjNM   \n",
       "16102           The Untouchables  1994.0  YwM7NgPE5lw   \n",
       "16103  Buddy Realizes He's Human  2003.0  dJU1SZIfK3Y   \n",
       "\n",
       "                               genre  \n",
       "0                            [Drama]  \n",
       "1                [Action, Adventure]  \n",
       "2                           [Comedy]  \n",
       "3                   [Action, Comedy]  \n",
       "4      [Action, Adventure, Thriller]  \n",
       "...                              ...  \n",
       "16099               [Action, Horror]  \n",
       "16100              [Drama, Thriller]  \n",
       "16101             [Horror, Thriller]  \n",
       "16102                [Comedy, Crime]  \n",
       "16103                       [Comedy]  \n",
       "\n",
       "[16104 rows x 6 columns]"
      ]
     },
     "execution_count": 8,
     "metadata": {},
     "output_type": "execute_result"
    }
   ],
   "source": [
    "valid_genres_df"
   ]
  },
  {
   "attachments": {},
   "cell_type": "markdown",
   "metadata": {},
   "source": [
    "## At the end I obtain 16104 links"
   ]
  },
  {
   "cell_type": "code",
   "execution_count": 9,
   "metadata": {},
   "outputs": [],
   "source": [
    "valid_genres_df.to_csv(r'..\\files\\movieclips_reduced.tsv', sep=\"\\t\")"
   ]
  },
  {
   "attachments": {},
   "cell_type": "markdown",
   "metadata": {},
   "source": [
    "## Display the distribution of the data"
   ]
  },
  {
   "cell_type": "code",
   "execution_count": 10,
   "metadata": {},
   "outputs": [],
   "source": [
    "import os\n",
    "\n",
    "parent_folder = r'D:\\frames'\n",
    "\n",
    "existing_genres = {}\n",
    "\n",
    "# Loop over subfolders in the parent folder\n",
    "for subfolder in os.listdir(parent_folder):\n",
    "    \n",
    "    subfolder_path = os.path.join(parent_folder, subfolder)\n",
    "        \n",
    "    if subfolder not in existing_genres:\n",
    "        existing_genres[subfolder] = 0\n",
    "    \n",
    "    if os.path.isdir(subfolder_path):\n",
    "        # Loop over sub-subfolders in the subfolder\n",
    "        \n",
    "        for subsubfolder in os.listdir(subfolder_path):\n",
    "            \n",
    "            subsubfolder_path = os.path.join(subfolder_path, subsubfolder)\n",
    "            # Loop over frames in the subfolder\n",
    "            for frame in os.listdir(subsubfolder_path):\n",
    "                \n",
    "                existing_genres[subfolder] += 1"
   ]
  },
  {
   "cell_type": "code",
   "execution_count": 11,
   "metadata": {},
   "outputs": [],
   "source": [
    "existing_genres = dict(sorted(existing_genres.items(), key=lambda x:x[1], reverse=True))"
   ]
  },
  {
   "cell_type": "code",
   "execution_count": 12,
   "metadata": {},
   "outputs": [],
   "source": [
    "single_genre_list = []\n",
    "\n",
    "for gen in existing_genres.keys():\n",
    "    \n",
    "    gen_list = gen.split('_')\n",
    "    \n",
    "    for g in gen_list:\n",
    "        \n",
    "        if g not in single_genre_list:\n",
    "            single_genre_list.append(g)"
   ]
  },
  {
   "cell_type": "code",
   "execution_count": 13,
   "metadata": {},
   "outputs": [],
   "source": [
    "existing_single_genres = {}\n",
    "\n",
    "for gen in single_genre_list:\n",
    "    \n",
    "    if gen not in existing_single_genres:\n",
    "        existing_single_genres[gen] = 0\n",
    "    \n",
    "    for g in existing_genres:\n",
    "        \n",
    "        if gen in g:\n",
    "            existing_single_genres[gen] += existing_genres[g]"
   ]
  },
  {
   "cell_type": "code",
   "execution_count": 14,
   "metadata": {},
   "outputs": [],
   "source": [
    "existing_single_genres = dict(sorted(existing_single_genres.items(), key=lambda x:x[1], reverse=True))"
   ]
  },
  {
   "cell_type": "code",
   "execution_count": 15,
   "metadata": {},
   "outputs": [
    {
     "name": "stdout",
     "output_type": "stream",
     "text": [
      "{'Drama': 5931, 'Action_Adventure': 5319, 'Comedy': 4052, 'Adventure_Comedy': 3979, 'Comedy_Drama': 3090, 'Crime_Drama': 2329, 'Action_Drama': 1746, 'Comedy_Romance': 1740, 'Drama_Romance': 1683, 'Adventure_Drama': 1478, 'Horror_Thriller': 1361, 'Horror': 1327, 'Adventure': 1276, 'Action': 1248, 'Action_Thriller': 1204, 'Action_Comedy': 1160, 'Comedy_Horror': 1072, 'Action_Crime': 919, 'Comedy_Crime': 902, 'Action_Horror': 859, 'Drama_Horror': 793, 'Drama_Thriller': 679, 'Thriller': 455, 'Romance': 203, 'Romance_Thriller': 168, 'Crime': 156, 'Adventure_Horror': 154, 'Comedy_Thriller': 131, 'Crime_Horror': 109, 'Crime_Thriller': 80, 'Horror_Romance': 72, 'Action_Romance': 71, 'Crime_Romance': 56, 'Adventure_Thriller': 43}\n"
     ]
    }
   ],
   "source": [
    "print(existing_genres)"
   ]
  },
  {
   "cell_type": "code",
   "execution_count": 32,
   "metadata": {},
   "outputs": [],
   "source": [
    "# import matplotlib.pyplot as plt\n",
    "\n",
    "# for start, end in [(0, 8), (8, 16), (16, 25), (25, len(existing_genres))]:\n",
    "    \n",
    "#     plt.figure(figsize = (20, 5))\n",
    "\n",
    "#     plt.bar(list(existing_genres.keys())[start:end], list(existing_genres.values())[start:end])\n",
    "    \n",
    "#     plt.ylim([0, 6000])\n",
    "    \n",
    "#     plt.xlabel(\"Combination of genres\")\n",
    "#     plt.ylabel(\"Occurrence\")\n",
    "#     plt.title(\"Occurence of different combinations of genres\")\n",
    "    "
   ]
  },
  {
   "cell_type": "code",
   "execution_count": 33,
   "metadata": {},
   "outputs": [
    {
     "data": {
      "text/plain": [
       "Text(0.5, 1.0, 'Occurence of different combinations of genres')"
      ]
     },
     "execution_count": 33,
     "metadata": {},
     "output_type": "execute_result"
    },
    {
     "data": {
      "image/png": "[encoded data removed]",
      "text/plain": [
       "<Figure size 600x1000 with 1 Axes>"
      ]
     },
     "metadata": {},
     "output_type": "display_data"
    }
   ],
   "source": [
    "import matplotlib.pyplot as plt\n",
    "    \n",
    "existing_genres = dict(sorted(existing_genres.items(), key=lambda x:x[1], reverse=False))\n",
    "    \n",
    "plt.figure(figsize = (6, 10))\n",
    "\n",
    "plt.barh(list(existing_genres.keys()), list(existing_genres.values()))\n",
    "\n",
    "plt.ylabel(\"Combination of genres\")\n",
    "plt.xlabel(\"Occurrence\")\n",
    "plt.title(\"Occurence of different combinations of genres\")"
   ]
  },
  {
   "cell_type": "code",
   "execution_count": 17,
   "metadata": {},
   "outputs": [
    {
     "data": {
      "text/plain": [
       "Text(0.5, 1.0, 'Occurence of genres')"
      ]
     },
     "execution_count": 17,
     "metadata": {},
     "output_type": "execute_result"
    },
    {
     "data": {
      "image/png": "[encoded data removed]",
      "text/plain": [
       "<Figure size 1000x500 with 1 Axes>"
      ]
     },
     "metadata": {},
     "output_type": "display_data"
    }
   ],
   "source": [
    "plt.figure(figsize = (10, 5))\n",
    "\n",
    "plt.bar(existing_single_genres.keys(), existing_single_genres.values())\n",
    " \n",
    "plt.xlabel(\"Genres\")\n",
    "plt.ylabel(\"Occurrence\")\n",
    "plt.title(\"Occurence of genres\")"
   ]
  },
  {
   "cell_type": "code",
   "execution_count": null,
   "metadata": {},
   "outputs": [],
   "source": []
  }
 ],
 "metadata": {
  "kernelspec": {
   "display_name": "myenv",
   "language": "python",
   "name": "python3"
  },
  "language_info": {
   "codemirror_mode": {
    "name": "ipython",
    "version": 3
   },
   "file_extension": ".py",
   "mimetype": "text/x-python",
   "name": "python",
   "nbconvert_exporter": "python",
   "pygments_lexer": "ipython3",
   "version": "3.7.3"
  },
  "orig_nbformat": 4
 },
 "nbformat": 4,
 "nbformat_minor": 2
}
