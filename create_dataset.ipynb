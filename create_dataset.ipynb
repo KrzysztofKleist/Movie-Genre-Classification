{
 "cells": [
  {
   "attachments": {},
   "cell_type": "markdown",
   "metadata": {},
   "source": [
    "# Creating the dataset for Movie Posters genre classification\n"
   ]
  },
  {
   "attachments": {},
   "cell_type": "markdown",
   "metadata": {},
   "source": [
    "**Unzipping the archive.zip**\n"
   ]
  },
  {
   "cell_type": "code",
   "execution_count": 1,
   "metadata": {},
   "outputs": [],
   "source": [
    "import zipfile\n"
   ]
  },
  {
   "cell_type": "code",
   "execution_count": 2,
   "metadata": {},
   "outputs": [],
   "source": [
    "with zipfile.ZipFile('C:\\\\Users\\\\krzys\\\\Desktop\\\\Thesis\\\\code\\\\archive.zip', 'r') as zip_ref:\n",
    "    zip_ref.extractall('C:\\\\Users\\\\krzys\\\\Desktop\\\\Thesis\\\\code\\\\archive')\n"
   ]
  },
  {
   "attachments": {},
   "cell_type": "markdown",
   "metadata": {},
   "source": [
    "**Accessing the CSV file to retrieve file name and genres**"
   ]
  },
  {
   "cell_type": "code",
   "execution_count": 3,
   "metadata": {},
   "outputs": [],
   "source": [
    "import csv\n"
   ]
  },
  {
   "cell_type": "code",
   "execution_count": 4,
   "metadata": {},
   "outputs": [],
   "source": [
    "# moving posters to the destination file with label\n",
    "import shutil\n",
    "import os\n",
    "\n",
    "\n",
    "def progress_bar(current, total, bar_length=20):\n",
    "    fraction = current / total\n",
    "\n",
    "    arrow = int(fraction * bar_length - 1) * '-' + '>'\n",
    "    padding = int(bar_length - len(arrow)) * ' '\n",
    "\n",
    "    ending = '\\n' if current == total else '\\r'\n",
    "\n",
    "    print(f'Progress: [{arrow}{padding}] {int(fraction*100)}%', end=ending)\n",
    "\n",
    "\n",
    "def copy_to_dir(src: str, dst: str):\n",
    "    dst_folder = dst.split('\\\\')[:-1]\n",
    "    dst_path = ''\n",
    "    for word in dst_folder:\n",
    "        dst_path += word + '\\\\'\n",
    "    dst_path = dst_path[:-1]\n",
    "\n",
    "    if not os.path.exists(dst_path):\n",
    "        os.mkdir(dst_path)\n",
    "    shutil.copyfile(src, dst)\n"
   ]
  },
  {
   "cell_type": "code",
   "execution_count": 5,
   "metadata": {},
   "outputs": [
    {
     "name": "stdout",
     "output_type": "stream",
     "text": [
      "Progress: [------------------->] 100%\n",
      "Processed 40109 lines.\n",
      "Found 824 corrupted images.\n",
      "Found 145 images without assigned genre.\n",
      "In the end 39140 correct images.\n"
     ]
    }
   ],
   "source": [
    "import sys\n",
    "from PIL import Image\n",
    "\n",
    "\n",
    "source_dir = r'C:\\Users\\krzys\\Desktop\\Thesis\\code\\archive\\SampleMoviePosters\\\\'\n",
    "dest_dir = r'C:\\Users\\krzys\\Desktop\\Thesis\\code\\movie_posters_dataset\\\\'\n",
    "\n",
    "with open(r'C:\\Users\\krzys\\Desktop\\Thesis\\code\\archive\\MovieGenre.csv', encoding='cp850') as csv_file:\n",
    "    csv_reader = csv.reader(csv_file)\n",
    "    line_count = 0\n",
    "    corrupted_count = 0\n",
    "    no_genre_count = 0\n",
    "    for row in csv_reader:  # 40109 rows\n",
    "        line_count += 1\n",
    "\n",
    "        if line_count == 0:  # skipping header\n",
    "            line_count += 1\n",
    "        else:\n",
    "\n",
    "            if row[4] == '':  # removing images with no genre assigned\n",
    "                no_genre_count = no_genre_count + 1\n",
    "                continue\n",
    "\n",
    "            try:\n",
    "                # check for corrupted files\n",
    "                img = Image.open(source_dir + row[0] + '.jpg')\n",
    "                img.verify()\n",
    "                img.close()\n",
    "                genres = row[4].split('|')  # str of genres to the list\n",
    "\n",
    "                for genre in genres:  # for creation of separate folders of label\\poster.jpg\n",
    "                    copy_to_dir(\n",
    "                        source_dir + row[0] + '.jpg', dest_dir + genre + '\\\\' + row[0] + '.jpg')\n",
    "\n",
    "            except (IOError, SyntaxError) as e:\n",
    "                # print('Corrupted file: ' + row[0] + ' ' + row[2])\n",
    "                corrupted_count = corrupted_count + 1\n",
    "\n",
    "        progress_bar(line_count, 40109)\n",
    "    print(f'Processed {line_count} lines.\\nFound {corrupted_count} corrupted images.\\nFound {no_genre_count} images without assigned genre.\\nIn the end {line_count - corrupted_count - no_genre_count} correct images.')\n"
   ]
  },
  {
   "attachments": {},
   "cell_type": "markdown",
   "metadata": {},
   "source": [
    "**Creating .txt file with labels**"
   ]
  },
  {
   "cell_type": "code",
   "execution_count": 6,
   "metadata": {},
   "outputs": [],
   "source": [
    "folder = r'C:\\\\Users\\\\krzys\\\\Desktop\\\\Thesis\\\\code\\\\movie_posters_dataset'\n",
    "\n",
    "sub_folders = [name for name in os.listdir(\n",
    "    folder) if os.path.isdir(os.path.join(folder, name))]\n"
   ]
  },
  {
   "cell_type": "code",
   "execution_count": 7,
   "metadata": {},
   "outputs": [],
   "source": [
    "file = open('train.txt', 'w')\n",
    "DIR = r'movie_posters_dataset\\\\'\n",
    "\n",
    "for sf in sub_folders:\n",
    "    for name in os.listdir(DIR + sf):\n",
    "        file.writelines(sf + '/' + name + '\\n')\n",
    "\n",
    "file.close()\n"
   ]
  },
  {
   "cell_type": "code",
   "execution_count": null,
   "metadata": {},
   "outputs": [],
   "source": []
  }
 ],
 "metadata": {
  "kernelspec": {
   "display_name": "Python 3",
   "language": "python",
   "name": "python3"
  },
  "language_info": {
   "codemirror_mode": {
    "name": "ipython",
    "version": 3
   },
   "file_extension": ".py",
   "mimetype": "text/x-python",
   "name": "python",
   "nbconvert_exporter": "python",
   "pygments_lexer": "ipython3",
   "version": "3.10.2"
  },
  "orig_nbformat": 4,
  "vscode": {
   "interpreter": {
    "hash": "369f2c481f4da34e4445cda3fffd2e751bd1c4d706f27375911949ba6bb62e1c"
   }
  }
 },
 "nbformat": 4,
 "nbformat_minor": 2
}
